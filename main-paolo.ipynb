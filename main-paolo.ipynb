{
 "cells": [
  {
   "cell_type": "markdown",
   "metadata": {},
   "source": [
    "# Home Credit Default Risk"
   ]
  },
  {
   "cell_type": "markdown",
   "metadata": {},
   "source": [
    "### Loading the data"
   ]
  },
  {
   "cell_type": "code",
   "execution_count": 1,
   "metadata": {},
   "outputs": [],
   "source": [
    "import pandas as pd\n",
    "import numpy as np\n",
    "import matplotlib.pyplot as plt\n",
    "import seaborn as sns"
   ]
  },
  {
   "cell_type": "code",
   "execution_count": 2,
   "metadata": {},
   "outputs": [],
   "source": [
    "datapath = 'home-credit-default-risk/data'"
   ]
  },
  {
   "cell_type": "code",
   "execution_count": 3,
   "metadata": {},
   "outputs": [],
   "source": [
    "app_train = pd.read_csv(datapath + r'/application_train.csv')\n",
    "app_test = pd.read_csv(datapath + r'/application_test.csv')"
   ]
  },
  {
   "cell_type": "code",
   "execution_count": 4,
   "metadata": {},
   "outputs": [],
   "source": [
    "# loading data\n",
    "bureau = pd.read_csv(datapath + r'/bureau.csv')\n",
    "bureau_balance = pd.read_csv(datapath + r'/bureau_balance.csv')\n",
    "credit_card_balance = pd.read_csv(datapath + r'/credit_card_balance.csv')\n",
    "payments = pd.read_csv(datapath + r'/installments_payments.csv')\n",
    "psb = pd.read_csv(datapath + r'/POS_CASH_balance.csv')\n",
    "prev_app = pd.read_csv(datapath + r'/previous_application.csv')"
   ]
  },
  {
   "cell_type": "code",
   "execution_count": 5,
   "metadata": {},
   "outputs": [
    {
     "data": {
      "text/html": [
       "<div>\n",
       "<style scoped>\n",
       "    .dataframe tbody tr th:only-of-type {\n",
       "        vertical-align: middle;\n",
       "    }\n",
       "\n",
       "    .dataframe tbody tr th {\n",
       "        vertical-align: top;\n",
       "    }\n",
       "\n",
       "    .dataframe thead th {\n",
       "        text-align: right;\n",
       "    }\n",
       "</style>\n",
       "<table border=\"1\" class=\"dataframe\">\n",
       "  <thead>\n",
       "    <tr style=\"text-align: right;\">\n",
       "      <th></th>\n",
       "      <th>SK_ID_CURR</th>\n",
       "      <th>TARGET</th>\n",
       "      <th>NAME_CONTRACT_TYPE</th>\n",
       "      <th>CODE_GENDER</th>\n",
       "      <th>FLAG_OWN_CAR</th>\n",
       "      <th>FLAG_OWN_REALTY</th>\n",
       "      <th>CNT_CHILDREN</th>\n",
       "      <th>AMT_INCOME_TOTAL</th>\n",
       "      <th>AMT_CREDIT</th>\n",
       "      <th>AMT_ANNUITY</th>\n",
       "      <th>...</th>\n",
       "      <th>FLAG_DOCUMENT_18</th>\n",
       "      <th>FLAG_DOCUMENT_19</th>\n",
       "      <th>FLAG_DOCUMENT_20</th>\n",
       "      <th>FLAG_DOCUMENT_21</th>\n",
       "      <th>AMT_REQ_CREDIT_BUREAU_HOUR</th>\n",
       "      <th>AMT_REQ_CREDIT_BUREAU_DAY</th>\n",
       "      <th>AMT_REQ_CREDIT_BUREAU_WEEK</th>\n",
       "      <th>AMT_REQ_CREDIT_BUREAU_MON</th>\n",
       "      <th>AMT_REQ_CREDIT_BUREAU_QRT</th>\n",
       "      <th>AMT_REQ_CREDIT_BUREAU_YEAR</th>\n",
       "    </tr>\n",
       "  </thead>\n",
       "  <tbody>\n",
       "    <tr>\n",
       "      <th>0</th>\n",
       "      <td>100002</td>\n",
       "      <td>1</td>\n",
       "      <td>Cash loans</td>\n",
       "      <td>M</td>\n",
       "      <td>N</td>\n",
       "      <td>Y</td>\n",
       "      <td>0</td>\n",
       "      <td>202500.0</td>\n",
       "      <td>406597.5</td>\n",
       "      <td>24700.5</td>\n",
       "      <td>...</td>\n",
       "      <td>0</td>\n",
       "      <td>0</td>\n",
       "      <td>0</td>\n",
       "      <td>0</td>\n",
       "      <td>0.0</td>\n",
       "      <td>0.0</td>\n",
       "      <td>0.0</td>\n",
       "      <td>0.0</td>\n",
       "      <td>0.0</td>\n",
       "      <td>1.0</td>\n",
       "    </tr>\n",
       "    <tr>\n",
       "      <th>1</th>\n",
       "      <td>100003</td>\n",
       "      <td>0</td>\n",
       "      <td>Cash loans</td>\n",
       "      <td>F</td>\n",
       "      <td>N</td>\n",
       "      <td>N</td>\n",
       "      <td>0</td>\n",
       "      <td>270000.0</td>\n",
       "      <td>1293502.5</td>\n",
       "      <td>35698.5</td>\n",
       "      <td>...</td>\n",
       "      <td>0</td>\n",
       "      <td>0</td>\n",
       "      <td>0</td>\n",
       "      <td>0</td>\n",
       "      <td>0.0</td>\n",
       "      <td>0.0</td>\n",
       "      <td>0.0</td>\n",
       "      <td>0.0</td>\n",
       "      <td>0.0</td>\n",
       "      <td>0.0</td>\n",
       "    </tr>\n",
       "    <tr>\n",
       "      <th>2</th>\n",
       "      <td>100004</td>\n",
       "      <td>0</td>\n",
       "      <td>Revolving loans</td>\n",
       "      <td>M</td>\n",
       "      <td>Y</td>\n",
       "      <td>Y</td>\n",
       "      <td>0</td>\n",
       "      <td>67500.0</td>\n",
       "      <td>135000.0</td>\n",
       "      <td>6750.0</td>\n",
       "      <td>...</td>\n",
       "      <td>0</td>\n",
       "      <td>0</td>\n",
       "      <td>0</td>\n",
       "      <td>0</td>\n",
       "      <td>0.0</td>\n",
       "      <td>0.0</td>\n",
       "      <td>0.0</td>\n",
       "      <td>0.0</td>\n",
       "      <td>0.0</td>\n",
       "      <td>0.0</td>\n",
       "    </tr>\n",
       "    <tr>\n",
       "      <th>3</th>\n",
       "      <td>100006</td>\n",
       "      <td>0</td>\n",
       "      <td>Cash loans</td>\n",
       "      <td>F</td>\n",
       "      <td>N</td>\n",
       "      <td>Y</td>\n",
       "      <td>0</td>\n",
       "      <td>135000.0</td>\n",
       "      <td>312682.5</td>\n",
       "      <td>29686.5</td>\n",
       "      <td>...</td>\n",
       "      <td>0</td>\n",
       "      <td>0</td>\n",
       "      <td>0</td>\n",
       "      <td>0</td>\n",
       "      <td>NaN</td>\n",
       "      <td>NaN</td>\n",
       "      <td>NaN</td>\n",
       "      <td>NaN</td>\n",
       "      <td>NaN</td>\n",
       "      <td>NaN</td>\n",
       "    </tr>\n",
       "    <tr>\n",
       "      <th>4</th>\n",
       "      <td>100007</td>\n",
       "      <td>0</td>\n",
       "      <td>Cash loans</td>\n",
       "      <td>M</td>\n",
       "      <td>N</td>\n",
       "      <td>Y</td>\n",
       "      <td>0</td>\n",
       "      <td>121500.0</td>\n",
       "      <td>513000.0</td>\n",
       "      <td>21865.5</td>\n",
       "      <td>...</td>\n",
       "      <td>0</td>\n",
       "      <td>0</td>\n",
       "      <td>0</td>\n",
       "      <td>0</td>\n",
       "      <td>0.0</td>\n",
       "      <td>0.0</td>\n",
       "      <td>0.0</td>\n",
       "      <td>0.0</td>\n",
       "      <td>0.0</td>\n",
       "      <td>0.0</td>\n",
       "    </tr>\n",
       "  </tbody>\n",
       "</table>\n",
       "<p>5 rows × 122 columns</p>\n",
       "</div>"
      ],
      "text/plain": [
       "   SK_ID_CURR  TARGET NAME_CONTRACT_TYPE CODE_GENDER FLAG_OWN_CAR  \\\n",
       "0      100002       1         Cash loans           M            N   \n",
       "1      100003       0         Cash loans           F            N   \n",
       "2      100004       0    Revolving loans           M            Y   \n",
       "3      100006       0         Cash loans           F            N   \n",
       "4      100007       0         Cash loans           M            N   \n",
       "\n",
       "  FLAG_OWN_REALTY  CNT_CHILDREN  AMT_INCOME_TOTAL  AMT_CREDIT  AMT_ANNUITY  \\\n",
       "0               Y             0          202500.0    406597.5      24700.5   \n",
       "1               N             0          270000.0   1293502.5      35698.5   \n",
       "2               Y             0           67500.0    135000.0       6750.0   \n",
       "3               Y             0          135000.0    312682.5      29686.5   \n",
       "4               Y             0          121500.0    513000.0      21865.5   \n",
       "\n",
       "   ...  FLAG_DOCUMENT_18 FLAG_DOCUMENT_19 FLAG_DOCUMENT_20 FLAG_DOCUMENT_21  \\\n",
       "0  ...                 0                0                0                0   \n",
       "1  ...                 0                0                0                0   \n",
       "2  ...                 0                0                0                0   \n",
       "3  ...                 0                0                0                0   \n",
       "4  ...                 0                0                0                0   \n",
       "\n",
       "  AMT_REQ_CREDIT_BUREAU_HOUR AMT_REQ_CREDIT_BUREAU_DAY  \\\n",
       "0                        0.0                       0.0   \n",
       "1                        0.0                       0.0   \n",
       "2                        0.0                       0.0   \n",
       "3                        NaN                       NaN   \n",
       "4                        0.0                       0.0   \n",
       "\n",
       "   AMT_REQ_CREDIT_BUREAU_WEEK  AMT_REQ_CREDIT_BUREAU_MON  \\\n",
       "0                         0.0                        0.0   \n",
       "1                         0.0                        0.0   \n",
       "2                         0.0                        0.0   \n",
       "3                         NaN                        NaN   \n",
       "4                         0.0                        0.0   \n",
       "\n",
       "   AMT_REQ_CREDIT_BUREAU_QRT  AMT_REQ_CREDIT_BUREAU_YEAR  \n",
       "0                        0.0                         1.0  \n",
       "1                        0.0                         0.0  \n",
       "2                        0.0                         0.0  \n",
       "3                        NaN                         NaN  \n",
       "4                        0.0                         0.0  \n",
       "\n",
       "[5 rows x 122 columns]"
      ]
     },
     "execution_count": 5,
     "metadata": {},
     "output_type": "execute_result"
    }
   ],
   "source": [
    "app_train.head()"
   ]
  },
  {
   "cell_type": "markdown",
   "metadata": {},
   "source": [
    "After the loading of the main dataset, we are going to load all the secondary data and merge it to the main dataframes."
   ]
  },
  {
   "cell_type": "code",
   "execution_count": 6,
   "metadata": {},
   "outputs": [
    {
     "name": "stdout",
     "output_type": "stream",
     "text": [
      "307511\n",
      "48744\n"
     ]
    }
   ],
   "source": [
    "print(app_train.shape[0])\n",
    "print(app_test.shape[0])"
   ]
  },
  {
   "cell_type": "markdown",
   "metadata": {},
   "source": [
    "## Data pre-processing"
   ]
  },
  {
   "cell_type": "markdown",
   "metadata": {},
   "source": [
    "Before merging all the datasets we have, we want to perform some data pre-processing, such as handling missing values or handling categorical variables, such that when we proceed with the feature engineering process the data is already cleaned."
   ]
  },
  {
   "cell_type": "markdown",
   "metadata": {},
   "source": [
    "### Analyzing the app_train dataset"
   ]
  },
  {
   "cell_type": "code",
   "execution_count": 7,
   "metadata": {},
   "outputs": [
    {
     "data": {
      "text/html": [
       "<div>\n",
       "<style scoped>\n",
       "    .dataframe tbody tr th:only-of-type {\n",
       "        vertical-align: middle;\n",
       "    }\n",
       "\n",
       "    .dataframe tbody tr th {\n",
       "        vertical-align: top;\n",
       "    }\n",
       "\n",
       "    .dataframe thead th {\n",
       "        text-align: right;\n",
       "    }\n",
       "</style>\n",
       "<table border=\"1\" class=\"dataframe\">\n",
       "  <thead>\n",
       "    <tr style=\"text-align: right;\">\n",
       "      <th></th>\n",
       "      <th>SK_ID_CURR</th>\n",
       "      <th>TARGET</th>\n",
       "      <th>CNT_CHILDREN</th>\n",
       "      <th>AMT_INCOME_TOTAL</th>\n",
       "      <th>AMT_CREDIT</th>\n",
       "      <th>AMT_ANNUITY</th>\n",
       "      <th>AMT_GOODS_PRICE</th>\n",
       "      <th>REGION_POPULATION_RELATIVE</th>\n",
       "      <th>DAYS_BIRTH</th>\n",
       "      <th>DAYS_EMPLOYED</th>\n",
       "      <th>...</th>\n",
       "      <th>FLAG_DOCUMENT_18</th>\n",
       "      <th>FLAG_DOCUMENT_19</th>\n",
       "      <th>FLAG_DOCUMENT_20</th>\n",
       "      <th>FLAG_DOCUMENT_21</th>\n",
       "      <th>AMT_REQ_CREDIT_BUREAU_HOUR</th>\n",
       "      <th>AMT_REQ_CREDIT_BUREAU_DAY</th>\n",
       "      <th>AMT_REQ_CREDIT_BUREAU_WEEK</th>\n",
       "      <th>AMT_REQ_CREDIT_BUREAU_MON</th>\n",
       "      <th>AMT_REQ_CREDIT_BUREAU_QRT</th>\n",
       "      <th>AMT_REQ_CREDIT_BUREAU_YEAR</th>\n",
       "    </tr>\n",
       "  </thead>\n",
       "  <tbody>\n",
       "    <tr>\n",
       "      <th>count</th>\n",
       "      <td>307511.000000</td>\n",
       "      <td>307511.000000</td>\n",
       "      <td>307511.000000</td>\n",
       "      <td>3.075110e+05</td>\n",
       "      <td>3.075110e+05</td>\n",
       "      <td>307499.000000</td>\n",
       "      <td>3.072330e+05</td>\n",
       "      <td>307511.000000</td>\n",
       "      <td>307511.000000</td>\n",
       "      <td>307511.000000</td>\n",
       "      <td>...</td>\n",
       "      <td>307511.000000</td>\n",
       "      <td>307511.000000</td>\n",
       "      <td>307511.000000</td>\n",
       "      <td>307511.000000</td>\n",
       "      <td>265992.000000</td>\n",
       "      <td>265992.000000</td>\n",
       "      <td>265992.000000</td>\n",
       "      <td>265992.000000</td>\n",
       "      <td>265992.000000</td>\n",
       "      <td>265992.000000</td>\n",
       "    </tr>\n",
       "    <tr>\n",
       "      <th>mean</th>\n",
       "      <td>278180.518577</td>\n",
       "      <td>0.080729</td>\n",
       "      <td>0.417052</td>\n",
       "      <td>1.687979e+05</td>\n",
       "      <td>5.990260e+05</td>\n",
       "      <td>27108.573909</td>\n",
       "      <td>5.383962e+05</td>\n",
       "      <td>0.020868</td>\n",
       "      <td>-16036.995067</td>\n",
       "      <td>63815.045904</td>\n",
       "      <td>...</td>\n",
       "      <td>0.008130</td>\n",
       "      <td>0.000595</td>\n",
       "      <td>0.000507</td>\n",
       "      <td>0.000335</td>\n",
       "      <td>0.006402</td>\n",
       "      <td>0.007000</td>\n",
       "      <td>0.034362</td>\n",
       "      <td>0.267395</td>\n",
       "      <td>0.265474</td>\n",
       "      <td>1.899974</td>\n",
       "    </tr>\n",
       "    <tr>\n",
       "      <th>std</th>\n",
       "      <td>102790.175348</td>\n",
       "      <td>0.272419</td>\n",
       "      <td>0.722121</td>\n",
       "      <td>2.371231e+05</td>\n",
       "      <td>4.024908e+05</td>\n",
       "      <td>14493.737315</td>\n",
       "      <td>3.694465e+05</td>\n",
       "      <td>0.013831</td>\n",
       "      <td>4363.988632</td>\n",
       "      <td>141275.766519</td>\n",
       "      <td>...</td>\n",
       "      <td>0.089798</td>\n",
       "      <td>0.024387</td>\n",
       "      <td>0.022518</td>\n",
       "      <td>0.018299</td>\n",
       "      <td>0.083849</td>\n",
       "      <td>0.110757</td>\n",
       "      <td>0.204685</td>\n",
       "      <td>0.916002</td>\n",
       "      <td>0.794056</td>\n",
       "      <td>1.869295</td>\n",
       "    </tr>\n",
       "    <tr>\n",
       "      <th>min</th>\n",
       "      <td>100002.000000</td>\n",
       "      <td>0.000000</td>\n",
       "      <td>0.000000</td>\n",
       "      <td>2.565000e+04</td>\n",
       "      <td>4.500000e+04</td>\n",
       "      <td>1615.500000</td>\n",
       "      <td>4.050000e+04</td>\n",
       "      <td>0.000290</td>\n",
       "      <td>-25229.000000</td>\n",
       "      <td>-17912.000000</td>\n",
       "      <td>...</td>\n",
       "      <td>0.000000</td>\n",
       "      <td>0.000000</td>\n",
       "      <td>0.000000</td>\n",
       "      <td>0.000000</td>\n",
       "      <td>0.000000</td>\n",
       "      <td>0.000000</td>\n",
       "      <td>0.000000</td>\n",
       "      <td>0.000000</td>\n",
       "      <td>0.000000</td>\n",
       "      <td>0.000000</td>\n",
       "    </tr>\n",
       "    <tr>\n",
       "      <th>25%</th>\n",
       "      <td>189145.500000</td>\n",
       "      <td>0.000000</td>\n",
       "      <td>0.000000</td>\n",
       "      <td>1.125000e+05</td>\n",
       "      <td>2.700000e+05</td>\n",
       "      <td>16524.000000</td>\n",
       "      <td>2.385000e+05</td>\n",
       "      <td>0.010006</td>\n",
       "      <td>-19682.000000</td>\n",
       "      <td>-2760.000000</td>\n",
       "      <td>...</td>\n",
       "      <td>0.000000</td>\n",
       "      <td>0.000000</td>\n",
       "      <td>0.000000</td>\n",
       "      <td>0.000000</td>\n",
       "      <td>0.000000</td>\n",
       "      <td>0.000000</td>\n",
       "      <td>0.000000</td>\n",
       "      <td>0.000000</td>\n",
       "      <td>0.000000</td>\n",
       "      <td>0.000000</td>\n",
       "    </tr>\n",
       "    <tr>\n",
       "      <th>50%</th>\n",
       "      <td>278202.000000</td>\n",
       "      <td>0.000000</td>\n",
       "      <td>0.000000</td>\n",
       "      <td>1.471500e+05</td>\n",
       "      <td>5.135310e+05</td>\n",
       "      <td>24903.000000</td>\n",
       "      <td>4.500000e+05</td>\n",
       "      <td>0.018850</td>\n",
       "      <td>-15750.000000</td>\n",
       "      <td>-1213.000000</td>\n",
       "      <td>...</td>\n",
       "      <td>0.000000</td>\n",
       "      <td>0.000000</td>\n",
       "      <td>0.000000</td>\n",
       "      <td>0.000000</td>\n",
       "      <td>0.000000</td>\n",
       "      <td>0.000000</td>\n",
       "      <td>0.000000</td>\n",
       "      <td>0.000000</td>\n",
       "      <td>0.000000</td>\n",
       "      <td>1.000000</td>\n",
       "    </tr>\n",
       "    <tr>\n",
       "      <th>75%</th>\n",
       "      <td>367142.500000</td>\n",
       "      <td>0.000000</td>\n",
       "      <td>1.000000</td>\n",
       "      <td>2.025000e+05</td>\n",
       "      <td>8.086500e+05</td>\n",
       "      <td>34596.000000</td>\n",
       "      <td>6.795000e+05</td>\n",
       "      <td>0.028663</td>\n",
       "      <td>-12413.000000</td>\n",
       "      <td>-289.000000</td>\n",
       "      <td>...</td>\n",
       "      <td>0.000000</td>\n",
       "      <td>0.000000</td>\n",
       "      <td>0.000000</td>\n",
       "      <td>0.000000</td>\n",
       "      <td>0.000000</td>\n",
       "      <td>0.000000</td>\n",
       "      <td>0.000000</td>\n",
       "      <td>0.000000</td>\n",
       "      <td>0.000000</td>\n",
       "      <td>3.000000</td>\n",
       "    </tr>\n",
       "    <tr>\n",
       "      <th>max</th>\n",
       "      <td>456255.000000</td>\n",
       "      <td>1.000000</td>\n",
       "      <td>19.000000</td>\n",
       "      <td>1.170000e+08</td>\n",
       "      <td>4.050000e+06</td>\n",
       "      <td>258025.500000</td>\n",
       "      <td>4.050000e+06</td>\n",
       "      <td>0.072508</td>\n",
       "      <td>-7489.000000</td>\n",
       "      <td>365243.000000</td>\n",
       "      <td>...</td>\n",
       "      <td>1.000000</td>\n",
       "      <td>1.000000</td>\n",
       "      <td>1.000000</td>\n",
       "      <td>1.000000</td>\n",
       "      <td>4.000000</td>\n",
       "      <td>9.000000</td>\n",
       "      <td>8.000000</td>\n",
       "      <td>27.000000</td>\n",
       "      <td>261.000000</td>\n",
       "      <td>25.000000</td>\n",
       "    </tr>\n",
       "  </tbody>\n",
       "</table>\n",
       "<p>8 rows × 106 columns</p>\n",
       "</div>"
      ],
      "text/plain": [
       "          SK_ID_CURR         TARGET   CNT_CHILDREN  AMT_INCOME_TOTAL  \\\n",
       "count  307511.000000  307511.000000  307511.000000      3.075110e+05   \n",
       "mean   278180.518577       0.080729       0.417052      1.687979e+05   \n",
       "std    102790.175348       0.272419       0.722121      2.371231e+05   \n",
       "min    100002.000000       0.000000       0.000000      2.565000e+04   \n",
       "25%    189145.500000       0.000000       0.000000      1.125000e+05   \n",
       "50%    278202.000000       0.000000       0.000000      1.471500e+05   \n",
       "75%    367142.500000       0.000000       1.000000      2.025000e+05   \n",
       "max    456255.000000       1.000000      19.000000      1.170000e+08   \n",
       "\n",
       "         AMT_CREDIT    AMT_ANNUITY  AMT_GOODS_PRICE  \\\n",
       "count  3.075110e+05  307499.000000     3.072330e+05   \n",
       "mean   5.990260e+05   27108.573909     5.383962e+05   \n",
       "std    4.024908e+05   14493.737315     3.694465e+05   \n",
       "min    4.500000e+04    1615.500000     4.050000e+04   \n",
       "25%    2.700000e+05   16524.000000     2.385000e+05   \n",
       "50%    5.135310e+05   24903.000000     4.500000e+05   \n",
       "75%    8.086500e+05   34596.000000     6.795000e+05   \n",
       "max    4.050000e+06  258025.500000     4.050000e+06   \n",
       "\n",
       "       REGION_POPULATION_RELATIVE     DAYS_BIRTH  DAYS_EMPLOYED  ...  \\\n",
       "count               307511.000000  307511.000000  307511.000000  ...   \n",
       "mean                     0.020868  -16036.995067   63815.045904  ...   \n",
       "std                      0.013831    4363.988632  141275.766519  ...   \n",
       "min                      0.000290  -25229.000000  -17912.000000  ...   \n",
       "25%                      0.010006  -19682.000000   -2760.000000  ...   \n",
       "50%                      0.018850  -15750.000000   -1213.000000  ...   \n",
       "75%                      0.028663  -12413.000000    -289.000000  ...   \n",
       "max                      0.072508   -7489.000000  365243.000000  ...   \n",
       "\n",
       "       FLAG_DOCUMENT_18  FLAG_DOCUMENT_19  FLAG_DOCUMENT_20  FLAG_DOCUMENT_21  \\\n",
       "count     307511.000000     307511.000000     307511.000000     307511.000000   \n",
       "mean           0.008130          0.000595          0.000507          0.000335   \n",
       "std            0.089798          0.024387          0.022518          0.018299   \n",
       "min            0.000000          0.000000          0.000000          0.000000   \n",
       "25%            0.000000          0.000000          0.000000          0.000000   \n",
       "50%            0.000000          0.000000          0.000000          0.000000   \n",
       "75%            0.000000          0.000000          0.000000          0.000000   \n",
       "max            1.000000          1.000000          1.000000          1.000000   \n",
       "\n",
       "       AMT_REQ_CREDIT_BUREAU_HOUR  AMT_REQ_CREDIT_BUREAU_DAY  \\\n",
       "count               265992.000000              265992.000000   \n",
       "mean                     0.006402                   0.007000   \n",
       "std                      0.083849                   0.110757   \n",
       "min                      0.000000                   0.000000   \n",
       "25%                      0.000000                   0.000000   \n",
       "50%                      0.000000                   0.000000   \n",
       "75%                      0.000000                   0.000000   \n",
       "max                      4.000000                   9.000000   \n",
       "\n",
       "       AMT_REQ_CREDIT_BUREAU_WEEK  AMT_REQ_CREDIT_BUREAU_MON  \\\n",
       "count               265992.000000              265992.000000   \n",
       "mean                     0.034362                   0.267395   \n",
       "std                      0.204685                   0.916002   \n",
       "min                      0.000000                   0.000000   \n",
       "25%                      0.000000                   0.000000   \n",
       "50%                      0.000000                   0.000000   \n",
       "75%                      0.000000                   0.000000   \n",
       "max                      8.000000                  27.000000   \n",
       "\n",
       "       AMT_REQ_CREDIT_BUREAU_QRT  AMT_REQ_CREDIT_BUREAU_YEAR  \n",
       "count              265992.000000               265992.000000  \n",
       "mean                    0.265474                    1.899974  \n",
       "std                     0.794056                    1.869295  \n",
       "min                     0.000000                    0.000000  \n",
       "25%                     0.000000                    0.000000  \n",
       "50%                     0.000000                    1.000000  \n",
       "75%                     0.000000                    3.000000  \n",
       "max                   261.000000                   25.000000  \n",
       "\n",
       "[8 rows x 106 columns]"
      ]
     },
     "execution_count": 7,
     "metadata": {},
     "output_type": "execute_result"
    }
   ],
   "source": [
    "app_train.describe()"
   ]
  },
  {
   "cell_type": "code",
   "execution_count": 8,
   "metadata": {
    "scrolled": true
   },
   "outputs": [
    {
     "data": {
      "text/html": [
       "<div>\n",
       "<style scoped>\n",
       "    .dataframe tbody tr th:only-of-type {\n",
       "        vertical-align: middle;\n",
       "    }\n",
       "\n",
       "    .dataframe tbody tr th {\n",
       "        vertical-align: top;\n",
       "    }\n",
       "\n",
       "    .dataframe thead th {\n",
       "        text-align: right;\n",
       "    }\n",
       "</style>\n",
       "<table border=\"1\" class=\"dataframe\">\n",
       "  <thead>\n",
       "    <tr style=\"text-align: right;\">\n",
       "      <th></th>\n",
       "      <th>SK_ID_CURR</th>\n",
       "      <th>TARGET</th>\n",
       "      <th>NAME_CONTRACT_TYPE</th>\n",
       "      <th>CODE_GENDER</th>\n",
       "      <th>FLAG_OWN_CAR</th>\n",
       "      <th>FLAG_OWN_REALTY</th>\n",
       "      <th>CNT_CHILDREN</th>\n",
       "      <th>AMT_INCOME_TOTAL</th>\n",
       "      <th>AMT_CREDIT</th>\n",
       "      <th>AMT_ANNUITY</th>\n",
       "      <th>...</th>\n",
       "      <th>FLAG_DOCUMENT_18</th>\n",
       "      <th>FLAG_DOCUMENT_19</th>\n",
       "      <th>FLAG_DOCUMENT_20</th>\n",
       "      <th>FLAG_DOCUMENT_21</th>\n",
       "      <th>AMT_REQ_CREDIT_BUREAU_HOUR</th>\n",
       "      <th>AMT_REQ_CREDIT_BUREAU_DAY</th>\n",
       "      <th>AMT_REQ_CREDIT_BUREAU_WEEK</th>\n",
       "      <th>AMT_REQ_CREDIT_BUREAU_MON</th>\n",
       "      <th>AMT_REQ_CREDIT_BUREAU_QRT</th>\n",
       "      <th>AMT_REQ_CREDIT_BUREAU_YEAR</th>\n",
       "    </tr>\n",
       "  </thead>\n",
       "  <tbody>\n",
       "    <tr>\n",
       "      <th>0</th>\n",
       "      <td>100002</td>\n",
       "      <td>1</td>\n",
       "      <td>Cash loans</td>\n",
       "      <td>M</td>\n",
       "      <td>N</td>\n",
       "      <td>Y</td>\n",
       "      <td>0</td>\n",
       "      <td>202500.0</td>\n",
       "      <td>406597.5</td>\n",
       "      <td>24700.5</td>\n",
       "      <td>...</td>\n",
       "      <td>0</td>\n",
       "      <td>0</td>\n",
       "      <td>0</td>\n",
       "      <td>0</td>\n",
       "      <td>0.0</td>\n",
       "      <td>0.0</td>\n",
       "      <td>0.0</td>\n",
       "      <td>0.0</td>\n",
       "      <td>0.0</td>\n",
       "      <td>1.0</td>\n",
       "    </tr>\n",
       "    <tr>\n",
       "      <th>1</th>\n",
       "      <td>100003</td>\n",
       "      <td>0</td>\n",
       "      <td>Cash loans</td>\n",
       "      <td>F</td>\n",
       "      <td>N</td>\n",
       "      <td>N</td>\n",
       "      <td>0</td>\n",
       "      <td>270000.0</td>\n",
       "      <td>1293502.5</td>\n",
       "      <td>35698.5</td>\n",
       "      <td>...</td>\n",
       "      <td>0</td>\n",
       "      <td>0</td>\n",
       "      <td>0</td>\n",
       "      <td>0</td>\n",
       "      <td>0.0</td>\n",
       "      <td>0.0</td>\n",
       "      <td>0.0</td>\n",
       "      <td>0.0</td>\n",
       "      <td>0.0</td>\n",
       "      <td>0.0</td>\n",
       "    </tr>\n",
       "    <tr>\n",
       "      <th>2</th>\n",
       "      <td>100004</td>\n",
       "      <td>0</td>\n",
       "      <td>Revolving loans</td>\n",
       "      <td>M</td>\n",
       "      <td>Y</td>\n",
       "      <td>Y</td>\n",
       "      <td>0</td>\n",
       "      <td>67500.0</td>\n",
       "      <td>135000.0</td>\n",
       "      <td>6750.0</td>\n",
       "      <td>...</td>\n",
       "      <td>0</td>\n",
       "      <td>0</td>\n",
       "      <td>0</td>\n",
       "      <td>0</td>\n",
       "      <td>0.0</td>\n",
       "      <td>0.0</td>\n",
       "      <td>0.0</td>\n",
       "      <td>0.0</td>\n",
       "      <td>0.0</td>\n",
       "      <td>0.0</td>\n",
       "    </tr>\n",
       "    <tr>\n",
       "      <th>3</th>\n",
       "      <td>100006</td>\n",
       "      <td>0</td>\n",
       "      <td>Cash loans</td>\n",
       "      <td>F</td>\n",
       "      <td>N</td>\n",
       "      <td>Y</td>\n",
       "      <td>0</td>\n",
       "      <td>135000.0</td>\n",
       "      <td>312682.5</td>\n",
       "      <td>29686.5</td>\n",
       "      <td>...</td>\n",
       "      <td>0</td>\n",
       "      <td>0</td>\n",
       "      <td>0</td>\n",
       "      <td>0</td>\n",
       "      <td>NaN</td>\n",
       "      <td>NaN</td>\n",
       "      <td>NaN</td>\n",
       "      <td>NaN</td>\n",
       "      <td>NaN</td>\n",
       "      <td>NaN</td>\n",
       "    </tr>\n",
       "    <tr>\n",
       "      <th>4</th>\n",
       "      <td>100007</td>\n",
       "      <td>0</td>\n",
       "      <td>Cash loans</td>\n",
       "      <td>M</td>\n",
       "      <td>N</td>\n",
       "      <td>Y</td>\n",
       "      <td>0</td>\n",
       "      <td>121500.0</td>\n",
       "      <td>513000.0</td>\n",
       "      <td>21865.5</td>\n",
       "      <td>...</td>\n",
       "      <td>0</td>\n",
       "      <td>0</td>\n",
       "      <td>0</td>\n",
       "      <td>0</td>\n",
       "      <td>0.0</td>\n",
       "      <td>0.0</td>\n",
       "      <td>0.0</td>\n",
       "      <td>0.0</td>\n",
       "      <td>0.0</td>\n",
       "      <td>0.0</td>\n",
       "    </tr>\n",
       "  </tbody>\n",
       "</table>\n",
       "<p>5 rows × 122 columns</p>\n",
       "</div>"
      ],
      "text/plain": [
       "   SK_ID_CURR  TARGET NAME_CONTRACT_TYPE CODE_GENDER FLAG_OWN_CAR  \\\n",
       "0      100002       1         Cash loans           M            N   \n",
       "1      100003       0         Cash loans           F            N   \n",
       "2      100004       0    Revolving loans           M            Y   \n",
       "3      100006       0         Cash loans           F            N   \n",
       "4      100007       0         Cash loans           M            N   \n",
       "\n",
       "  FLAG_OWN_REALTY  CNT_CHILDREN  AMT_INCOME_TOTAL  AMT_CREDIT  AMT_ANNUITY  \\\n",
       "0               Y             0          202500.0    406597.5      24700.5   \n",
       "1               N             0          270000.0   1293502.5      35698.5   \n",
       "2               Y             0           67500.0    135000.0       6750.0   \n",
       "3               Y             0          135000.0    312682.5      29686.5   \n",
       "4               Y             0          121500.0    513000.0      21865.5   \n",
       "\n",
       "   ...  FLAG_DOCUMENT_18 FLAG_DOCUMENT_19 FLAG_DOCUMENT_20 FLAG_DOCUMENT_21  \\\n",
       "0  ...                 0                0                0                0   \n",
       "1  ...                 0                0                0                0   \n",
       "2  ...                 0                0                0                0   \n",
       "3  ...                 0                0                0                0   \n",
       "4  ...                 0                0                0                0   \n",
       "\n",
       "  AMT_REQ_CREDIT_BUREAU_HOUR AMT_REQ_CREDIT_BUREAU_DAY  \\\n",
       "0                        0.0                       0.0   \n",
       "1                        0.0                       0.0   \n",
       "2                        0.0                       0.0   \n",
       "3                        NaN                       NaN   \n",
       "4                        0.0                       0.0   \n",
       "\n",
       "   AMT_REQ_CREDIT_BUREAU_WEEK  AMT_REQ_CREDIT_BUREAU_MON  \\\n",
       "0                         0.0                        0.0   \n",
       "1                         0.0                        0.0   \n",
       "2                         0.0                        0.0   \n",
       "3                         NaN                        NaN   \n",
       "4                         0.0                        0.0   \n",
       "\n",
       "   AMT_REQ_CREDIT_BUREAU_QRT  AMT_REQ_CREDIT_BUREAU_YEAR  \n",
       "0                        0.0                         1.0  \n",
       "1                        0.0                         0.0  \n",
       "2                        0.0                         0.0  \n",
       "3                        NaN                         NaN  \n",
       "4                        0.0                         0.0  \n",
       "\n",
       "[5 rows x 122 columns]"
      ]
     },
     "execution_count": 8,
     "metadata": {},
     "output_type": "execute_result"
    }
   ],
   "source": [
    "app_train.head()"
   ]
  },
  {
   "cell_type": "markdown",
   "metadata": {},
   "source": [
    "Here is the distribution of the **TARGET** label."
   ]
  },
  {
   "cell_type": "code",
   "execution_count": 9,
   "metadata": {
    "scrolled": false
   },
   "outputs": [
    {
     "data": {
      "text/plain": [
       "<seaborn.axisgrid.FacetGrid at 0x1be0061f508>"
      ]
     },
     "execution_count": 9,
     "metadata": {},
     "output_type": "execute_result"
    },
    {
     "data": {
      "image/png": "[encoded data removed]",
      "text/plain": [
       "<Figure size 360x360 with 1 Axes>"
      ]
     },
     "metadata": {
      "needs_background": "light"
     },
     "output_type": "display_data"
    }
   ],
   "source": [
    "sns.catplot(x='TARGET', kind='count', data=app_train)"
   ]
  },
  {
   "cell_type": "markdown",
   "metadata": {},
   "source": [
    "As we can see the data we have for the training is **unbalanced**, this means that most of the data points have a certain TARGET label, in our case 0."
   ]
  },
  {
   "cell_type": "code",
   "execution_count": 10,
   "metadata": {
    "scrolled": true
   },
   "outputs": [
    {
     "data": {
      "text/plain": [
       "91.93"
      ]
     },
     "execution_count": 10,
     "metadata": {},
     "output_type": "execute_result"
    }
   ],
   "source": [
    "round((app_train['TARGET']==0).sum()*100/app_train.shape[0], 2)"
   ]
  },
  {
   "cell_type": "markdown",
   "metadata": {},
   "source": [
    "More than 91% of the people don't get a loan."
   ]
  },
  {
   "cell_type": "markdown",
   "metadata": {},
   "source": [
    "### Inspecting missing values"
   ]
  },
  {
   "cell_type": "markdown",
   "metadata": {},
   "source": [
    "One of the first things to do during the data analysis process is to check the missing values in the dataset and the relative amount and percentages."
   ]
  },
  {
   "cell_type": "code",
   "execution_count": 11,
   "metadata": {},
   "outputs": [],
   "source": [
    "datasets = [app_train, app_test, bureau, bureau_balance, credit_card_balance, payments, psb, prev_app]"
   ]
  },
  {
   "cell_type": "code",
   "execution_count": 12,
   "metadata": {},
   "outputs": [],
   "source": [
    "def check_missing_values(df):\n",
    "    cols = df.columns\n",
    "    nan_df = pd.DataFrame(columns=['n_nan', 'perc_nan'])\n",
    "    \n",
    "    for col in cols:\n",
    "        n_nan = pd.isna(df[col]).sum()\n",
    "        perc = round((n_nan / df.shape[0])*100, 2)\n",
    "        s = pd.Series({'n_nan': n_nan, 'perc_nan': perc} ,name=col)\n",
    "        nan_df = nan_df.append(s)\n",
    "        \n",
    "    return nan_df.sort_values(by=['n_nan'], ascending=False)"
   ]
  },
  {
   "cell_type": "code",
   "execution_count": 13,
   "metadata": {},
   "outputs": [
    {
     "data": {
      "text/html": [
       "<div>\n",
       "<style scoped>\n",
       "    .dataframe tbody tr th:only-of-type {\n",
       "        vertical-align: middle;\n",
       "    }\n",
       "\n",
       "    .dataframe tbody tr th {\n",
       "        vertical-align: top;\n",
       "    }\n",
       "\n",
       "    .dataframe thead th {\n",
       "        text-align: right;\n",
       "    }\n",
       "</style>\n",
       "<table border=\"1\" class=\"dataframe\">\n",
       "  <thead>\n",
       "    <tr style=\"text-align: right;\">\n",
       "      <th></th>\n",
       "      <th>n_nan</th>\n",
       "      <th>perc_nan</th>\n",
       "    </tr>\n",
       "  </thead>\n",
       "  <tbody>\n",
       "    <tr>\n",
       "      <th>COMMONAREA_MEDI</th>\n",
       "      <td>214865.0</td>\n",
       "      <td>69.87</td>\n",
       "    </tr>\n",
       "    <tr>\n",
       "      <th>COMMONAREA_AVG</th>\n",
       "      <td>214865.0</td>\n",
       "      <td>69.87</td>\n",
       "    </tr>\n",
       "    <tr>\n",
       "      <th>COMMONAREA_MODE</th>\n",
       "      <td>214865.0</td>\n",
       "      <td>69.87</td>\n",
       "    </tr>\n",
       "    <tr>\n",
       "      <th>NONLIVINGAPARTMENTS_MODE</th>\n",
       "      <td>213514.0</td>\n",
       "      <td>69.43</td>\n",
       "    </tr>\n",
       "    <tr>\n",
       "      <th>NONLIVINGAPARTMENTS_AVG</th>\n",
       "      <td>213514.0</td>\n",
       "      <td>69.43</td>\n",
       "    </tr>\n",
       "    <tr>\n",
       "      <th>...</th>\n",
       "      <td>...</td>\n",
       "      <td>...</td>\n",
       "    </tr>\n",
       "    <tr>\n",
       "      <th>NAME_HOUSING_TYPE</th>\n",
       "      <td>0.0</td>\n",
       "      <td>0.00</td>\n",
       "    </tr>\n",
       "    <tr>\n",
       "      <th>NAME_FAMILY_STATUS</th>\n",
       "      <td>0.0</td>\n",
       "      <td>0.00</td>\n",
       "    </tr>\n",
       "    <tr>\n",
       "      <th>NAME_EDUCATION_TYPE</th>\n",
       "      <td>0.0</td>\n",
       "      <td>0.00</td>\n",
       "    </tr>\n",
       "    <tr>\n",
       "      <th>NAME_INCOME_TYPE</th>\n",
       "      <td>0.0</td>\n",
       "      <td>0.00</td>\n",
       "    </tr>\n",
       "    <tr>\n",
       "      <th>SK_ID_CURR</th>\n",
       "      <td>0.0</td>\n",
       "      <td>0.00</td>\n",
       "    </tr>\n",
       "  </tbody>\n",
       "</table>\n",
       "<p>122 rows × 2 columns</p>\n",
       "</div>"
      ],
      "text/plain": [
       "                             n_nan  perc_nan\n",
       "COMMONAREA_MEDI           214865.0     69.87\n",
       "COMMONAREA_AVG            214865.0     69.87\n",
       "COMMONAREA_MODE           214865.0     69.87\n",
       "NONLIVINGAPARTMENTS_MODE  213514.0     69.43\n",
       "NONLIVINGAPARTMENTS_AVG   213514.0     69.43\n",
       "...                            ...       ...\n",
       "NAME_HOUSING_TYPE              0.0      0.00\n",
       "NAME_FAMILY_STATUS             0.0      0.00\n",
       "NAME_EDUCATION_TYPE            0.0      0.00\n",
       "NAME_INCOME_TYPE               0.0      0.00\n",
       "SK_ID_CURR                     0.0      0.00\n",
       "\n",
       "[122 rows x 2 columns]"
      ]
     },
     "execution_count": 13,
     "metadata": {},
     "output_type": "execute_result"
    }
   ],
   "source": [
    "check_missing_values(app_train)"
   ]
  },
  {
   "cell_type": "markdown",
   "metadata": {},
   "source": [
    "For each loaded dataset we are going to check the missing values and remove the columns with an high percentage of Nan, 75% in this case."
   ]
  },
  {
   "cell_type": "code",
   "execution_count": 14,
   "metadata": {},
   "outputs": [],
   "source": [
    "for d in datasets:\n",
    "    # check the number of missing values for each column\n",
    "    nan_values = check_missing_values(d)\n",
    "    # drop the columns with a percentage of missing values over 75%\n",
    "    cols_to_drop = list(nan_values[nan_values['perc_nan']>=65].index)\n",
    "    d.drop(columns=cols_to_drop, inplace=True)"
   ]
  },
  {
   "cell_type": "markdown",
   "metadata": {},
   "source": [
    "### Analyzing single features"
   ]
  },
  {
   "cell_type": "markdown",
   "metadata": {},
   "source": [
    "The next step consists in analyzing the features present in the dataset and cleaning eventual anomalies."
   ]
  },
  {
   "cell_type": "markdown",
   "metadata": {},
   "source": [
    "#### NAME_CONTRACT_TYPE"
   ]
  },
  {
   "cell_type": "code",
   "execution_count": 15,
   "metadata": {
    "scrolled": true
   },
   "outputs": [
    {
     "data": {
      "text/plain": [
       "count         307511\n",
       "unique             2\n",
       "top       Cash loans\n",
       "freq          278232\n",
       "Name: NAME_CONTRACT_TYPE, dtype: object"
      ]
     },
     "execution_count": 15,
     "metadata": {},
     "output_type": "execute_result"
    }
   ],
   "source": [
    "app_train['NAME_CONTRACT_TYPE'].describe()"
   ]
  },
  {
   "cell_type": "code",
   "execution_count": 16,
   "metadata": {
    "scrolled": false
   },
   "outputs": [
    {
     "data": {
      "text/plain": [
       "<seaborn.axisgrid.FacetGrid at 0x1be009b52c8>"
      ]
     },
     "execution_count": 16,
     "metadata": {},
     "output_type": "execute_result"
    },
    {
     "data": {
      "image/png": "[encoded data removed]",
      "text/plain": [
       "<Figure size 360x360 with 1 Axes>"
      ]
     },
     "metadata": {
      "needs_background": "light"
     },
     "output_type": "display_data"
    }
   ],
   "source": [
    "sns.catplot(x='NAME_CONTRACT_TYPE', kind='count', data=app_train)"
   ]
  },
  {
   "cell_type": "markdown",
   "metadata": {},
   "source": [
    "#### CODE_GENDER"
   ]
  },
  {
   "cell_type": "code",
   "execution_count": 17,
   "metadata": {},
   "outputs": [
    {
     "data": {
      "text/plain": [
       "count     307511\n",
       "unique         3\n",
       "top            F\n",
       "freq      202448\n",
       "Name: CODE_GENDER, dtype: object"
      ]
     },
     "execution_count": 17,
     "metadata": {},
     "output_type": "execute_result"
    }
   ],
   "source": [
    "app_train['CODE_GENDER'].describe()"
   ]
  },
  {
   "cell_type": "code",
   "execution_count": 18,
   "metadata": {},
   "outputs": [
    {
     "data": {
      "text/plain": [
       "<seaborn.axisgrid.FacetGrid at 0x1bf8595f288>"
      ]
     },
     "execution_count": 18,
     "metadata": {},
     "output_type": "execute_result"
    },
    {
     "data": {
      "image/png": "[encoded data removed]",
      "text/plain": [
       "<Figure size 360x360 with 1 Axes>"
      ]
     },
     "metadata": {
      "needs_background": "light"
     },
     "output_type": "display_data"
    }
   ],
   "source": [
    "sns.catplot(x='CODE_GENDER', kind='count', data=app_train)"
   ]
  },
  {
   "cell_type": "code",
   "execution_count": 19,
   "metadata": {
    "scrolled": true
   },
   "outputs": [
    {
     "data": {
      "text/plain": [
       "4"
      ]
     },
     "execution_count": 19,
     "metadata": {},
     "output_type": "execute_result"
    }
   ],
   "source": [
    "sum(app_train['CODE_GENDER']=='XNA')"
   ]
  },
  {
   "cell_type": "markdown",
   "metadata": {},
   "source": [
    "As we can see there are 4 clients with no gender."
   ]
  },
  {
   "cell_type": "code",
   "execution_count": 20,
   "metadata": {},
   "outputs": [],
   "source": [
    "app_train.loc[app_train['CODE_GENDER']=='XNA', 'CODE_GENDER'] = 'F'"
   ]
  },
  {
   "cell_type": "code",
   "execution_count": 21,
   "metadata": {
    "scrolled": false
   },
   "outputs": [
    {
     "data": {
      "text/plain": [
       "0"
      ]
     },
     "execution_count": 21,
     "metadata": {},
     "output_type": "execute_result"
    }
   ],
   "source": [
    "sum(app_train['CODE_GENDER']=='XNA')"
   ]
  },
  {
   "cell_type": "markdown",
   "metadata": {},
   "source": [
    "#### CNT_CHILDREN"
   ]
  },
  {
   "cell_type": "code",
   "execution_count": 22,
   "metadata": {},
   "outputs": [
    {
     "data": {
      "text/plain": [
       "count    307511.000000\n",
       "mean          0.417052\n",
       "std           0.722121\n",
       "min           0.000000\n",
       "25%           0.000000\n",
       "50%           0.000000\n",
       "75%           1.000000\n",
       "max          19.000000\n",
       "Name: CNT_CHILDREN, dtype: float64"
      ]
     },
     "execution_count": 22,
     "metadata": {},
     "output_type": "execute_result"
    }
   ],
   "source": [
    "app_train['CNT_CHILDREN'].describe()"
   ]
  },
  {
   "cell_type": "code",
   "execution_count": 23,
   "metadata": {},
   "outputs": [
    {
     "data": {
      "text/plain": [
       "<matplotlib.axes._subplots.AxesSubplot at 0x1bf4d620a08>"
      ]
     },
     "execution_count": 23,
     "metadata": {},
     "output_type": "execute_result"
    },
    {
     "data": {
      "image/png": "[encoded data removed]",
      "text/plain": [
       "<Figure size 432x288 with 1 Axes>"
      ]
     },
     "metadata": {
      "needs_background": "light"
     },
     "output_type": "display_data"
    }
   ],
   "source": [
    "sns.distplot(app_train['CNT_CHILDREN'], rug=True)"
   ]
  },
  {
   "cell_type": "code",
   "execution_count": 24,
   "metadata": {},
   "outputs": [
    {
     "name": "stdout",
     "output_type": "stream",
     "text": [
      "3.0\n",
      "There are  555  clients with more than  3 children\n"
     ]
    }
   ],
   "source": [
    "# checking outliers\n",
    "q = app_train['CNT_CHILDREN'].quantile(.99)\n",
    "print(q)\n",
    "print(\"There are \", (app_train['CNT_CHILDREN'] > q).sum(), \" clients with more than \", int(q), \"children\")"
   ]
  },
  {
   "cell_type": "code",
   "execution_count": 25,
   "metadata": {},
   "outputs": [
    {
     "data": {
      "text/html": [
       "<div>\n",
       "<style scoped>\n",
       "    .dataframe tbody tr th:only-of-type {\n",
       "        vertical-align: middle;\n",
       "    }\n",
       "\n",
       "    .dataframe tbody tr th {\n",
       "        vertical-align: top;\n",
       "    }\n",
       "\n",
       "    .dataframe thead th {\n",
       "        text-align: right;\n",
       "    }\n",
       "</style>\n",
       "<table border=\"1\" class=\"dataframe\">\n",
       "  <thead>\n",
       "    <tr style=\"text-align: right;\">\n",
       "      <th></th>\n",
       "      <th>SK_ID_CURR</th>\n",
       "      <th>TARGET</th>\n",
       "      <th>NAME_CONTRACT_TYPE</th>\n",
       "      <th>CODE_GENDER</th>\n",
       "      <th>FLAG_OWN_CAR</th>\n",
       "      <th>FLAG_OWN_REALTY</th>\n",
       "      <th>CNT_CHILDREN</th>\n",
       "      <th>AMT_INCOME_TOTAL</th>\n",
       "      <th>AMT_CREDIT</th>\n",
       "      <th>AMT_ANNUITY</th>\n",
       "      <th>...</th>\n",
       "      <th>FLAG_DOCUMENT_18</th>\n",
       "      <th>FLAG_DOCUMENT_19</th>\n",
       "      <th>FLAG_DOCUMENT_20</th>\n",
       "      <th>FLAG_DOCUMENT_21</th>\n",
       "      <th>AMT_REQ_CREDIT_BUREAU_HOUR</th>\n",
       "      <th>AMT_REQ_CREDIT_BUREAU_DAY</th>\n",
       "      <th>AMT_REQ_CREDIT_BUREAU_WEEK</th>\n",
       "      <th>AMT_REQ_CREDIT_BUREAU_MON</th>\n",
       "      <th>AMT_REQ_CREDIT_BUREAU_QRT</th>\n",
       "      <th>AMT_REQ_CREDIT_BUREAU_YEAR</th>\n",
       "    </tr>\n",
       "  </thead>\n",
       "  <tbody>\n",
       "    <tr>\n",
       "      <th>34545</th>\n",
       "      <td>140032</td>\n",
       "      <td>1</td>\n",
       "      <td>Cash loans</td>\n",
       "      <td>M</td>\n",
       "      <td>Y</td>\n",
       "      <td>N</td>\n",
       "      <td>11</td>\n",
       "      <td>315000.0</td>\n",
       "      <td>1007761.5</td>\n",
       "      <td>38515.5</td>\n",
       "      <td>...</td>\n",
       "      <td>0</td>\n",
       "      <td>0</td>\n",
       "      <td>0</td>\n",
       "      <td>0</td>\n",
       "      <td>0.0</td>\n",
       "      <td>0.0</td>\n",
       "      <td>0.0</td>\n",
       "      <td>0.0</td>\n",
       "      <td>0.0</td>\n",
       "      <td>0.0</td>\n",
       "    </tr>\n",
       "    <tr>\n",
       "      <th>80948</th>\n",
       "      <td>193853</td>\n",
       "      <td>0</td>\n",
       "      <td>Cash loans</td>\n",
       "      <td>F</td>\n",
       "      <td>N</td>\n",
       "      <td>Y</td>\n",
       "      <td>12</td>\n",
       "      <td>337500.0</td>\n",
       "      <td>746280.0</td>\n",
       "      <td>59094.0</td>\n",
       "      <td>...</td>\n",
       "      <td>0</td>\n",
       "      <td>0</td>\n",
       "      <td>0</td>\n",
       "      <td>0</td>\n",
       "      <td>0.0</td>\n",
       "      <td>0.0</td>\n",
       "      <td>0.0</td>\n",
       "      <td>1.0</td>\n",
       "      <td>0.0</td>\n",
       "      <td>3.0</td>\n",
       "    </tr>\n",
       "    <tr>\n",
       "      <th>155369</th>\n",
       "      <td>280108</td>\n",
       "      <td>0</td>\n",
       "      <td>Cash loans</td>\n",
       "      <td>F</td>\n",
       "      <td>N</td>\n",
       "      <td>Y</td>\n",
       "      <td>19</td>\n",
       "      <td>112500.0</td>\n",
       "      <td>269550.0</td>\n",
       "      <td>13891.5</td>\n",
       "      <td>...</td>\n",
       "      <td>0</td>\n",
       "      <td>0</td>\n",
       "      <td>0</td>\n",
       "      <td>0</td>\n",
       "      <td>0.0</td>\n",
       "      <td>0.0</td>\n",
       "      <td>0.0</td>\n",
       "      <td>0.0</td>\n",
       "      <td>0.0</td>\n",
       "      <td>4.0</td>\n",
       "    </tr>\n",
       "    <tr>\n",
       "      <th>171125</th>\n",
       "      <td>298322</td>\n",
       "      <td>0</td>\n",
       "      <td>Revolving loans</td>\n",
       "      <td>F</td>\n",
       "      <td>N</td>\n",
       "      <td>Y</td>\n",
       "      <td>12</td>\n",
       "      <td>225000.0</td>\n",
       "      <td>202500.0</td>\n",
       "      <td>10125.0</td>\n",
       "      <td>...</td>\n",
       "      <td>0</td>\n",
       "      <td>0</td>\n",
       "      <td>0</td>\n",
       "      <td>0</td>\n",
       "      <td>0.0</td>\n",
       "      <td>0.0</td>\n",
       "      <td>0.0</td>\n",
       "      <td>0.0</td>\n",
       "      <td>0.0</td>\n",
       "      <td>0.0</td>\n",
       "    </tr>\n",
       "    <tr>\n",
       "      <th>176011</th>\n",
       "      <td>303956</td>\n",
       "      <td>0</td>\n",
       "      <td>Cash loans</td>\n",
       "      <td>M</td>\n",
       "      <td>Y</td>\n",
       "      <td>Y</td>\n",
       "      <td>14</td>\n",
       "      <td>225000.0</td>\n",
       "      <td>1085058.0</td>\n",
       "      <td>55530.0</td>\n",
       "      <td>...</td>\n",
       "      <td>0</td>\n",
       "      <td>0</td>\n",
       "      <td>0</td>\n",
       "      <td>0</td>\n",
       "      <td>0.0</td>\n",
       "      <td>0.0</td>\n",
       "      <td>0.0</td>\n",
       "      <td>0.0</td>\n",
       "      <td>0.0</td>\n",
       "      <td>1.0</td>\n",
       "    </tr>\n",
       "    <tr>\n",
       "      <th>183878</th>\n",
       "      <td>313127</td>\n",
       "      <td>0</td>\n",
       "      <td>Cash loans</td>\n",
       "      <td>F</td>\n",
       "      <td>Y</td>\n",
       "      <td>N</td>\n",
       "      <td>14</td>\n",
       "      <td>45000.0</td>\n",
       "      <td>810000.0</td>\n",
       "      <td>23814.0</td>\n",
       "      <td>...</td>\n",
       "      <td>0</td>\n",
       "      <td>0</td>\n",
       "      <td>0</td>\n",
       "      <td>0</td>\n",
       "      <td>0.0</td>\n",
       "      <td>0.0</td>\n",
       "      <td>0.0</td>\n",
       "      <td>0.0</td>\n",
       "      <td>0.0</td>\n",
       "      <td>1.0</td>\n",
       "    </tr>\n",
       "    <tr>\n",
       "      <th>265784</th>\n",
       "      <td>407877</td>\n",
       "      <td>0</td>\n",
       "      <td>Cash loans</td>\n",
       "      <td>F</td>\n",
       "      <td>N</td>\n",
       "      <td>Y</td>\n",
       "      <td>19</td>\n",
       "      <td>112500.0</td>\n",
       "      <td>135000.0</td>\n",
       "      <td>8788.5</td>\n",
       "      <td>...</td>\n",
       "      <td>0</td>\n",
       "      <td>0</td>\n",
       "      <td>0</td>\n",
       "      <td>0</td>\n",
       "      <td>0.0</td>\n",
       "      <td>0.0</td>\n",
       "      <td>0.0</td>\n",
       "      <td>0.0</td>\n",
       "      <td>0.0</td>\n",
       "      <td>2.0</td>\n",
       "    </tr>\n",
       "    <tr>\n",
       "      <th>267998</th>\n",
       "      <td>410527</td>\n",
       "      <td>0</td>\n",
       "      <td>Cash loans</td>\n",
       "      <td>F</td>\n",
       "      <td>N</td>\n",
       "      <td>N</td>\n",
       "      <td>14</td>\n",
       "      <td>54000.0</td>\n",
       "      <td>604152.0</td>\n",
       "      <td>25596.0</td>\n",
       "      <td>...</td>\n",
       "      <td>0</td>\n",
       "      <td>0</td>\n",
       "      <td>0</td>\n",
       "      <td>0</td>\n",
       "      <td>0.0</td>\n",
       "      <td>0.0</td>\n",
       "      <td>0.0</td>\n",
       "      <td>0.0</td>\n",
       "      <td>0.0</td>\n",
       "      <td>2.0</td>\n",
       "    </tr>\n",
       "  </tbody>\n",
       "</table>\n",
       "<p>8 rows × 105 columns</p>\n",
       "</div>"
      ],
      "text/plain": [
       "        SK_ID_CURR  TARGET NAME_CONTRACT_TYPE CODE_GENDER FLAG_OWN_CAR  \\\n",
       "34545       140032       1         Cash loans           M            Y   \n",
       "80948       193853       0         Cash loans           F            N   \n",
       "155369      280108       0         Cash loans           F            N   \n",
       "171125      298322       0    Revolving loans           F            N   \n",
       "176011      303956       0         Cash loans           M            Y   \n",
       "183878      313127       0         Cash loans           F            Y   \n",
       "265784      407877       0         Cash loans           F            N   \n",
       "267998      410527       0         Cash loans           F            N   \n",
       "\n",
       "       FLAG_OWN_REALTY  CNT_CHILDREN  AMT_INCOME_TOTAL  AMT_CREDIT  \\\n",
       "34545                N            11          315000.0   1007761.5   \n",
       "80948                Y            12          337500.0    746280.0   \n",
       "155369               Y            19          112500.0    269550.0   \n",
       "171125               Y            12          225000.0    202500.0   \n",
       "176011               Y            14          225000.0   1085058.0   \n",
       "183878               N            14           45000.0    810000.0   \n",
       "265784               Y            19          112500.0    135000.0   \n",
       "267998               N            14           54000.0    604152.0   \n",
       "\n",
       "        AMT_ANNUITY  ...  FLAG_DOCUMENT_18 FLAG_DOCUMENT_19 FLAG_DOCUMENT_20  \\\n",
       "34545       38515.5  ...                 0                0                0   \n",
       "80948       59094.0  ...                 0                0                0   \n",
       "155369      13891.5  ...                 0                0                0   \n",
       "171125      10125.0  ...                 0                0                0   \n",
       "176011      55530.0  ...                 0                0                0   \n",
       "183878      23814.0  ...                 0                0                0   \n",
       "265784       8788.5  ...                 0                0                0   \n",
       "267998      25596.0  ...                 0                0                0   \n",
       "\n",
       "       FLAG_DOCUMENT_21 AMT_REQ_CREDIT_BUREAU_HOUR AMT_REQ_CREDIT_BUREAU_DAY  \\\n",
       "34545                 0                        0.0                       0.0   \n",
       "80948                 0                        0.0                       0.0   \n",
       "155369                0                        0.0                       0.0   \n",
       "171125                0                        0.0                       0.0   \n",
       "176011                0                        0.0                       0.0   \n",
       "183878                0                        0.0                       0.0   \n",
       "265784                0                        0.0                       0.0   \n",
       "267998                0                        0.0                       0.0   \n",
       "\n",
       "        AMT_REQ_CREDIT_BUREAU_WEEK  AMT_REQ_CREDIT_BUREAU_MON  \\\n",
       "34545                          0.0                        0.0   \n",
       "80948                          0.0                        1.0   \n",
       "155369                         0.0                        0.0   \n",
       "171125                         0.0                        0.0   \n",
       "176011                         0.0                        0.0   \n",
       "183878                         0.0                        0.0   \n",
       "265784                         0.0                        0.0   \n",
       "267998                         0.0                        0.0   \n",
       "\n",
       "        AMT_REQ_CREDIT_BUREAU_QRT  AMT_REQ_CREDIT_BUREAU_YEAR  \n",
       "34545                         0.0                         0.0  \n",
       "80948                         0.0                         3.0  \n",
       "155369                        0.0                         4.0  \n",
       "171125                        0.0                         0.0  \n",
       "176011                        0.0                         1.0  \n",
       "183878                        0.0                         1.0  \n",
       "265784                        0.0                         2.0  \n",
       "267998                        0.0                         2.0  \n",
       "\n",
       "[8 rows x 105 columns]"
      ]
     },
     "execution_count": 25,
     "metadata": {},
     "output_type": "execute_result"
    }
   ],
   "source": [
    "app_train[app_train['CNT_CHILDREN'] > 10]"
   ]
  },
  {
   "cell_type": "markdown",
   "metadata": {},
   "source": [
    "Since the outliers seem to be quite a lot and the maximum value is not an exagerate number, we will keep them as they are."
   ]
  },
  {
   "cell_type": "markdown",
   "metadata": {},
   "source": [
    "#### NAME_TYPE_SUITE and NAME_INCOME_TYPE"
   ]
  },
  {
   "cell_type": "code",
   "execution_count": 26,
   "metadata": {},
   "outputs": [
    {
     "data": {
      "text/plain": [
       "count            306219\n",
       "unique                7\n",
       "top       Unaccompanied\n",
       "freq             248526\n",
       "Name: NAME_TYPE_SUITE, dtype: object"
      ]
     },
     "execution_count": 26,
     "metadata": {},
     "output_type": "execute_result"
    }
   ],
   "source": [
    "app_train['NAME_TYPE_SUITE'].describe()"
   ]
  },
  {
   "cell_type": "code",
   "execution_count": 27,
   "metadata": {},
   "outputs": [
    {
     "data": {
      "text/plain": [
       "<seaborn.axisgrid.FacetGrid at 0x1be5db60a88>"
      ]
     },
     "execution_count": 27,
     "metadata": {},
     "output_type": "execute_result"
    },
    {
     "data": {
      "image/png": "[encoded data removed]",
      "text/plain": [
       "<Figure size 360x360 with 1 Axes>"
      ]
     },
     "metadata": {
      "needs_background": "light"
     },
     "output_type": "display_data"
    }
   ],
   "source": [
    "sns.catplot(y='NAME_TYPE_SUITE', kind='count', data=app_train)"
   ]
  },
  {
   "cell_type": "code",
   "execution_count": 28,
   "metadata": {},
   "outputs": [
    {
     "data": {
      "text/plain": [
       "<seaborn.axisgrid.FacetGrid at 0x1be5d7ff1c8>"
      ]
     },
     "execution_count": 28,
     "metadata": {},
     "output_type": "execute_result"
    },
    {
     "data": {
      "image/png": "[encoded data removed]",
      "text/plain": [
       "<Figure size 407.75x360 with 1 Axes>"
      ]
     },
     "metadata": {
      "needs_background": "light"
     },
     "output_type": "display_data"
    }
   ],
   "source": [
    "sns.catplot(x='NAME_TYPE_SUITE', data=app_train.loc[app_train['NAME_TYPE_SUITE'].isin(['Other_A', 'Other_B', 'Group of people'])] , kind='count', hue='TARGET')"
   ]
  },
  {
   "cell_type": "code",
   "execution_count": 29,
   "metadata": {},
   "outputs": [],
   "source": [
    "cat = app_train['NAME_TYPE_SUITE'].value_counts()[:3].index.tolist()\n",
    "app_train.loc[~app_train['NAME_TYPE_SUITE'].isin(cat), 'NAME_TYPE_SUITE'] = 'Other'\n",
    "app_test.loc[~app_test['NAME_TYPE_SUITE'].isin(cat), 'NAME_TYPE_SUITE'] = 'Other'"
   ]
  },
  {
   "cell_type": "code",
   "execution_count": 30,
   "metadata": {},
   "outputs": [
    {
     "data": {
      "text/plain": [
       "array(['Unaccompanied', 'Family', 'Spouse, partner', 'Other'],\n",
       "      dtype=object)"
      ]
     },
     "execution_count": 30,
     "metadata": {},
     "output_type": "execute_result"
    }
   ],
   "source": [
    "app_train['NAME_TYPE_SUITE'].unique()"
   ]
  },
  {
   "cell_type": "code",
   "execution_count": 31,
   "metadata": {},
   "outputs": [
    {
     "data": {
      "text/plain": [
       "count      307511\n",
       "unique          8\n",
       "top       Working\n",
       "freq       158774\n",
       "Name: NAME_INCOME_TYPE, dtype: object"
      ]
     },
     "execution_count": 31,
     "metadata": {},
     "output_type": "execute_result"
    }
   ],
   "source": [
    "app_train['NAME_INCOME_TYPE'].describe()"
   ]
  },
  {
   "cell_type": "code",
   "execution_count": 32,
   "metadata": {
    "scrolled": false
   },
   "outputs": [
    {
     "data": {
      "text/plain": [
       "<seaborn.axisgrid.FacetGrid at 0x1bf39e66388>"
      ]
     },
     "execution_count": 32,
     "metadata": {},
     "output_type": "execute_result"
    },
    {
     "data": {
      "image/png": "[encoded data removed]",
      "text/plain": [
       "<Figure size 360x360 with 1 Axes>"
      ]
     },
     "metadata": {
      "needs_background": "light"
     },
     "output_type": "display_data"
    }
   ],
   "source": [
    "sns.catplot(y='NAME_INCOME_TYPE', kind='count', data=app_train)"
   ]
  },
  {
   "cell_type": "markdown",
   "metadata": {},
   "source": [
    "#### DAYS_EMPLOYED"
   ]
  },
  {
   "cell_type": "code",
   "execution_count": 33,
   "metadata": {},
   "outputs": [
    {
     "data": {
      "text/plain": [
       "count    307511.000000\n",
       "mean      63815.045904\n",
       "std      141275.766519\n",
       "min      -17912.000000\n",
       "25%       -2760.000000\n",
       "50%       -1213.000000\n",
       "75%        -289.000000\n",
       "max      365243.000000\n",
       "Name: DAYS_EMPLOYED, dtype: float64"
      ]
     },
     "execution_count": 33,
     "metadata": {},
     "output_type": "execute_result"
    }
   ],
   "source": [
    "app_train['DAYS_EMPLOYED'].describe()"
   ]
  },
  {
   "cell_type": "code",
   "execution_count": 34,
   "metadata": {},
   "outputs": [
    {
     "data": {
      "text/plain": [
       "<matplotlib.axes._subplots.AxesSubplot at 0x1bedf560888>"
      ]
     },
     "execution_count": 34,
     "metadata": {},
     "output_type": "execute_result"
    },
    {
     "data": {
      "image/png": "[encoded data removed]",
      "text/plain": [
       "<Figure size 432x288 with 1 Axes>"
      ]
     },
     "metadata": {
      "needs_background": "light"
     },
     "output_type": "display_data"
    }
   ],
   "source": [
    "sns.distplot(app_train['DAYS_EMPLOYED'], kde=False)"
   ]
  },
  {
   "cell_type": "code",
   "execution_count": 35,
   "metadata": {},
   "outputs": [
    {
     "data": {
      "text/plain": [
       "55374"
      ]
     },
     "execution_count": 35,
     "metadata": {},
     "output_type": "execute_result"
    }
   ],
   "source": [
    "sum(app_train['DAYS_EMPLOYED']>0)"
   ]
  },
  {
   "cell_type": "markdown",
   "metadata": {},
   "source": [
    "As we can see, there are a lot of row where the value in DAYS_EMPLOYED is over 1000 years. We are going to substitute that value with NaN values, since we do not know what they actually represent and substituting with the median could be an error. We will also create a new column to keep track of the values we converted."
   ]
  },
  {
   "cell_type": "code",
   "execution_count": 36,
   "metadata": {},
   "outputs": [],
   "source": [
    "app_train['DAYS_EMPLOYED_ANOM'] = app_train[\"DAYS_EMPLOYED\"] > 0\n",
    "# do the same for the test set\n",
    "app_test['DAYS_EMPLOYED_ANOM'] = app_test[\"DAYS_EMPLOYED\"] > 0"
   ]
  },
  {
   "cell_type": "code",
   "execution_count": 37,
   "metadata": {},
   "outputs": [],
   "source": [
    "app_train.loc[app_train['DAYS_EMPLOYED']>0, 'DAYS_EMPLOYED'] = np.nan\n",
    "app_test.loc[app_test['DAYS_EMPLOYED']>0, 'DAYS_EMPLOYED'] = np.nan"
   ]
  },
  {
   "cell_type": "markdown",
   "metadata": {},
   "source": [
    "Here it is the new distribution"
   ]
  },
  {
   "cell_type": "code",
   "execution_count": 38,
   "metadata": {},
   "outputs": [
    {
     "name": "stderr",
     "output_type": "stream",
     "text": [
      "C:\\Users\\paolo\\Anaconda3\\envs\\data_science\\lib\\site-packages\\numpy\\lib\\histograms.py:839: RuntimeWarning: invalid value encountered in greater_equal\n",
      "  keep = (tmp_a >= first_edge)\n",
      "C:\\Users\\paolo\\Anaconda3\\envs\\data_science\\lib\\site-packages\\numpy\\lib\\histograms.py:840: RuntimeWarning: invalid value encountered in less_equal\n",
      "  keep &= (tmp_a <= last_edge)\n"
     ]
    },
    {
     "data": {
      "image/png": "[encoded data removed]",
      "text/plain": [
       "<Figure size 432x288 with 1 Axes>"
      ]
     },
     "metadata": {
      "needs_background": "light"
     },
     "output_type": "display_data"
    }
   ],
   "source": [
    "plt.hist(data=app_train, x='DAYS_EMPLOYED')\n",
    "plt.show()"
   ]
  },
  {
   "cell_type": "markdown",
   "metadata": {},
   "source": [
    "#### Columns to drop\n",
    "\n",
    "Looking at the distribution of the columns on kaggle, there are a lot of them with 100% distribution on a single value. This type of features doesn't give any type of information to any model, so it is more useful to drop them."
   ]
  },
  {
   "cell_type": "code",
   "execution_count": 39,
   "metadata": {},
   "outputs": [],
   "source": [
    "cols_to_drop = ['FLAG_MOBIL', 'FLAG_CONT_MOBILE', 'REG_REGION_NOT_LIVE_REGION', \n",
    "                'FLAG_DOCUMENT_2', 'FLAG_DOCUMENT_4', 'FLAG_DOCUMENT_5']\n",
    "app_train.drop(columns=cols_to_drop, inplace=True)\n",
    "app_test.drop(columns=cols_to_drop, inplace=True)"
   ]
  },
  {
   "cell_type": "markdown",
   "metadata": {},
   "source": [
    "#### OCCUPATION_TYPE"
   ]
  },
  {
   "cell_type": "code",
   "execution_count": 40,
   "metadata": {},
   "outputs": [
    {
     "data": {
      "text/plain": [
       "count       211120\n",
       "unique          18\n",
       "top       Laborers\n",
       "freq         55186\n",
       "Name: OCCUPATION_TYPE, dtype: object"
      ]
     },
     "execution_count": 40,
     "metadata": {},
     "output_type": "execute_result"
    }
   ],
   "source": [
    "app_train['OCCUPATION_TYPE'].describe()"
   ]
  },
  {
   "cell_type": "code",
   "execution_count": 41,
   "metadata": {},
   "outputs": [
    {
     "data": {
      "text/plain": [
       "<seaborn.axisgrid.FacetGrid at 0x1be5d9d8648>"
      ]
     },
     "execution_count": 41,
     "metadata": {},
     "output_type": "execute_result"
    },
    {
     "data": {
      "image/png": "[encoded data removed]",
      "text/plain": [
       "<Figure size 360x360 with 1 Axes>"
      ]
     },
     "metadata": {
      "needs_background": "light"
     },
     "output_type": "display_data"
    }
   ],
   "source": [
    "sns.catplot(y='OCCUPATION_TYPE', kind='count', data=app_train)"
   ]
  },
  {
   "cell_type": "code",
   "execution_count": 42,
   "metadata": {},
   "outputs": [
    {
     "name": "stdout",
     "output_type": "stream",
     "text": [
      "Missing values are 96391. 0.313% of the total.\n"
     ]
    }
   ],
   "source": [
    "count = app_train['OCCUPATION_TYPE'].isna().sum()\n",
    "print(\"Missing values are {}. {}% of the total.\".format(count, round(count/app_train.shape[0], 3)))"
   ]
  },
  {
   "cell_type": "code",
   "execution_count": 43,
   "metadata": {},
   "outputs": [],
   "source": [
    "app_train.loc[app_train['OCCUPATION_TYPE'].isna(), ['OCCUPATION_TYPE']] = 'Other'\n",
    "app_test.loc[app_test['OCCUPATION_TYPE'].isna(), ['OCCUPATION_TYPE']] = 'Other'"
   ]
  },
  {
   "cell_type": "code",
   "execution_count": 44,
   "metadata": {},
   "outputs": [
    {
     "data": {
      "text/plain": [
       "<seaborn.axisgrid.FacetGrid at 0x1be1343bd48>"
      ]
     },
     "execution_count": 44,
     "metadata": {},
     "output_type": "execute_result"
    },
    {
     "data": {
      "image/png": "[encoded data removed]",
      "text/plain": [
       "<Figure size 360x360 with 1 Axes>"
      ]
     },
     "metadata": {
      "needs_background": "light"
     },
     "output_type": "display_data"
    }
   ],
   "source": [
    "sns.catplot(y='OCCUPATION_TYPE', kind='count', data=app_train)"
   ]
  },
  {
   "cell_type": "markdown",
   "metadata": {},
   "source": [
    "#### ORGANIZATION_TYPE"
   ]
  },
  {
   "cell_type": "code",
   "execution_count": 45,
   "metadata": {},
   "outputs": [
    {
     "data": {
      "text/plain": [
       "count                     307511\n",
       "unique                        58\n",
       "top       Business Entity Type 3\n",
       "freq                       67992\n",
       "Name: ORGANIZATION_TYPE, dtype: object"
      ]
     },
     "execution_count": 45,
     "metadata": {},
     "output_type": "execute_result"
    }
   ],
   "source": [
    "app_train['ORGANIZATION_TYPE'].describe()"
   ]
  },
  {
   "cell_type": "code",
   "execution_count": 46,
   "metadata": {},
   "outputs": [
    {
     "data": {
      "text/plain": [
       "0"
      ]
     },
     "execution_count": 46,
     "metadata": {},
     "output_type": "execute_result"
    }
   ],
   "source": [
    "app_train['ORGANIZATION_TYPE'].isna().sum()"
   ]
  },
  {
   "cell_type": "code",
   "execution_count": 47,
   "metadata": {},
   "outputs": [
    {
     "data": {
      "text/plain": [
       "<seaborn.axisgrid.FacetGrid at 0x1be13415488>"
      ]
     },
     "execution_count": 47,
     "metadata": {},
     "output_type": "execute_result"
    },
    {
     "data": {
      "image/png": "[encoded data removed]",
      "text/plain": [
       "<Figure size 360x360 with 1 Axes>"
      ]
     },
     "metadata": {
      "needs_background": "light"
     },
     "output_type": "display_data"
    }
   ],
   "source": [
    "sns.catplot(y='ORGANIZATION_TYPE', kind='count', data=app_train)"
   ]
  },
  {
   "cell_type": "markdown",
   "metadata": {},
   "source": [
    "To avoid overfitting in future trainin, we are going to aggregate less frequent values into a single category 'Other'"
   ]
  },
  {
   "cell_type": "code",
   "execution_count": 48,
   "metadata": {},
   "outputs": [],
   "source": [
    "cat = app_train['ORGANIZATION_TYPE'].value_counts()\n",
    "cat = cat[cat > 1000].index.tolist()\n",
    "app_train.loc[~app_train['ORGANIZATION_TYPE'].isin(cat), 'ORGANIZATION_TYPE'] = 'Other'\n",
    "app_test.loc[~app_test['ORGANIZATION_TYPE'].isin(cat), 'ORGANIZATION_TYPE'] = 'Other'"
   ]
  },
  {
   "cell_type": "code",
   "execution_count": 49,
   "metadata": {},
   "outputs": [
    {
     "data": {
      "text/plain": [
       "<seaborn.axisgrid.FacetGrid at 0x1be9a273648>"
      ]
     },
     "execution_count": 49,
     "metadata": {},
     "output_type": "execute_result"
    },
    {
     "data": {
      "image/png": "[encoded data removed]",
      "text/plain": [
       "<Figure size 360x360 with 1 Axes>"
      ]
     },
     "metadata": {
      "needs_background": "light"
     },
     "output_type": "display_data"
    }
   ],
   "source": [
    "sns.catplot(y='ORGANIZATION_TYPE', kind='count', data=app_train)"
   ]
  },
  {
   "cell_type": "markdown",
   "metadata": {},
   "source": [
    "#### WALLSMATERIAL_MODE"
   ]
  },
  {
   "cell_type": "code",
   "execution_count": 53,
   "metadata": {},
   "outputs": [
    {
     "data": {
      "text/plain": [
       "count     151170\n",
       "unique         7\n",
       "top        Panel\n",
       "freq       66040\n",
       "Name: WALLSMATERIAL_MODE, dtype: object"
      ]
     },
     "execution_count": 53,
     "metadata": {},
     "output_type": "execute_result"
    }
   ],
   "source": [
    "app_train['WALLSMATERIAL_MODE'].describe()"
   ]
  },
  {
   "cell_type": "code",
   "execution_count": 54,
   "metadata": {},
   "outputs": [
    {
     "data": {
      "text/plain": [
       "<seaborn.axisgrid.FacetGrid at 0x1be1428ba08>"
      ]
     },
     "execution_count": 54,
     "metadata": {},
     "output_type": "execute_result"
    },
    {
     "data": {
      "image/png": "[encoded data removed]",
      "text/plain": [
       "<Figure size 360x360 with 1 Axes>"
      ]
     },
     "metadata": {
      "needs_background": "light"
     },
     "output_type": "display_data"
    }
   ],
   "source": [
    "sns.catplot(y='WALLSMATERIAL_MODE', kind='count', data=app_train)"
   ]
  },
  {
   "cell_type": "code",
   "execution_count": 55,
   "metadata": {},
   "outputs": [
    {
     "data": {
      "text/plain": [
       "156341"
      ]
     },
     "execution_count": 55,
     "metadata": {},
     "output_type": "execute_result"
    }
   ],
   "source": [
    "app_train['WALLSMATERIAL_MODE'].isna().sum()"
   ]
  },
  {
   "cell_type": "code",
   "execution_count": 56,
   "metadata": {},
   "outputs": [],
   "source": [
    "app_train.loc[app_train['WALLSMATERIAL_MODE'].isna(), 'WALLSMATERIAL_MODE'] = 'Others'\n",
    "app_test.loc[app_test['WALLSMATERIAL_MODE'].isna(), 'WALLSMATERIAL_MODE'] = 'Others'"
   ]
  },
  {
   "cell_type": "code",
   "execution_count": 57,
   "metadata": {},
   "outputs": [
    {
     "data": {
      "text/plain": [
       "<seaborn.axisgrid.FacetGrid at 0x1be14110fc8>"
      ]
     },
     "execution_count": 57,
     "metadata": {},
     "output_type": "execute_result"
    },
    {
     "data": {
      "image/png": "[encoded data removed]",
      "text/plain": [
       "<Figure size 360x360 with 1 Axes>"
      ]
     },
     "metadata": {
      "needs_background": "light"
     },
     "output_type": "display_data"
    }
   ],
   "source": [
    "sns.catplot(y='WALLSMATERIAL_MODE', kind='count', data=app_train)"
   ]
  },
  {
   "cell_type": "markdown",
   "metadata": {},
   "source": [
    "## Categorical features and Label encoding"
   ]
  },
  {
   "cell_type": "markdown",
   "metadata": {},
   "source": [
    "Let's see how many features in the dataset are categorical, that means that are not integers or floats."
   ]
  },
  {
   "cell_type": "code",
   "execution_count": 60,
   "metadata": {},
   "outputs": [],
   "source": [
    "def get_cat_features(df):\n",
    "    cat_features = {}\n",
    "    for col in df.columns:\n",
    "        if df[col].dtype == object:\n",
    "            cat_features[col] = df[col].nunique()\n",
    "\n",
    "    cat_features = pd.DataFrame.from_dict(cat_features, columns=['classes'], orient='index')\n",
    "    return cat_features"
   ]
  },
  {
   "cell_type": "code",
   "execution_count": 61,
   "metadata": {
    "scrolled": false
   },
   "outputs": [
    {
     "data": {
      "text/html": [
       "<div>\n",
       "<style scoped>\n",
       "    .dataframe tbody tr th:only-of-type {\n",
       "        vertical-align: middle;\n",
       "    }\n",
       "\n",
       "    .dataframe tbody tr th {\n",
       "        vertical-align: top;\n",
       "    }\n",
       "\n",
       "    .dataframe thead th {\n",
       "        text-align: right;\n",
       "    }\n",
       "</style>\n",
       "<table border=\"1\" class=\"dataframe\">\n",
       "  <thead>\n",
       "    <tr style=\"text-align: right;\">\n",
       "      <th></th>\n",
       "      <th>classes</th>\n",
       "    </tr>\n",
       "  </thead>\n",
       "  <tbody>\n",
       "    <tr>\n",
       "      <th>NAME_CONTRACT_TYPE</th>\n",
       "      <td>2</td>\n",
       "    </tr>\n",
       "    <tr>\n",
       "      <th>CODE_GENDER</th>\n",
       "      <td>2</td>\n",
       "    </tr>\n",
       "    <tr>\n",
       "      <th>FLAG_OWN_CAR</th>\n",
       "      <td>2</td>\n",
       "    </tr>\n",
       "    <tr>\n",
       "      <th>FLAG_OWN_REALTY</th>\n",
       "      <td>2</td>\n",
       "    </tr>\n",
       "    <tr>\n",
       "      <th>NAME_TYPE_SUITE</th>\n",
       "      <td>4</td>\n",
       "    </tr>\n",
       "    <tr>\n",
       "      <th>NAME_INCOME_TYPE</th>\n",
       "      <td>8</td>\n",
       "    </tr>\n",
       "    <tr>\n",
       "      <th>NAME_EDUCATION_TYPE</th>\n",
       "      <td>5</td>\n",
       "    </tr>\n",
       "    <tr>\n",
       "      <th>NAME_FAMILY_STATUS</th>\n",
       "      <td>6</td>\n",
       "    </tr>\n",
       "    <tr>\n",
       "      <th>NAME_HOUSING_TYPE</th>\n",
       "      <td>6</td>\n",
       "    </tr>\n",
       "    <tr>\n",
       "      <th>OCCUPATION_TYPE</th>\n",
       "      <td>19</td>\n",
       "    </tr>\n",
       "    <tr>\n",
       "      <th>WEEKDAY_APPR_PROCESS_START</th>\n",
       "      <td>7</td>\n",
       "    </tr>\n",
       "    <tr>\n",
       "      <th>ORGANIZATION_TYPE</th>\n",
       "      <td>33</td>\n",
       "    </tr>\n",
       "    <tr>\n",
       "      <th>HOUSETYPE_MODE</th>\n",
       "      <td>3</td>\n",
       "    </tr>\n",
       "    <tr>\n",
       "      <th>WALLSMATERIAL_MODE</th>\n",
       "      <td>7</td>\n",
       "    </tr>\n",
       "    <tr>\n",
       "      <th>EMERGENCYSTATE_MODE</th>\n",
       "      <td>2</td>\n",
       "    </tr>\n",
       "  </tbody>\n",
       "</table>\n",
       "</div>"
      ],
      "text/plain": [
       "                            classes\n",
       "NAME_CONTRACT_TYPE                2\n",
       "CODE_GENDER                       2\n",
       "FLAG_OWN_CAR                      2\n",
       "FLAG_OWN_REALTY                   2\n",
       "NAME_TYPE_SUITE                   4\n",
       "NAME_INCOME_TYPE                  8\n",
       "NAME_EDUCATION_TYPE               5\n",
       "NAME_FAMILY_STATUS                6\n",
       "NAME_HOUSING_TYPE                 6\n",
       "OCCUPATION_TYPE                  19\n",
       "WEEKDAY_APPR_PROCESS_START        7\n",
       "ORGANIZATION_TYPE                33\n",
       "HOUSETYPE_MODE                    3\n",
       "WALLSMATERIAL_MODE                7\n",
       "EMERGENCYSTATE_MODE               2"
      ]
     },
     "execution_count": 61,
     "metadata": {},
     "output_type": "execute_result"
    }
   ],
   "source": [
    "cat_features_train = get_cat_features(app_train)\n",
    "cat_features_train"
   ]
  },
  {
   "cell_type": "markdown",
   "metadata": {},
   "source": [
    "The same analysis can be performed on the test dataset."
   ]
  },
  {
   "cell_type": "code",
   "execution_count": 62,
   "metadata": {},
   "outputs": [
    {
     "data": {
      "text/html": [
       "<div>\n",
       "<style scoped>\n",
       "    .dataframe tbody tr th:only-of-type {\n",
       "        vertical-align: middle;\n",
       "    }\n",
       "\n",
       "    .dataframe tbody tr th {\n",
       "        vertical-align: top;\n",
       "    }\n",
       "\n",
       "    .dataframe thead th {\n",
       "        text-align: right;\n",
       "    }\n",
       "</style>\n",
       "<table border=\"1\" class=\"dataframe\">\n",
       "  <thead>\n",
       "    <tr style=\"text-align: right;\">\n",
       "      <th></th>\n",
       "      <th>classes</th>\n",
       "    </tr>\n",
       "  </thead>\n",
       "  <tbody>\n",
       "    <tr>\n",
       "      <th>NAME_CONTRACT_TYPE</th>\n",
       "      <td>2</td>\n",
       "    </tr>\n",
       "    <tr>\n",
       "      <th>CODE_GENDER</th>\n",
       "      <td>2</td>\n",
       "    </tr>\n",
       "    <tr>\n",
       "      <th>FLAG_OWN_CAR</th>\n",
       "      <td>2</td>\n",
       "    </tr>\n",
       "    <tr>\n",
       "      <th>FLAG_OWN_REALTY</th>\n",
       "      <td>2</td>\n",
       "    </tr>\n",
       "    <tr>\n",
       "      <th>NAME_TYPE_SUITE</th>\n",
       "      <td>4</td>\n",
       "    </tr>\n",
       "    <tr>\n",
       "      <th>NAME_INCOME_TYPE</th>\n",
       "      <td>7</td>\n",
       "    </tr>\n",
       "    <tr>\n",
       "      <th>NAME_EDUCATION_TYPE</th>\n",
       "      <td>5</td>\n",
       "    </tr>\n",
       "    <tr>\n",
       "      <th>NAME_FAMILY_STATUS</th>\n",
       "      <td>5</td>\n",
       "    </tr>\n",
       "    <tr>\n",
       "      <th>NAME_HOUSING_TYPE</th>\n",
       "      <td>6</td>\n",
       "    </tr>\n",
       "    <tr>\n",
       "      <th>OCCUPATION_TYPE</th>\n",
       "      <td>19</td>\n",
       "    </tr>\n",
       "    <tr>\n",
       "      <th>WEEKDAY_APPR_PROCESS_START</th>\n",
       "      <td>7</td>\n",
       "    </tr>\n",
       "    <tr>\n",
       "      <th>ORGANIZATION_TYPE</th>\n",
       "      <td>33</td>\n",
       "    </tr>\n",
       "    <tr>\n",
       "      <th>HOUSETYPE_MODE</th>\n",
       "      <td>3</td>\n",
       "    </tr>\n",
       "    <tr>\n",
       "      <th>WALLSMATERIAL_MODE</th>\n",
       "      <td>7</td>\n",
       "    </tr>\n",
       "    <tr>\n",
       "      <th>EMERGENCYSTATE_MODE</th>\n",
       "      <td>2</td>\n",
       "    </tr>\n",
       "  </tbody>\n",
       "</table>\n",
       "</div>"
      ],
      "text/plain": [
       "                            classes\n",
       "NAME_CONTRACT_TYPE                2\n",
       "CODE_GENDER                       2\n",
       "FLAG_OWN_CAR                      2\n",
       "FLAG_OWN_REALTY                   2\n",
       "NAME_TYPE_SUITE                   4\n",
       "NAME_INCOME_TYPE                  7\n",
       "NAME_EDUCATION_TYPE               5\n",
       "NAME_FAMILY_STATUS                5\n",
       "NAME_HOUSING_TYPE                 6\n",
       "OCCUPATION_TYPE                  19\n",
       "WEEKDAY_APPR_PROCESS_START        7\n",
       "ORGANIZATION_TYPE                33\n",
       "HOUSETYPE_MODE                    3\n",
       "WALLSMATERIAL_MODE                7\n",
       "EMERGENCYSTATE_MODE               2"
      ]
     },
     "execution_count": 62,
     "metadata": {},
     "output_type": "execute_result"
    }
   ],
   "source": [
    "cat_features_test = get_cat_features(app_test)\n",
    "cat_features_test"
   ]
  },
  {
   "cell_type": "code",
   "execution_count": 63,
   "metadata": {},
   "outputs": [
    {
     "data": {
      "text/plain": [
       "{True}"
      ]
     },
     "execution_count": 63,
     "metadata": {},
     "output_type": "execute_result"
    }
   ],
   "source": [
    "set(cat_features_test.index == cat_features_train.index)"
   ]
  },
  {
   "cell_type": "markdown",
   "metadata": {},
   "source": [
    "As we can see the train and the test dataset have the same variables, but with different number of classes."
   ]
  },
  {
   "cell_type": "code",
   "execution_count": 64,
   "metadata": {},
   "outputs": [
    {
     "name": "stdout",
     "output_type": "stream",
     "text": [
      "There are 15 categorical variables\n"
     ]
    }
   ],
   "source": [
    "print(\"There are %d categorical variables\" % len(cat_features_train))"
   ]
  },
  {
   "cell_type": "markdown",
   "metadata": {},
   "source": [
    "Now we need to convert all the categorical features into numbers, otherwise most models won't be able to deal with them.  \n",
    "We have 2 ways to do it:\n",
    "1. via **Label Encoding**: encoding each class into an integer\n",
    "2. via **one-hot Encoding**: each class will be converted into a new column in the dataframe.\n",
    "\n",
    "The first method is useful only when a variable has 1 or 2 classes but it is not good for encoding variables with more classes."
   ]
  },
  {
   "cell_type": "markdown",
   "metadata": {},
   "source": [
    "So, first thing, we are going to convert each variable with max 2 classes through Label Encoding."
   ]
  },
  {
   "cell_type": "code",
   "execution_count": 65,
   "metadata": {},
   "outputs": [],
   "source": [
    "from sklearn.preprocessing import LabelEncoder\n",
    "\n",
    "LE = LabelEncoder()"
   ]
  },
  {
   "cell_type": "code",
   "execution_count": 66,
   "metadata": {},
   "outputs": [],
   "source": [
    "def label_encoding(df, cat_features):\n",
    "    for index, row in cat_features.iterrows():\n",
    "        if row[0] <= 2:\n",
    "            df[index] = LE.fit_transform(df[index].to_list())"
   ]
  },
  {
   "cell_type": "code",
   "execution_count": 67,
   "metadata": {},
   "outputs": [],
   "source": [
    "label_encoding(app_train, cat_features_train)\n",
    "label_encoding(app_test, cat_features_test)"
   ]
  },
  {
   "cell_type": "code",
   "execution_count": 68,
   "metadata": {},
   "outputs": [
    {
     "name": "stdout",
     "output_type": "stream",
     "text": [
      "There are 10 categorical variables in app_train\n",
      "There are 10 categorical variables in app_test\n"
     ]
    }
   ],
   "source": [
    "print(\"There are %d categorical variables in app_train\" % len(get_cat_features(app_train)))\n",
    "print(\"There are %d categorical variables in app_test\" % len(get_cat_features(app_test)))"
   ]
  },
  {
   "cell_type": "markdown",
   "metadata": {},
   "source": [
    "For the categorical variable with more tha 2 classes we are going to perform, instead, one-hot encoding using the **pd.get_dummies()** function."
   ]
  },
  {
   "cell_type": "code",
   "execution_count": 69,
   "metadata": {},
   "outputs": [],
   "source": [
    "app_train = pd.get_dummies(app_train, drop_first=True, dummy_na=True)\n",
    "app_test = pd.get_dummies(app_test, drop_first=True, dummy_na=True)"
   ]
  },
  {
   "cell_type": "markdown",
   "metadata": {},
   "source": [
    "The *drop_first=True* attribute drops one column for each categorical feature to avoid multicollinearity; while with *dummy_na=True* we create a new column to indicate the rows with NaN values since this information can be useful to the model."
   ]
  },
  {
   "cell_type": "code",
   "execution_count": 70,
   "metadata": {},
   "outputs": [
    {
     "name": "stdout",
     "output_type": "stream",
     "text": [
      "There are 0 categorical variables in app_train\n",
      "There are 0 categorical variables in app_test\n"
     ]
    }
   ],
   "source": [
    "print(\"There are %d categorical variables in app_train\" % len(get_cat_features(app_train)))\n",
    "print(\"There are %d categorical variables in app_test\" % len(get_cat_features(app_test)))"
   ]
  },
  {
   "cell_type": "code",
   "execution_count": 71,
   "metadata": {},
   "outputs": [
    {
     "name": "stdout",
     "output_type": "stream",
     "text": [
      "(307511, 188)\n",
      "(48744, 185)\n"
     ]
    }
   ],
   "source": [
    "print(app_train.shape)\n",
    "print(app_test.shape)"
   ]
  },
  {
   "cell_type": "markdown",
   "metadata": {},
   "source": [
    "Now the train and test datasets have different number of columns due to the encoding, so we need to keep just the common columns between the 2 dataframes."
   ]
  },
  {
   "cell_type": "code",
   "execution_count": 72,
   "metadata": {},
   "outputs": [
    {
     "data": {
      "text/plain": [
       "set()"
      ]
     },
     "execution_count": 72,
     "metadata": {},
     "output_type": "execute_result"
    }
   ],
   "source": [
    "cat1 = set(app_train.columns)\n",
    "cat2 = set(app_test.columns)\n",
    "inter = cat2.difference(cat1)\n",
    "inter"
   ]
  },
  {
   "cell_type": "code",
   "execution_count": 73,
   "metadata": {},
   "outputs": [],
   "source": [
    "# we need to keep the target column since we will need it for the training\n",
    "target = app_train['TARGET']\n",
    "app_train, app_test = app_train.align(app_test, join = 'inner', axis = 1)\n",
    "app_train['TARGET'] = target"
   ]
  },
  {
   "cell_type": "code",
   "execution_count": 74,
   "metadata": {},
   "outputs": [
    {
     "name": "stdout",
     "output_type": "stream",
     "text": [
      "(307511, 186)\n",
      "(48744, 185)\n"
     ]
    }
   ],
   "source": [
    "print(app_train.shape)\n",
    "print(app_test.shape)"
   ]
  },
  {
   "cell_type": "markdown",
   "metadata": {},
   "source": [
    "## Merging train and test\n",
    "\n",
    "From now on, we will want to modify app_train and app_test together. For this reason it is useful to merge them. But first we need to create a column to distinguish them."
   ]
  },
  {
   "cell_type": "code",
   "execution_count": 76,
   "metadata": {},
   "outputs": [],
   "source": [
    "app_train['train'] = 1\n",
    "app_test['train'] = 0\n",
    "# we also need to add the TARGET column to data_test\n",
    "app_test['TARGET'] = np.nan"
   ]
  },
  {
   "cell_type": "code",
   "execution_count": 77,
   "metadata": {},
   "outputs": [
    {
     "data": {
      "text/html": [
       "<div>\n",
       "<style scoped>\n",
       "    .dataframe tbody tr th:only-of-type {\n",
       "        vertical-align: middle;\n",
       "    }\n",
       "\n",
       "    .dataframe tbody tr th {\n",
       "        vertical-align: top;\n",
       "    }\n",
       "\n",
       "    .dataframe thead th {\n",
       "        text-align: right;\n",
       "    }\n",
       "</style>\n",
       "<table border=\"1\" class=\"dataframe\">\n",
       "  <thead>\n",
       "    <tr style=\"text-align: right;\">\n",
       "      <th></th>\n",
       "      <th>SK_ID_CURR</th>\n",
       "      <th>NAME_CONTRACT_TYPE</th>\n",
       "      <th>CODE_GENDER</th>\n",
       "      <th>FLAG_OWN_CAR</th>\n",
       "      <th>FLAG_OWN_REALTY</th>\n",
       "      <th>CNT_CHILDREN</th>\n",
       "      <th>AMT_INCOME_TOTAL</th>\n",
       "      <th>AMT_CREDIT</th>\n",
       "      <th>AMT_ANNUITY</th>\n",
       "      <th>AMT_GOODS_PRICE</th>\n",
       "      <th>...</th>\n",
       "      <th>HOUSETYPE_MODE_nan</th>\n",
       "      <th>WALLSMATERIAL_MODE_Mixed</th>\n",
       "      <th>WALLSMATERIAL_MODE_Monolithic</th>\n",
       "      <th>WALLSMATERIAL_MODE_Others</th>\n",
       "      <th>WALLSMATERIAL_MODE_Panel</th>\n",
       "      <th>WALLSMATERIAL_MODE_Stone, brick</th>\n",
       "      <th>WALLSMATERIAL_MODE_Wooden</th>\n",
       "      <th>WALLSMATERIAL_MODE_nan</th>\n",
       "      <th>TARGET</th>\n",
       "      <th>train</th>\n",
       "    </tr>\n",
       "  </thead>\n",
       "  <tbody>\n",
       "    <tr>\n",
       "      <th>0</th>\n",
       "      <td>100002</td>\n",
       "      <td>0</td>\n",
       "      <td>1</td>\n",
       "      <td>0</td>\n",
       "      <td>1</td>\n",
       "      <td>0</td>\n",
       "      <td>202500.0</td>\n",
       "      <td>406597.5</td>\n",
       "      <td>24700.5</td>\n",
       "      <td>351000.0</td>\n",
       "      <td>...</td>\n",
       "      <td>0</td>\n",
       "      <td>0</td>\n",
       "      <td>0</td>\n",
       "      <td>0</td>\n",
       "      <td>0</td>\n",
       "      <td>1</td>\n",
       "      <td>0</td>\n",
       "      <td>0</td>\n",
       "      <td>1</td>\n",
       "      <td>1</td>\n",
       "    </tr>\n",
       "    <tr>\n",
       "      <th>1</th>\n",
       "      <td>100003</td>\n",
       "      <td>0</td>\n",
       "      <td>0</td>\n",
       "      <td>0</td>\n",
       "      <td>0</td>\n",
       "      <td>0</td>\n",
       "      <td>270000.0</td>\n",
       "      <td>1293502.5</td>\n",
       "      <td>35698.5</td>\n",
       "      <td>1129500.0</td>\n",
       "      <td>...</td>\n",
       "      <td>0</td>\n",
       "      <td>0</td>\n",
       "      <td>0</td>\n",
       "      <td>0</td>\n",
       "      <td>0</td>\n",
       "      <td>0</td>\n",
       "      <td>0</td>\n",
       "      <td>0</td>\n",
       "      <td>0</td>\n",
       "      <td>1</td>\n",
       "    </tr>\n",
       "    <tr>\n",
       "      <th>2</th>\n",
       "      <td>100004</td>\n",
       "      <td>1</td>\n",
       "      <td>1</td>\n",
       "      <td>1</td>\n",
       "      <td>1</td>\n",
       "      <td>0</td>\n",
       "      <td>67500.0</td>\n",
       "      <td>135000.0</td>\n",
       "      <td>6750.0</td>\n",
       "      <td>135000.0</td>\n",
       "      <td>...</td>\n",
       "      <td>1</td>\n",
       "      <td>0</td>\n",
       "      <td>0</td>\n",
       "      <td>1</td>\n",
       "      <td>0</td>\n",
       "      <td>0</td>\n",
       "      <td>0</td>\n",
       "      <td>0</td>\n",
       "      <td>0</td>\n",
       "      <td>1</td>\n",
       "    </tr>\n",
       "    <tr>\n",
       "      <th>3</th>\n",
       "      <td>100006</td>\n",
       "      <td>0</td>\n",
       "      <td>0</td>\n",
       "      <td>0</td>\n",
       "      <td>1</td>\n",
       "      <td>0</td>\n",
       "      <td>135000.0</td>\n",
       "      <td>312682.5</td>\n",
       "      <td>29686.5</td>\n",
       "      <td>297000.0</td>\n",
       "      <td>...</td>\n",
       "      <td>1</td>\n",
       "      <td>0</td>\n",
       "      <td>0</td>\n",
       "      <td>1</td>\n",
       "      <td>0</td>\n",
       "      <td>0</td>\n",
       "      <td>0</td>\n",
       "      <td>0</td>\n",
       "      <td>0</td>\n",
       "      <td>1</td>\n",
       "    </tr>\n",
       "    <tr>\n",
       "      <th>4</th>\n",
       "      <td>100007</td>\n",
       "      <td>0</td>\n",
       "      <td>1</td>\n",
       "      <td>0</td>\n",
       "      <td>1</td>\n",
       "      <td>0</td>\n",
       "      <td>121500.0</td>\n",
       "      <td>513000.0</td>\n",
       "      <td>21865.5</td>\n",
       "      <td>513000.0</td>\n",
       "      <td>...</td>\n",
       "      <td>1</td>\n",
       "      <td>0</td>\n",
       "      <td>0</td>\n",
       "      <td>1</td>\n",
       "      <td>0</td>\n",
       "      <td>0</td>\n",
       "      <td>0</td>\n",
       "      <td>0</td>\n",
       "      <td>0</td>\n",
       "      <td>1</td>\n",
       "    </tr>\n",
       "  </tbody>\n",
       "</table>\n",
       "<p>5 rows × 187 columns</p>\n",
       "</div>"
      ],
      "text/plain": [
       "   SK_ID_CURR  NAME_CONTRACT_TYPE  CODE_GENDER  FLAG_OWN_CAR  FLAG_OWN_REALTY  \\\n",
       "0      100002                   0            1             0                1   \n",
       "1      100003                   0            0             0                0   \n",
       "2      100004                   1            1             1                1   \n",
       "3      100006                   0            0             0                1   \n",
       "4      100007                   0            1             0                1   \n",
       "\n",
       "   CNT_CHILDREN  AMT_INCOME_TOTAL  AMT_CREDIT  AMT_ANNUITY  AMT_GOODS_PRICE  \\\n",
       "0             0          202500.0    406597.5      24700.5         351000.0   \n",
       "1             0          270000.0   1293502.5      35698.5        1129500.0   \n",
       "2             0           67500.0    135000.0       6750.0         135000.0   \n",
       "3             0          135000.0    312682.5      29686.5         297000.0   \n",
       "4             0          121500.0    513000.0      21865.5         513000.0   \n",
       "\n",
       "   ...  HOUSETYPE_MODE_nan  WALLSMATERIAL_MODE_Mixed  \\\n",
       "0  ...                   0                         0   \n",
       "1  ...                   0                         0   \n",
       "2  ...                   1                         0   \n",
       "3  ...                   1                         0   \n",
       "4  ...                   1                         0   \n",
       "\n",
       "   WALLSMATERIAL_MODE_Monolithic  WALLSMATERIAL_MODE_Others  \\\n",
       "0                              0                          0   \n",
       "1                              0                          0   \n",
       "2                              0                          1   \n",
       "3                              0                          1   \n",
       "4                              0                          1   \n",
       "\n",
       "   WALLSMATERIAL_MODE_Panel  WALLSMATERIAL_MODE_Stone, brick  \\\n",
       "0                         0                                1   \n",
       "1                         0                                0   \n",
       "2                         0                                0   \n",
       "3                         0                                0   \n",
       "4                         0                                0   \n",
       "\n",
       "   WALLSMATERIAL_MODE_Wooden  WALLSMATERIAL_MODE_nan  TARGET  train  \n",
       "0                          0                       0       1      1  \n",
       "1                          0                       0       0      1  \n",
       "2                          0                       0       0      1  \n",
       "3                          0                       0       0      1  \n",
       "4                          0                       0       0      1  \n",
       "\n",
       "[5 rows x 187 columns]"
      ]
     },
     "execution_count": 77,
     "metadata": {},
     "output_type": "execute_result"
    }
   ],
   "source": [
    "app_train.head()"
   ]
  },
  {
   "cell_type": "code",
   "execution_count": 78,
   "metadata": {},
   "outputs": [
    {
     "data": {
      "text/html": [
       "<div>\n",
       "<style scoped>\n",
       "    .dataframe tbody tr th:only-of-type {\n",
       "        vertical-align: middle;\n",
       "    }\n",
       "\n",
       "    .dataframe tbody tr th {\n",
       "        vertical-align: top;\n",
       "    }\n",
       "\n",
       "    .dataframe thead th {\n",
       "        text-align: right;\n",
       "    }\n",
       "</style>\n",
       "<table border=\"1\" class=\"dataframe\">\n",
       "  <thead>\n",
       "    <tr style=\"text-align: right;\">\n",
       "      <th></th>\n",
       "      <th>SK_ID_CURR</th>\n",
       "      <th>NAME_CONTRACT_TYPE</th>\n",
       "      <th>CODE_GENDER</th>\n",
       "      <th>FLAG_OWN_CAR</th>\n",
       "      <th>FLAG_OWN_REALTY</th>\n",
       "      <th>CNT_CHILDREN</th>\n",
       "      <th>AMT_INCOME_TOTAL</th>\n",
       "      <th>AMT_CREDIT</th>\n",
       "      <th>AMT_ANNUITY</th>\n",
       "      <th>AMT_GOODS_PRICE</th>\n",
       "      <th>...</th>\n",
       "      <th>HOUSETYPE_MODE_nan</th>\n",
       "      <th>WALLSMATERIAL_MODE_Mixed</th>\n",
       "      <th>WALLSMATERIAL_MODE_Monolithic</th>\n",
       "      <th>WALLSMATERIAL_MODE_Others</th>\n",
       "      <th>WALLSMATERIAL_MODE_Panel</th>\n",
       "      <th>WALLSMATERIAL_MODE_Stone, brick</th>\n",
       "      <th>WALLSMATERIAL_MODE_Wooden</th>\n",
       "      <th>WALLSMATERIAL_MODE_nan</th>\n",
       "      <th>train</th>\n",
       "      <th>TARGET</th>\n",
       "    </tr>\n",
       "  </thead>\n",
       "  <tbody>\n",
       "    <tr>\n",
       "      <th>0</th>\n",
       "      <td>100001</td>\n",
       "      <td>0</td>\n",
       "      <td>0</td>\n",
       "      <td>0</td>\n",
       "      <td>1</td>\n",
       "      <td>0</td>\n",
       "      <td>135000.0</td>\n",
       "      <td>568800.0</td>\n",
       "      <td>20560.5</td>\n",
       "      <td>450000.0</td>\n",
       "      <td>...</td>\n",
       "      <td>0</td>\n",
       "      <td>0</td>\n",
       "      <td>0</td>\n",
       "      <td>0</td>\n",
       "      <td>0</td>\n",
       "      <td>1</td>\n",
       "      <td>0</td>\n",
       "      <td>0</td>\n",
       "      <td>0</td>\n",
       "      <td>NaN</td>\n",
       "    </tr>\n",
       "    <tr>\n",
       "      <th>1</th>\n",
       "      <td>100005</td>\n",
       "      <td>0</td>\n",
       "      <td>1</td>\n",
       "      <td>0</td>\n",
       "      <td>1</td>\n",
       "      <td>0</td>\n",
       "      <td>99000.0</td>\n",
       "      <td>222768.0</td>\n",
       "      <td>17370.0</td>\n",
       "      <td>180000.0</td>\n",
       "      <td>...</td>\n",
       "      <td>1</td>\n",
       "      <td>0</td>\n",
       "      <td>0</td>\n",
       "      <td>1</td>\n",
       "      <td>0</td>\n",
       "      <td>0</td>\n",
       "      <td>0</td>\n",
       "      <td>0</td>\n",
       "      <td>0</td>\n",
       "      <td>NaN</td>\n",
       "    </tr>\n",
       "    <tr>\n",
       "      <th>2</th>\n",
       "      <td>100013</td>\n",
       "      <td>0</td>\n",
       "      <td>1</td>\n",
       "      <td>1</td>\n",
       "      <td>1</td>\n",
       "      <td>0</td>\n",
       "      <td>202500.0</td>\n",
       "      <td>663264.0</td>\n",
       "      <td>69777.0</td>\n",
       "      <td>630000.0</td>\n",
       "      <td>...</td>\n",
       "      <td>1</td>\n",
       "      <td>0</td>\n",
       "      <td>0</td>\n",
       "      <td>1</td>\n",
       "      <td>0</td>\n",
       "      <td>0</td>\n",
       "      <td>0</td>\n",
       "      <td>0</td>\n",
       "      <td>0</td>\n",
       "      <td>NaN</td>\n",
       "    </tr>\n",
       "    <tr>\n",
       "      <th>3</th>\n",
       "      <td>100028</td>\n",
       "      <td>0</td>\n",
       "      <td>0</td>\n",
       "      <td>0</td>\n",
       "      <td>1</td>\n",
       "      <td>2</td>\n",
       "      <td>315000.0</td>\n",
       "      <td>1575000.0</td>\n",
       "      <td>49018.5</td>\n",
       "      <td>1575000.0</td>\n",
       "      <td>...</td>\n",
       "      <td>0</td>\n",
       "      <td>0</td>\n",
       "      <td>0</td>\n",
       "      <td>0</td>\n",
       "      <td>1</td>\n",
       "      <td>0</td>\n",
       "      <td>0</td>\n",
       "      <td>0</td>\n",
       "      <td>0</td>\n",
       "      <td>NaN</td>\n",
       "    </tr>\n",
       "    <tr>\n",
       "      <th>4</th>\n",
       "      <td>100038</td>\n",
       "      <td>0</td>\n",
       "      <td>1</td>\n",
       "      <td>1</td>\n",
       "      <td>0</td>\n",
       "      <td>1</td>\n",
       "      <td>180000.0</td>\n",
       "      <td>625500.0</td>\n",
       "      <td>32067.0</td>\n",
       "      <td>625500.0</td>\n",
       "      <td>...</td>\n",
       "      <td>1</td>\n",
       "      <td>0</td>\n",
       "      <td>0</td>\n",
       "      <td>1</td>\n",
       "      <td>0</td>\n",
       "      <td>0</td>\n",
       "      <td>0</td>\n",
       "      <td>0</td>\n",
       "      <td>0</td>\n",
       "      <td>NaN</td>\n",
       "    </tr>\n",
       "  </tbody>\n",
       "</table>\n",
       "<p>5 rows × 187 columns</p>\n",
       "</div>"
      ],
      "text/plain": [
       "   SK_ID_CURR  NAME_CONTRACT_TYPE  CODE_GENDER  FLAG_OWN_CAR  FLAG_OWN_REALTY  \\\n",
       "0      100001                   0            0             0                1   \n",
       "1      100005                   0            1             0                1   \n",
       "2      100013                   0            1             1                1   \n",
       "3      100028                   0            0             0                1   \n",
       "4      100038                   0            1             1                0   \n",
       "\n",
       "   CNT_CHILDREN  AMT_INCOME_TOTAL  AMT_CREDIT  AMT_ANNUITY  AMT_GOODS_PRICE  \\\n",
       "0             0          135000.0    568800.0      20560.5         450000.0   \n",
       "1             0           99000.0    222768.0      17370.0         180000.0   \n",
       "2             0          202500.0    663264.0      69777.0         630000.0   \n",
       "3             2          315000.0   1575000.0      49018.5        1575000.0   \n",
       "4             1          180000.0    625500.0      32067.0         625500.0   \n",
       "\n",
       "   ...  HOUSETYPE_MODE_nan  WALLSMATERIAL_MODE_Mixed  \\\n",
       "0  ...                   0                         0   \n",
       "1  ...                   1                         0   \n",
       "2  ...                   1                         0   \n",
       "3  ...                   0                         0   \n",
       "4  ...                   1                         0   \n",
       "\n",
       "   WALLSMATERIAL_MODE_Monolithic  WALLSMATERIAL_MODE_Others  \\\n",
       "0                              0                          0   \n",
       "1                              0                          1   \n",
       "2                              0                          1   \n",
       "3                              0                          0   \n",
       "4                              0                          1   \n",
       "\n",
       "   WALLSMATERIAL_MODE_Panel  WALLSMATERIAL_MODE_Stone, brick  \\\n",
       "0                         0                                1   \n",
       "1                         0                                0   \n",
       "2                         0                                0   \n",
       "3                         1                                0   \n",
       "4                         0                                0   \n",
       "\n",
       "   WALLSMATERIAL_MODE_Wooden  WALLSMATERIAL_MODE_nan  train  TARGET  \n",
       "0                          0                       0      0     NaN  \n",
       "1                          0                       0      0     NaN  \n",
       "2                          0                       0      0     NaN  \n",
       "3                          0                       0      0     NaN  \n",
       "4                          0                       0      0     NaN  \n",
       "\n",
       "[5 rows x 187 columns]"
      ]
     },
     "execution_count": 78,
     "metadata": {},
     "output_type": "execute_result"
    }
   ],
   "source": [
    "app_test.head()"
   ]
  },
  {
   "cell_type": "code",
   "execution_count": 79,
   "metadata": {},
   "outputs": [
    {
     "data": {
      "text/plain": [
       "(356255, 187)"
      ]
     },
     "execution_count": 79,
     "metadata": {},
     "output_type": "execute_result"
    }
   ],
   "source": [
    "app = app_train.append(app_test, ignore_index=False, sort=True)\n",
    "app.shape"
   ]
  },
  {
   "cell_type": "markdown",
   "metadata": {},
   "source": [
    "### Engineering of new features"
   ]
  },
  {
   "cell_type": "code",
   "execution_count": 81,
   "metadata": {},
   "outputs": [],
   "source": [
    "app['CREDIT_TO_INCOME'] = app['AMT_CREDIT'] / app['AMT_INCOME_TOTAL']   # explains the rapport between the credit request and the income of the client"
   ]
  },
  {
   "cell_type": "markdown",
   "metadata": {},
   "source": [
    "### Analyzing installments_payments dataset"
   ]
  },
  {
   "cell_type": "code",
   "execution_count": 75,
   "metadata": {
    "scrolled": true
   },
   "outputs": [
    {
     "data": {
      "text/html": [
       "<div>\n",
       "<style scoped>\n",
       "    .dataframe tbody tr th:only-of-type {\n",
       "        vertical-align: middle;\n",
       "    }\n",
       "\n",
       "    .dataframe tbody tr th {\n",
       "        vertical-align: top;\n",
       "    }\n",
       "\n",
       "    .dataframe thead th {\n",
       "        text-align: right;\n",
       "    }\n",
       "</style>\n",
       "<table border=\"1\" class=\"dataframe\">\n",
       "  <thead>\n",
       "    <tr style=\"text-align: right;\">\n",
       "      <th></th>\n",
       "      <th>SK_ID_PREV</th>\n",
       "      <th>SK_ID_CURR</th>\n",
       "      <th>NUM_INSTALMENT_VERSION</th>\n",
       "      <th>NUM_INSTALMENT_NUMBER</th>\n",
       "      <th>DAYS_INSTALMENT</th>\n",
       "      <th>DAYS_ENTRY_PAYMENT</th>\n",
       "      <th>AMT_INSTALMENT</th>\n",
       "      <th>AMT_PAYMENT</th>\n",
       "    </tr>\n",
       "  </thead>\n",
       "  <tbody>\n",
       "    <tr>\n",
       "      <th>count</th>\n",
       "      <td>1.360540e+07</td>\n",
       "      <td>1.360540e+07</td>\n",
       "      <td>1.360540e+07</td>\n",
       "      <td>1.360540e+07</td>\n",
       "      <td>1.360540e+07</td>\n",
       "      <td>1.360250e+07</td>\n",
       "      <td>1.360540e+07</td>\n",
       "      <td>1.360250e+07</td>\n",
       "    </tr>\n",
       "    <tr>\n",
       "      <th>mean</th>\n",
       "      <td>1.903365e+06</td>\n",
       "      <td>2.784449e+05</td>\n",
       "      <td>8.566373e-01</td>\n",
       "      <td>1.887090e+01</td>\n",
       "      <td>-1.042270e+03</td>\n",
       "      <td>-1.051114e+03</td>\n",
       "      <td>1.705091e+04</td>\n",
       "      <td>1.723822e+04</td>\n",
       "    </tr>\n",
       "    <tr>\n",
       "      <th>std</th>\n",
       "      <td>5.362029e+05</td>\n",
       "      <td>1.027183e+05</td>\n",
       "      <td>1.035216e+00</td>\n",
       "      <td>2.666407e+01</td>\n",
       "      <td>8.009463e+02</td>\n",
       "      <td>8.005859e+02</td>\n",
       "      <td>5.057025e+04</td>\n",
       "      <td>5.473578e+04</td>\n",
       "    </tr>\n",
       "    <tr>\n",
       "      <th>min</th>\n",
       "      <td>1.000001e+06</td>\n",
       "      <td>1.000010e+05</td>\n",
       "      <td>0.000000e+00</td>\n",
       "      <td>1.000000e+00</td>\n",
       "      <td>-2.922000e+03</td>\n",
       "      <td>-4.921000e+03</td>\n",
       "      <td>0.000000e+00</td>\n",
       "      <td>0.000000e+00</td>\n",
       "    </tr>\n",
       "    <tr>\n",
       "      <th>25%</th>\n",
       "      <td>1.434191e+06</td>\n",
       "      <td>1.896390e+05</td>\n",
       "      <td>0.000000e+00</td>\n",
       "      <td>4.000000e+00</td>\n",
       "      <td>-1.654000e+03</td>\n",
       "      <td>-1.662000e+03</td>\n",
       "      <td>4.226085e+03</td>\n",
       "      <td>3.398265e+03</td>\n",
       "    </tr>\n",
       "    <tr>\n",
       "      <th>50%</th>\n",
       "      <td>1.896520e+06</td>\n",
       "      <td>2.786850e+05</td>\n",
       "      <td>1.000000e+00</td>\n",
       "      <td>8.000000e+00</td>\n",
       "      <td>-8.180000e+02</td>\n",
       "      <td>-8.270000e+02</td>\n",
       "      <td>8.884080e+03</td>\n",
       "      <td>8.125515e+03</td>\n",
       "    </tr>\n",
       "    <tr>\n",
       "      <th>75%</th>\n",
       "      <td>2.369094e+06</td>\n",
       "      <td>3.675300e+05</td>\n",
       "      <td>1.000000e+00</td>\n",
       "      <td>1.900000e+01</td>\n",
       "      <td>-3.610000e+02</td>\n",
       "      <td>-3.700000e+02</td>\n",
       "      <td>1.671021e+04</td>\n",
       "      <td>1.610842e+04</td>\n",
       "    </tr>\n",
       "    <tr>\n",
       "      <th>max</th>\n",
       "      <td>2.843499e+06</td>\n",
       "      <td>4.562550e+05</td>\n",
       "      <td>1.780000e+02</td>\n",
       "      <td>2.770000e+02</td>\n",
       "      <td>-1.000000e+00</td>\n",
       "      <td>-1.000000e+00</td>\n",
       "      <td>3.771488e+06</td>\n",
       "      <td>3.771488e+06</td>\n",
       "    </tr>\n",
       "  </tbody>\n",
       "</table>\n",
       "</div>"
      ],
      "text/plain": [
       "         SK_ID_PREV    SK_ID_CURR  NUM_INSTALMENT_VERSION  \\\n",
       "count  1.360540e+07  1.360540e+07            1.360540e+07   \n",
       "mean   1.903365e+06  2.784449e+05            8.566373e-01   \n",
       "std    5.362029e+05  1.027183e+05            1.035216e+00   \n",
       "min    1.000001e+06  1.000010e+05            0.000000e+00   \n",
       "25%    1.434191e+06  1.896390e+05            0.000000e+00   \n",
       "50%    1.896520e+06  2.786850e+05            1.000000e+00   \n",
       "75%    2.369094e+06  3.675300e+05            1.000000e+00   \n",
       "max    2.843499e+06  4.562550e+05            1.780000e+02   \n",
       "\n",
       "       NUM_INSTALMENT_NUMBER  DAYS_INSTALMENT  DAYS_ENTRY_PAYMENT  \\\n",
       "count           1.360540e+07     1.360540e+07        1.360250e+07   \n",
       "mean            1.887090e+01    -1.042270e+03       -1.051114e+03   \n",
       "std             2.666407e+01     8.009463e+02        8.005859e+02   \n",
       "min             1.000000e+00    -2.922000e+03       -4.921000e+03   \n",
       "25%             4.000000e+00    -1.654000e+03       -1.662000e+03   \n",
       "50%             8.000000e+00    -8.180000e+02       -8.270000e+02   \n",
       "75%             1.900000e+01    -3.610000e+02       -3.700000e+02   \n",
       "max             2.770000e+02    -1.000000e+00       -1.000000e+00   \n",
       "\n",
       "       AMT_INSTALMENT   AMT_PAYMENT  \n",
       "count    1.360540e+07  1.360250e+07  \n",
       "mean     1.705091e+04  1.723822e+04  \n",
       "std      5.057025e+04  5.473578e+04  \n",
       "min      0.000000e+00  0.000000e+00  \n",
       "25%      4.226085e+03  3.398265e+03  \n",
       "50%      8.884080e+03  8.125515e+03  \n",
       "75%      1.671021e+04  1.610842e+04  \n",
       "max      3.771488e+06  3.771488e+06  "
      ]
     },
     "execution_count": 75,
     "metadata": {},
     "output_type": "execute_result"
    }
   ],
   "source": [
    "payments.describe()"
   ]
  },
  {
   "cell_type": "markdown",
   "metadata": {},
   "source": [
    "Just by taking a look at the *describe* table we can see that everything is fine with this dataset, so we can move on analyzing another one."
   ]
  },
  {
   "cell_type": "markdown",
   "metadata": {},
   "source": [
    "### Analyzing credit_card_balance dataset"
   ]
  },
  {
   "cell_type": "code",
   "execution_count": 235,
   "metadata": {},
   "outputs": [
    {
     "data": {
      "text/html": [
       "<div>\n",
       "<style scoped>\n",
       "    .dataframe tbody tr th:only-of-type {\n",
       "        vertical-align: middle;\n",
       "    }\n",
       "\n",
       "    .dataframe tbody tr th {\n",
       "        vertical-align: top;\n",
       "    }\n",
       "\n",
       "    .dataframe thead th {\n",
       "        text-align: right;\n",
       "    }\n",
       "</style>\n",
       "<table border=\"1\" class=\"dataframe\">\n",
       "  <thead>\n",
       "    <tr style=\"text-align: right;\">\n",
       "      <th></th>\n",
       "      <th>CC_BALANCE_ID</th>\n",
       "      <th>SK_ID_PREV</th>\n",
       "      <th>SK_ID_CURR</th>\n",
       "      <th>MONTHS_BALANCE</th>\n",
       "      <th>AMT_BALANCE</th>\n",
       "      <th>AMT_CREDIT_LIMIT_ACTUAL</th>\n",
       "      <th>AMT_DRAWINGS_ATM_CURRENT</th>\n",
       "      <th>AMT_DRAWINGS_CURRENT</th>\n",
       "      <th>AMT_DRAWINGS_OTHER_CURRENT</th>\n",
       "      <th>AMT_DRAWINGS_POS_CURRENT</th>\n",
       "      <th>...</th>\n",
       "      <th>CNT_INSTALMENT_MATURE_CUM</th>\n",
       "      <th>SK_DPD</th>\n",
       "      <th>SK_DPD_DEF</th>\n",
       "      <th>NAME_CONTRACT_STATUS_Approved</th>\n",
       "      <th>NAME_CONTRACT_STATUS_Completed</th>\n",
       "      <th>NAME_CONTRACT_STATUS_Demand</th>\n",
       "      <th>NAME_CONTRACT_STATUS_Refused</th>\n",
       "      <th>NAME_CONTRACT_STATUS_Sent proposal</th>\n",
       "      <th>NAME_CONTRACT_STATUS_Signed</th>\n",
       "      <th>NAME_CONTRACT_STATUS_nan</th>\n",
       "    </tr>\n",
       "  </thead>\n",
       "  <tbody>\n",
       "    <tr>\n",
       "      <th>0</th>\n",
       "      <td>0</td>\n",
       "      <td>2562384</td>\n",
       "      <td>378907</td>\n",
       "      <td>-6</td>\n",
       "      <td>56.970</td>\n",
       "      <td>135000</td>\n",
       "      <td>0.0</td>\n",
       "      <td>877.5</td>\n",
       "      <td>0.0</td>\n",
       "      <td>877.5</td>\n",
       "      <td>...</td>\n",
       "      <td>35.0</td>\n",
       "      <td>0</td>\n",
       "      <td>0</td>\n",
       "      <td>0</td>\n",
       "      <td>0</td>\n",
       "      <td>0</td>\n",
       "      <td>0</td>\n",
       "      <td>0</td>\n",
       "      <td>0</td>\n",
       "      <td>0</td>\n",
       "    </tr>\n",
       "    <tr>\n",
       "      <th>1</th>\n",
       "      <td>1</td>\n",
       "      <td>2582071</td>\n",
       "      <td>363914</td>\n",
       "      <td>-1</td>\n",
       "      <td>63975.555</td>\n",
       "      <td>45000</td>\n",
       "      <td>2250.0</td>\n",
       "      <td>2250.0</td>\n",
       "      <td>0.0</td>\n",
       "      <td>0.0</td>\n",
       "      <td>...</td>\n",
       "      <td>69.0</td>\n",
       "      <td>0</td>\n",
       "      <td>0</td>\n",
       "      <td>0</td>\n",
       "      <td>0</td>\n",
       "      <td>0</td>\n",
       "      <td>0</td>\n",
       "      <td>0</td>\n",
       "      <td>0</td>\n",
       "      <td>0</td>\n",
       "    </tr>\n",
       "    <tr>\n",
       "      <th>2</th>\n",
       "      <td>2</td>\n",
       "      <td>1740877</td>\n",
       "      <td>371185</td>\n",
       "      <td>-7</td>\n",
       "      <td>31815.225</td>\n",
       "      <td>450000</td>\n",
       "      <td>0.0</td>\n",
       "      <td>0.0</td>\n",
       "      <td>0.0</td>\n",
       "      <td>0.0</td>\n",
       "      <td>...</td>\n",
       "      <td>30.0</td>\n",
       "      <td>0</td>\n",
       "      <td>0</td>\n",
       "      <td>0</td>\n",
       "      <td>0</td>\n",
       "      <td>0</td>\n",
       "      <td>0</td>\n",
       "      <td>0</td>\n",
       "      <td>0</td>\n",
       "      <td>0</td>\n",
       "    </tr>\n",
       "    <tr>\n",
       "      <th>3</th>\n",
       "      <td>3</td>\n",
       "      <td>1389973</td>\n",
       "      <td>337855</td>\n",
       "      <td>-4</td>\n",
       "      <td>236572.110</td>\n",
       "      <td>225000</td>\n",
       "      <td>2250.0</td>\n",
       "      <td>2250.0</td>\n",
       "      <td>0.0</td>\n",
       "      <td>0.0</td>\n",
       "      <td>...</td>\n",
       "      <td>10.0</td>\n",
       "      <td>0</td>\n",
       "      <td>0</td>\n",
       "      <td>0</td>\n",
       "      <td>0</td>\n",
       "      <td>0</td>\n",
       "      <td>0</td>\n",
       "      <td>0</td>\n",
       "      <td>0</td>\n",
       "      <td>0</td>\n",
       "    </tr>\n",
       "    <tr>\n",
       "      <th>4</th>\n",
       "      <td>4</td>\n",
       "      <td>1891521</td>\n",
       "      <td>126868</td>\n",
       "      <td>-1</td>\n",
       "      <td>453919.455</td>\n",
       "      <td>450000</td>\n",
       "      <td>0.0</td>\n",
       "      <td>11547.0</td>\n",
       "      <td>0.0</td>\n",
       "      <td>11547.0</td>\n",
       "      <td>...</td>\n",
       "      <td>101.0</td>\n",
       "      <td>0</td>\n",
       "      <td>0</td>\n",
       "      <td>0</td>\n",
       "      <td>0</td>\n",
       "      <td>0</td>\n",
       "      <td>0</td>\n",
       "      <td>0</td>\n",
       "      <td>0</td>\n",
       "      <td>0</td>\n",
       "    </tr>\n",
       "  </tbody>\n",
       "</table>\n",
       "<p>5 rows × 30 columns</p>\n",
       "</div>"
      ],
      "text/plain": [
       "   CC_BALANCE_ID  SK_ID_PREV  SK_ID_CURR  MONTHS_BALANCE  AMT_BALANCE  \\\n",
       "0              0     2562384      378907              -6       56.970   \n",
       "1              1     2582071      363914              -1    63975.555   \n",
       "2              2     1740877      371185              -7    31815.225   \n",
       "3              3     1389973      337855              -4   236572.110   \n",
       "4              4     1891521      126868              -1   453919.455   \n",
       "\n",
       "   AMT_CREDIT_LIMIT_ACTUAL  AMT_DRAWINGS_ATM_CURRENT  AMT_DRAWINGS_CURRENT  \\\n",
       "0                   135000                       0.0                 877.5   \n",
       "1                    45000                    2250.0                2250.0   \n",
       "2                   450000                       0.0                   0.0   \n",
       "3                   225000                    2250.0                2250.0   \n",
       "4                   450000                       0.0               11547.0   \n",
       "\n",
       "   AMT_DRAWINGS_OTHER_CURRENT  AMT_DRAWINGS_POS_CURRENT  ...  \\\n",
       "0                         0.0                     877.5  ...   \n",
       "1                         0.0                       0.0  ...   \n",
       "2                         0.0                       0.0  ...   \n",
       "3                         0.0                       0.0  ...   \n",
       "4                         0.0                   11547.0  ...   \n",
       "\n",
       "   CNT_INSTALMENT_MATURE_CUM  SK_DPD  SK_DPD_DEF  \\\n",
       "0                       35.0       0           0   \n",
       "1                       69.0       0           0   \n",
       "2                       30.0       0           0   \n",
       "3                       10.0       0           0   \n",
       "4                      101.0       0           0   \n",
       "\n",
       "   NAME_CONTRACT_STATUS_Approved  NAME_CONTRACT_STATUS_Completed  \\\n",
       "0                              0                               0   \n",
       "1                              0                               0   \n",
       "2                              0                               0   \n",
       "3                              0                               0   \n",
       "4                              0                               0   \n",
       "\n",
       "   NAME_CONTRACT_STATUS_Demand  NAME_CONTRACT_STATUS_Refused  \\\n",
       "0                            0                             0   \n",
       "1                            0                             0   \n",
       "2                            0                             0   \n",
       "3                            0                             0   \n",
       "4                            0                             0   \n",
       "\n",
       "   NAME_CONTRACT_STATUS_Sent proposal  NAME_CONTRACT_STATUS_Signed  \\\n",
       "0                                   0                            0   \n",
       "1                                   0                            0   \n",
       "2                                   0                            0   \n",
       "3                                   0                            0   \n",
       "4                                   0                            0   \n",
       "\n",
       "   NAME_CONTRACT_STATUS_nan  \n",
       "0                         0  \n",
       "1                         0  \n",
       "2                         0  \n",
       "3                         0  \n",
       "4                         0  \n",
       "\n",
       "[5 rows x 30 columns]"
      ]
     },
     "execution_count": 235,
     "metadata": {},
     "output_type": "execute_result"
    }
   ],
   "source": [
    "credit_card_balance.head()"
   ]
  },
  {
   "cell_type": "code",
   "execution_count": 83,
   "metadata": {},
   "outputs": [
    {
     "data": {
      "text/html": [
       "<div>\n",
       "<style scoped>\n",
       "    .dataframe tbody tr th:only-of-type {\n",
       "        vertical-align: middle;\n",
       "    }\n",
       "\n",
       "    .dataframe tbody tr th {\n",
       "        vertical-align: top;\n",
       "    }\n",
       "\n",
       "    .dataframe thead th {\n",
       "        text-align: right;\n",
       "    }\n",
       "</style>\n",
       "<table border=\"1\" class=\"dataframe\">\n",
       "  <thead>\n",
       "    <tr style=\"text-align: right;\">\n",
       "      <th></th>\n",
       "      <th>SK_ID_PREV</th>\n",
       "      <th>SK_ID_CURR</th>\n",
       "      <th>MONTHS_BALANCE</th>\n",
       "      <th>AMT_BALANCE</th>\n",
       "      <th>AMT_CREDIT_LIMIT_ACTUAL</th>\n",
       "      <th>AMT_DRAWINGS_ATM_CURRENT</th>\n",
       "      <th>AMT_DRAWINGS_CURRENT</th>\n",
       "      <th>AMT_DRAWINGS_OTHER_CURRENT</th>\n",
       "      <th>AMT_DRAWINGS_POS_CURRENT</th>\n",
       "      <th>AMT_INST_MIN_REGULARITY</th>\n",
       "      <th>...</th>\n",
       "      <th>AMT_RECEIVABLE_PRINCIPAL</th>\n",
       "      <th>AMT_RECIVABLE</th>\n",
       "      <th>AMT_TOTAL_RECEIVABLE</th>\n",
       "      <th>CNT_DRAWINGS_ATM_CURRENT</th>\n",
       "      <th>CNT_DRAWINGS_CURRENT</th>\n",
       "      <th>CNT_DRAWINGS_OTHER_CURRENT</th>\n",
       "      <th>CNT_DRAWINGS_POS_CURRENT</th>\n",
       "      <th>CNT_INSTALMENT_MATURE_CUM</th>\n",
       "      <th>SK_DPD</th>\n",
       "      <th>SK_DPD_DEF</th>\n",
       "    </tr>\n",
       "  </thead>\n",
       "  <tbody>\n",
       "    <tr>\n",
       "      <th>count</th>\n",
       "      <td>3.840312e+06</td>\n",
       "      <td>3.840312e+06</td>\n",
       "      <td>3.840312e+06</td>\n",
       "      <td>3.840312e+06</td>\n",
       "      <td>3.840312e+06</td>\n",
       "      <td>3.090496e+06</td>\n",
       "      <td>3.840312e+06</td>\n",
       "      <td>3.090496e+06</td>\n",
       "      <td>3.090496e+06</td>\n",
       "      <td>3.535076e+06</td>\n",
       "      <td>...</td>\n",
       "      <td>3.840312e+06</td>\n",
       "      <td>3.840312e+06</td>\n",
       "      <td>3.840312e+06</td>\n",
       "      <td>3.090496e+06</td>\n",
       "      <td>3.840312e+06</td>\n",
       "      <td>3.090496e+06</td>\n",
       "      <td>3.090496e+06</td>\n",
       "      <td>3.535076e+06</td>\n",
       "      <td>3.840312e+06</td>\n",
       "      <td>3.840312e+06</td>\n",
       "    </tr>\n",
       "    <tr>\n",
       "      <th>mean</th>\n",
       "      <td>1.904504e+06</td>\n",
       "      <td>2.783242e+05</td>\n",
       "      <td>-3.452192e+01</td>\n",
       "      <td>5.830016e+04</td>\n",
       "      <td>1.538080e+05</td>\n",
       "      <td>5.961325e+03</td>\n",
       "      <td>7.433388e+03</td>\n",
       "      <td>2.881696e+02</td>\n",
       "      <td>2.968805e+03</td>\n",
       "      <td>3.540204e+03</td>\n",
       "      <td>...</td>\n",
       "      <td>5.596588e+04</td>\n",
       "      <td>5.808881e+04</td>\n",
       "      <td>5.809829e+04</td>\n",
       "      <td>3.094490e-01</td>\n",
       "      <td>7.031439e-01</td>\n",
       "      <td>4.812496e-03</td>\n",
       "      <td>5.594791e-01</td>\n",
       "      <td>2.082508e+01</td>\n",
       "      <td>9.283667e+00</td>\n",
       "      <td>3.316220e-01</td>\n",
       "    </tr>\n",
       "    <tr>\n",
       "      <th>std</th>\n",
       "      <td>5.364695e+05</td>\n",
       "      <td>1.027045e+05</td>\n",
       "      <td>2.666775e+01</td>\n",
       "      <td>1.063070e+05</td>\n",
       "      <td>1.651457e+05</td>\n",
       "      <td>2.822569e+04</td>\n",
       "      <td>3.384608e+04</td>\n",
       "      <td>8.201989e+03</td>\n",
       "      <td>2.079689e+04</td>\n",
       "      <td>5.600154e+03</td>\n",
       "      <td>...</td>\n",
       "      <td>1.025336e+05</td>\n",
       "      <td>1.059654e+05</td>\n",
       "      <td>1.059718e+05</td>\n",
       "      <td>1.100401e+00</td>\n",
       "      <td>3.190347e+00</td>\n",
       "      <td>8.263861e-02</td>\n",
       "      <td>3.240649e+00</td>\n",
       "      <td>2.005149e+01</td>\n",
       "      <td>9.751570e+01</td>\n",
       "      <td>2.147923e+01</td>\n",
       "    </tr>\n",
       "    <tr>\n",
       "      <th>min</th>\n",
       "      <td>1.000018e+06</td>\n",
       "      <td>1.000060e+05</td>\n",
       "      <td>-9.600000e+01</td>\n",
       "      <td>-4.202502e+05</td>\n",
       "      <td>0.000000e+00</td>\n",
       "      <td>-6.827310e+03</td>\n",
       "      <td>-6.211620e+03</td>\n",
       "      <td>0.000000e+00</td>\n",
       "      <td>0.000000e+00</td>\n",
       "      <td>0.000000e+00</td>\n",
       "      <td>...</td>\n",
       "      <td>-4.233058e+05</td>\n",
       "      <td>-4.202502e+05</td>\n",
       "      <td>-4.202502e+05</td>\n",
       "      <td>0.000000e+00</td>\n",
       "      <td>0.000000e+00</td>\n",
       "      <td>0.000000e+00</td>\n",
       "      <td>0.000000e+00</td>\n",
       "      <td>0.000000e+00</td>\n",
       "      <td>0.000000e+00</td>\n",
       "      <td>0.000000e+00</td>\n",
       "    </tr>\n",
       "    <tr>\n",
       "      <th>25%</th>\n",
       "      <td>1.434385e+06</td>\n",
       "      <td>1.895170e+05</td>\n",
       "      <td>-5.500000e+01</td>\n",
       "      <td>0.000000e+00</td>\n",
       "      <td>4.500000e+04</td>\n",
       "      <td>0.000000e+00</td>\n",
       "      <td>0.000000e+00</td>\n",
       "      <td>0.000000e+00</td>\n",
       "      <td>0.000000e+00</td>\n",
       "      <td>0.000000e+00</td>\n",
       "      <td>...</td>\n",
       "      <td>0.000000e+00</td>\n",
       "      <td>0.000000e+00</td>\n",
       "      <td>0.000000e+00</td>\n",
       "      <td>0.000000e+00</td>\n",
       "      <td>0.000000e+00</td>\n",
       "      <td>0.000000e+00</td>\n",
       "      <td>0.000000e+00</td>\n",
       "      <td>4.000000e+00</td>\n",
       "      <td>0.000000e+00</td>\n",
       "      <td>0.000000e+00</td>\n",
       "    </tr>\n",
       "    <tr>\n",
       "      <th>50%</th>\n",
       "      <td>1.897122e+06</td>\n",
       "      <td>2.783960e+05</td>\n",
       "      <td>-2.800000e+01</td>\n",
       "      <td>0.000000e+00</td>\n",
       "      <td>1.125000e+05</td>\n",
       "      <td>0.000000e+00</td>\n",
       "      <td>0.000000e+00</td>\n",
       "      <td>0.000000e+00</td>\n",
       "      <td>0.000000e+00</td>\n",
       "      <td>0.000000e+00</td>\n",
       "      <td>...</td>\n",
       "      <td>0.000000e+00</td>\n",
       "      <td>0.000000e+00</td>\n",
       "      <td>0.000000e+00</td>\n",
       "      <td>0.000000e+00</td>\n",
       "      <td>0.000000e+00</td>\n",
       "      <td>0.000000e+00</td>\n",
       "      <td>0.000000e+00</td>\n",
       "      <td>1.500000e+01</td>\n",
       "      <td>0.000000e+00</td>\n",
       "      <td>0.000000e+00</td>\n",
       "    </tr>\n",
       "    <tr>\n",
       "      <th>75%</th>\n",
       "      <td>2.369328e+06</td>\n",
       "      <td>3.675800e+05</td>\n",
       "      <td>-1.100000e+01</td>\n",
       "      <td>8.904669e+04</td>\n",
       "      <td>1.800000e+05</td>\n",
       "      <td>0.000000e+00</td>\n",
       "      <td>0.000000e+00</td>\n",
       "      <td>0.000000e+00</td>\n",
       "      <td>0.000000e+00</td>\n",
       "      <td>6.633911e+03</td>\n",
       "      <td>...</td>\n",
       "      <td>8.535924e+04</td>\n",
       "      <td>8.889949e+04</td>\n",
       "      <td>8.891451e+04</td>\n",
       "      <td>0.000000e+00</td>\n",
       "      <td>0.000000e+00</td>\n",
       "      <td>0.000000e+00</td>\n",
       "      <td>0.000000e+00</td>\n",
       "      <td>3.200000e+01</td>\n",
       "      <td>0.000000e+00</td>\n",
       "      <td>0.000000e+00</td>\n",
       "    </tr>\n",
       "    <tr>\n",
       "      <th>max</th>\n",
       "      <td>2.843496e+06</td>\n",
       "      <td>4.562500e+05</td>\n",
       "      <td>-1.000000e+00</td>\n",
       "      <td>1.505902e+06</td>\n",
       "      <td>1.350000e+06</td>\n",
       "      <td>2.115000e+06</td>\n",
       "      <td>2.287098e+06</td>\n",
       "      <td>1.529847e+06</td>\n",
       "      <td>2.239274e+06</td>\n",
       "      <td>2.028820e+05</td>\n",
       "      <td>...</td>\n",
       "      <td>1.472317e+06</td>\n",
       "      <td>1.493338e+06</td>\n",
       "      <td>1.493338e+06</td>\n",
       "      <td>5.100000e+01</td>\n",
       "      <td>1.650000e+02</td>\n",
       "      <td>1.200000e+01</td>\n",
       "      <td>1.650000e+02</td>\n",
       "      <td>1.200000e+02</td>\n",
       "      <td>3.260000e+03</td>\n",
       "      <td>3.260000e+03</td>\n",
       "    </tr>\n",
       "  </tbody>\n",
       "</table>\n",
       "<p>8 rows × 22 columns</p>\n",
       "</div>"
      ],
      "text/plain": [
       "         SK_ID_PREV    SK_ID_CURR  MONTHS_BALANCE   AMT_BALANCE  \\\n",
       "count  3.840312e+06  3.840312e+06    3.840312e+06  3.840312e+06   \n",
       "mean   1.904504e+06  2.783242e+05   -3.452192e+01  5.830016e+04   \n",
       "std    5.364695e+05  1.027045e+05    2.666775e+01  1.063070e+05   \n",
       "min    1.000018e+06  1.000060e+05   -9.600000e+01 -4.202502e+05   \n",
       "25%    1.434385e+06  1.895170e+05   -5.500000e+01  0.000000e+00   \n",
       "50%    1.897122e+06  2.783960e+05   -2.800000e+01  0.000000e+00   \n",
       "75%    2.369328e+06  3.675800e+05   -1.100000e+01  8.904669e+04   \n",
       "max    2.843496e+06  4.562500e+05   -1.000000e+00  1.505902e+06   \n",
       "\n",
       "       AMT_CREDIT_LIMIT_ACTUAL  AMT_DRAWINGS_ATM_CURRENT  \\\n",
       "count             3.840312e+06              3.090496e+06   \n",
       "mean              1.538080e+05              5.961325e+03   \n",
       "std               1.651457e+05              2.822569e+04   \n",
       "min               0.000000e+00             -6.827310e+03   \n",
       "25%               4.500000e+04              0.000000e+00   \n",
       "50%               1.125000e+05              0.000000e+00   \n",
       "75%               1.800000e+05              0.000000e+00   \n",
       "max               1.350000e+06              2.115000e+06   \n",
       "\n",
       "       AMT_DRAWINGS_CURRENT  AMT_DRAWINGS_OTHER_CURRENT  \\\n",
       "count          3.840312e+06                3.090496e+06   \n",
       "mean           7.433388e+03                2.881696e+02   \n",
       "std            3.384608e+04                8.201989e+03   \n",
       "min           -6.211620e+03                0.000000e+00   \n",
       "25%            0.000000e+00                0.000000e+00   \n",
       "50%            0.000000e+00                0.000000e+00   \n",
       "75%            0.000000e+00                0.000000e+00   \n",
       "max            2.287098e+06                1.529847e+06   \n",
       "\n",
       "       AMT_DRAWINGS_POS_CURRENT  AMT_INST_MIN_REGULARITY  ...  \\\n",
       "count              3.090496e+06             3.535076e+06  ...   \n",
       "mean               2.968805e+03             3.540204e+03  ...   \n",
       "std                2.079689e+04             5.600154e+03  ...   \n",
       "min                0.000000e+00             0.000000e+00  ...   \n",
       "25%                0.000000e+00             0.000000e+00  ...   \n",
       "50%                0.000000e+00             0.000000e+00  ...   \n",
       "75%                0.000000e+00             6.633911e+03  ...   \n",
       "max                2.239274e+06             2.028820e+05  ...   \n",
       "\n",
       "       AMT_RECEIVABLE_PRINCIPAL  AMT_RECIVABLE  AMT_TOTAL_RECEIVABLE  \\\n",
       "count              3.840312e+06   3.840312e+06          3.840312e+06   \n",
       "mean               5.596588e+04   5.808881e+04          5.809829e+04   \n",
       "std                1.025336e+05   1.059654e+05          1.059718e+05   \n",
       "min               -4.233058e+05  -4.202502e+05         -4.202502e+05   \n",
       "25%                0.000000e+00   0.000000e+00          0.000000e+00   \n",
       "50%                0.000000e+00   0.000000e+00          0.000000e+00   \n",
       "75%                8.535924e+04   8.889949e+04          8.891451e+04   \n",
       "max                1.472317e+06   1.493338e+06          1.493338e+06   \n",
       "\n",
       "       CNT_DRAWINGS_ATM_CURRENT  CNT_DRAWINGS_CURRENT  \\\n",
       "count              3.090496e+06          3.840312e+06   \n",
       "mean               3.094490e-01          7.031439e-01   \n",
       "std                1.100401e+00          3.190347e+00   \n",
       "min                0.000000e+00          0.000000e+00   \n",
       "25%                0.000000e+00          0.000000e+00   \n",
       "50%                0.000000e+00          0.000000e+00   \n",
       "75%                0.000000e+00          0.000000e+00   \n",
       "max                5.100000e+01          1.650000e+02   \n",
       "\n",
       "       CNT_DRAWINGS_OTHER_CURRENT  CNT_DRAWINGS_POS_CURRENT  \\\n",
       "count                3.090496e+06              3.090496e+06   \n",
       "mean                 4.812496e-03              5.594791e-01   \n",
       "std                  8.263861e-02              3.240649e+00   \n",
       "min                  0.000000e+00              0.000000e+00   \n",
       "25%                  0.000000e+00              0.000000e+00   \n",
       "50%                  0.000000e+00              0.000000e+00   \n",
       "75%                  0.000000e+00              0.000000e+00   \n",
       "max                  1.200000e+01              1.650000e+02   \n",
       "\n",
       "       CNT_INSTALMENT_MATURE_CUM        SK_DPD    SK_DPD_DEF  \n",
       "count               3.535076e+06  3.840312e+06  3.840312e+06  \n",
       "mean                2.082508e+01  9.283667e+00  3.316220e-01  \n",
       "std                 2.005149e+01  9.751570e+01  2.147923e+01  \n",
       "min                 0.000000e+00  0.000000e+00  0.000000e+00  \n",
       "25%                 4.000000e+00  0.000000e+00  0.000000e+00  \n",
       "50%                 1.500000e+01  0.000000e+00  0.000000e+00  \n",
       "75%                 3.200000e+01  0.000000e+00  0.000000e+00  \n",
       "max                 1.200000e+02  3.260000e+03  3.260000e+03  \n",
       "\n",
       "[8 rows x 22 columns]"
      ]
     },
     "execution_count": 83,
     "metadata": {},
     "output_type": "execute_result"
    }
   ],
   "source": [
    "credit_card_balance.describe()"
   ]
  },
  {
   "cell_type": "code",
   "execution_count": 84,
   "metadata": {
    "scrolled": true
   },
   "outputs": [
    {
     "data": {
      "text/plain": [
       "count    3.090496e+06\n",
       "mean     5.961325e+03\n",
       "std      2.822569e+04\n",
       "min     -6.827310e+03\n",
       "25%      0.000000e+00\n",
       "50%      0.000000e+00\n",
       "75%      0.000000e+00\n",
       "max      2.115000e+06\n",
       "Name: AMT_DRAWINGS_ATM_CURRENT, dtype: float64"
      ]
     },
     "execution_count": 84,
     "metadata": {},
     "output_type": "execute_result"
    }
   ],
   "source": [
    "credit_card_balance['AMT_DRAWINGS_ATM_CURRENT'].describe()"
   ]
  },
  {
   "cell_type": "code",
   "execution_count": 85,
   "metadata": {},
   "outputs": [
    {
     "name": "stderr",
     "output_type": "stream",
     "text": [
      "C:\\Users\\paolo\\Anaconda3\\envs\\data_science\\lib\\site-packages\\numpy\\lib\\histograms.py:839: RuntimeWarning: invalid value encountered in greater_equal\n",
      "  keep = (tmp_a >= first_edge)\n",
      "C:\\Users\\paolo\\Anaconda3\\envs\\data_science\\lib\\site-packages\\numpy\\lib\\histograms.py:840: RuntimeWarning: invalid value encountered in less_equal\n",
      "  keep &= (tmp_a <= last_edge)\n"
     ]
    },
    {
     "data": {
      "image/png": "[encoded data removed]",
      "text/plain": [
       "<Figure size 432x288 with 1 Axes>"
      ]
     },
     "metadata": {
      "needs_background": "light"
     },
     "output_type": "display_data"
    }
   ],
   "source": [
    "plt.hist(data=credit_card_balance, x='AMT_DRAWINGS_ATM_CURRENT')\n",
    "plt.show()"
   ]
  },
  {
   "cell_type": "code",
   "execution_count": 86,
   "metadata": {},
   "outputs": [
    {
     "data": {
      "text/plain": [
       "2665718"
      ]
     },
     "execution_count": 86,
     "metadata": {},
     "output_type": "execute_result"
    }
   ],
   "source": [
    "sum(credit_card_balance['AMT_DRAWINGS_ATM_CURRENT']==0.0)"
   ]
  },
  {
   "cell_type": "code",
   "execution_count": 87,
   "metadata": {},
   "outputs": [
    {
     "data": {
      "text/plain": [
       "count     3840312\n",
       "unique          7\n",
       "top        Active\n",
       "freq      3698436\n",
       "Name: NAME_CONTRACT_STATUS, dtype: object"
      ]
     },
     "execution_count": 87,
     "metadata": {},
     "output_type": "execute_result"
    }
   ],
   "source": [
    "(credit_card_balance['NAME_CONTRACT_STATUS']).describe()"
   ]
  },
  {
   "cell_type": "code",
   "execution_count": 88,
   "metadata": {},
   "outputs": [
    {
     "data": {
      "image/png": "[encoded data removed]",
      "text/plain": [
       "<Figure size 360x360 with 1 Axes>"
      ]
     },
     "metadata": {
      "needs_background": "light"
     },
     "output_type": "display_data"
    }
   ],
   "source": [
    "sns.catplot(y='NAME_CONTRACT_STATUS', kind='count', data=credit_card_balance)\n",
    "plt.show()"
   ]
  },
  {
   "cell_type": "markdown",
   "metadata": {},
   "source": [
    "### Analyzing bureau_balance dataset"
   ]
  },
  {
   "cell_type": "code",
   "execution_count": 89,
   "metadata": {},
   "outputs": [],
   "source": [
    "bureau_balance = pd.read_csv(datapath + r'/bureau_balance.csv')"
   ]
  },
  {
   "cell_type": "code",
   "execution_count": 90,
   "metadata": {},
   "outputs": [
    {
     "data": {
      "text/html": [
       "<div>\n",
       "<style scoped>\n",
       "    .dataframe tbody tr th:only-of-type {\n",
       "        vertical-align: middle;\n",
       "    }\n",
       "\n",
       "    .dataframe tbody tr th {\n",
       "        vertical-align: top;\n",
       "    }\n",
       "\n",
       "    .dataframe thead th {\n",
       "        text-align: right;\n",
       "    }\n",
       "</style>\n",
       "<table border=\"1\" class=\"dataframe\">\n",
       "  <thead>\n",
       "    <tr style=\"text-align: right;\">\n",
       "      <th></th>\n",
       "      <th>SK_ID_BUREAU</th>\n",
       "      <th>MONTHS_BALANCE</th>\n",
       "      <th>STATUS</th>\n",
       "    </tr>\n",
       "  </thead>\n",
       "  <tbody>\n",
       "    <tr>\n",
       "      <th>0</th>\n",
       "      <td>5715448</td>\n",
       "      <td>0</td>\n",
       "      <td>C</td>\n",
       "    </tr>\n",
       "    <tr>\n",
       "      <th>1</th>\n",
       "      <td>5715448</td>\n",
       "      <td>-1</td>\n",
       "      <td>C</td>\n",
       "    </tr>\n",
       "    <tr>\n",
       "      <th>2</th>\n",
       "      <td>5715448</td>\n",
       "      <td>-2</td>\n",
       "      <td>C</td>\n",
       "    </tr>\n",
       "    <tr>\n",
       "      <th>3</th>\n",
       "      <td>5715448</td>\n",
       "      <td>-3</td>\n",
       "      <td>C</td>\n",
       "    </tr>\n",
       "    <tr>\n",
       "      <th>4</th>\n",
       "      <td>5715448</td>\n",
       "      <td>-4</td>\n",
       "      <td>C</td>\n",
       "    </tr>\n",
       "  </tbody>\n",
       "</table>\n",
       "</div>"
      ],
      "text/plain": [
       "   SK_ID_BUREAU  MONTHS_BALANCE STATUS\n",
       "0       5715448               0      C\n",
       "1       5715448              -1      C\n",
       "2       5715448              -2      C\n",
       "3       5715448              -3      C\n",
       "4       5715448              -4      C"
      ]
     },
     "execution_count": 90,
     "metadata": {},
     "output_type": "execute_result"
    }
   ],
   "source": [
    "bureau_balance.head()"
   ]
  },
  {
   "cell_type": "code",
   "execution_count": 91,
   "metadata": {},
   "outputs": [
    {
     "data": {
      "text/plain": [
       "count     27299925\n",
       "unique           8\n",
       "top              C\n",
       "freq      13646993\n",
       "Name: STATUS, dtype: object"
      ]
     },
     "execution_count": 91,
     "metadata": {},
     "output_type": "execute_result"
    }
   ],
   "source": [
    "bureau_balance['STATUS'].describe()"
   ]
  },
  {
   "cell_type": "code",
   "execution_count": 92,
   "metadata": {},
   "outputs": [
    {
     "data": {
      "image/png": "[encoded data removed]",
      "text/plain": [
       "<Figure size 360x360 with 1 Axes>"
      ]
     },
     "metadata": {
      "needs_background": "light"
     },
     "output_type": "display_data"
    }
   ],
   "source": [
    "sns.catplot(y='STATUS', kind='count', data=bureau_balance)\n",
    "plt.show()"
   ]
  },
  {
   "cell_type": "code",
   "execution_count": 93,
   "metadata": {
    "scrolled": true
   },
   "outputs": [
    {
     "data": {
      "text/html": [
       "<div>\n",
       "<style scoped>\n",
       "    .dataframe tbody tr th:only-of-type {\n",
       "        vertical-align: middle;\n",
       "    }\n",
       "\n",
       "    .dataframe tbody tr th {\n",
       "        vertical-align: top;\n",
       "    }\n",
       "\n",
       "    .dataframe thead th {\n",
       "        text-align: right;\n",
       "    }\n",
       "</style>\n",
       "<table border=\"1\" class=\"dataframe\">\n",
       "  <thead>\n",
       "    <tr style=\"text-align: right;\">\n",
       "      <th></th>\n",
       "      <th>SK_ID_BUREAU</th>\n",
       "      <th>MONTHS_BALANCE</th>\n",
       "      <th>STATUS</th>\n",
       "    </tr>\n",
       "  </thead>\n",
       "  <tbody>\n",
       "    <tr>\n",
       "      <th>0</th>\n",
       "      <td>5715448</td>\n",
       "      <td>0</td>\n",
       "      <td>C</td>\n",
       "    </tr>\n",
       "    <tr>\n",
       "      <th>1</th>\n",
       "      <td>5715448</td>\n",
       "      <td>-1</td>\n",
       "      <td>C</td>\n",
       "    </tr>\n",
       "    <tr>\n",
       "      <th>2</th>\n",
       "      <td>5715448</td>\n",
       "      <td>-2</td>\n",
       "      <td>C</td>\n",
       "    </tr>\n",
       "    <tr>\n",
       "      <th>3</th>\n",
       "      <td>5715448</td>\n",
       "      <td>-3</td>\n",
       "      <td>C</td>\n",
       "    </tr>\n",
       "    <tr>\n",
       "      <th>4</th>\n",
       "      <td>5715448</td>\n",
       "      <td>-4</td>\n",
       "      <td>C</td>\n",
       "    </tr>\n",
       "  </tbody>\n",
       "</table>\n",
       "</div>"
      ],
      "text/plain": [
       "   SK_ID_BUREAU  MONTHS_BALANCE STATUS\n",
       "0       5715448               0      C\n",
       "1       5715448              -1      C\n",
       "2       5715448              -2      C\n",
       "3       5715448              -3      C\n",
       "4       5715448              -4      C"
      ]
     },
     "execution_count": 93,
     "metadata": {},
     "output_type": "execute_result"
    }
   ],
   "source": [
    "bureau_balance.head()"
   ]
  },
  {
   "cell_type": "markdown",
   "metadata": {},
   "source": [
    "### Analyzing bureau dataset"
   ]
  },
  {
   "cell_type": "code",
   "execution_count": 94,
   "metadata": {},
   "outputs": [
    {
     "data": {
      "text/html": [
       "<div>\n",
       "<style scoped>\n",
       "    .dataframe tbody tr th:only-of-type {\n",
       "        vertical-align: middle;\n",
       "    }\n",
       "\n",
       "    .dataframe tbody tr th {\n",
       "        vertical-align: top;\n",
       "    }\n",
       "\n",
       "    .dataframe thead th {\n",
       "        text-align: right;\n",
       "    }\n",
       "</style>\n",
       "<table border=\"1\" class=\"dataframe\">\n",
       "  <thead>\n",
       "    <tr style=\"text-align: right;\">\n",
       "      <th></th>\n",
       "      <th>SK_ID_CURR</th>\n",
       "      <th>SK_ID_BUREAU</th>\n",
       "      <th>CREDIT_ACTIVE</th>\n",
       "      <th>CREDIT_CURRENCY</th>\n",
       "      <th>DAYS_CREDIT</th>\n",
       "      <th>CREDIT_DAY_OVERDUE</th>\n",
       "      <th>DAYS_CREDIT_ENDDATE</th>\n",
       "      <th>DAYS_ENDDATE_FACT</th>\n",
       "      <th>CNT_CREDIT_PROLONG</th>\n",
       "      <th>AMT_CREDIT_SUM</th>\n",
       "      <th>AMT_CREDIT_SUM_DEBT</th>\n",
       "      <th>AMT_CREDIT_SUM_LIMIT</th>\n",
       "      <th>AMT_CREDIT_SUM_OVERDUE</th>\n",
       "      <th>CREDIT_TYPE</th>\n",
       "      <th>DAYS_CREDIT_UPDATE</th>\n",
       "    </tr>\n",
       "  </thead>\n",
       "  <tbody>\n",
       "    <tr>\n",
       "      <th>0</th>\n",
       "      <td>215354</td>\n",
       "      <td>5714462</td>\n",
       "      <td>Closed</td>\n",
       "      <td>currency 1</td>\n",
       "      <td>-497</td>\n",
       "      <td>0</td>\n",
       "      <td>-153.0</td>\n",
       "      <td>-153.0</td>\n",
       "      <td>0</td>\n",
       "      <td>91323.0</td>\n",
       "      <td>0.0</td>\n",
       "      <td>NaN</td>\n",
       "      <td>0.0</td>\n",
       "      <td>Consumer credit</td>\n",
       "      <td>-131</td>\n",
       "    </tr>\n",
       "    <tr>\n",
       "      <th>1</th>\n",
       "      <td>215354</td>\n",
       "      <td>5714463</td>\n",
       "      <td>Active</td>\n",
       "      <td>currency 1</td>\n",
       "      <td>-208</td>\n",
       "      <td>0</td>\n",
       "      <td>1075.0</td>\n",
       "      <td>NaN</td>\n",
       "      <td>0</td>\n",
       "      <td>225000.0</td>\n",
       "      <td>171342.0</td>\n",
       "      <td>NaN</td>\n",
       "      <td>0.0</td>\n",
       "      <td>Credit card</td>\n",
       "      <td>-20</td>\n",
       "    </tr>\n",
       "    <tr>\n",
       "      <th>2</th>\n",
       "      <td>215354</td>\n",
       "      <td>5714464</td>\n",
       "      <td>Active</td>\n",
       "      <td>currency 1</td>\n",
       "      <td>-203</td>\n",
       "      <td>0</td>\n",
       "      <td>528.0</td>\n",
       "      <td>NaN</td>\n",
       "      <td>0</td>\n",
       "      <td>464323.5</td>\n",
       "      <td>NaN</td>\n",
       "      <td>NaN</td>\n",
       "      <td>0.0</td>\n",
       "      <td>Consumer credit</td>\n",
       "      <td>-16</td>\n",
       "    </tr>\n",
       "    <tr>\n",
       "      <th>3</th>\n",
       "      <td>215354</td>\n",
       "      <td>5714465</td>\n",
       "      <td>Active</td>\n",
       "      <td>currency 1</td>\n",
       "      <td>-203</td>\n",
       "      <td>0</td>\n",
       "      <td>NaN</td>\n",
       "      <td>NaN</td>\n",
       "      <td>0</td>\n",
       "      <td>90000.0</td>\n",
       "      <td>NaN</td>\n",
       "      <td>NaN</td>\n",
       "      <td>0.0</td>\n",
       "      <td>Credit card</td>\n",
       "      <td>-16</td>\n",
       "    </tr>\n",
       "    <tr>\n",
       "      <th>4</th>\n",
       "      <td>215354</td>\n",
       "      <td>5714466</td>\n",
       "      <td>Active</td>\n",
       "      <td>currency 1</td>\n",
       "      <td>-629</td>\n",
       "      <td>0</td>\n",
       "      <td>1197.0</td>\n",
       "      <td>NaN</td>\n",
       "      <td>0</td>\n",
       "      <td>2700000.0</td>\n",
       "      <td>NaN</td>\n",
       "      <td>NaN</td>\n",
       "      <td>0.0</td>\n",
       "      <td>Consumer credit</td>\n",
       "      <td>-21</td>\n",
       "    </tr>\n",
       "  </tbody>\n",
       "</table>\n",
       "</div>"
      ],
      "text/plain": [
       "   SK_ID_CURR  SK_ID_BUREAU CREDIT_ACTIVE CREDIT_CURRENCY  DAYS_CREDIT  \\\n",
       "0      215354       5714462        Closed      currency 1         -497   \n",
       "1      215354       5714463        Active      currency 1         -208   \n",
       "2      215354       5714464        Active      currency 1         -203   \n",
       "3      215354       5714465        Active      currency 1         -203   \n",
       "4      215354       5714466        Active      currency 1         -629   \n",
       "\n",
       "   CREDIT_DAY_OVERDUE  DAYS_CREDIT_ENDDATE  DAYS_ENDDATE_FACT  \\\n",
       "0                   0               -153.0             -153.0   \n",
       "1                   0               1075.0                NaN   \n",
       "2                   0                528.0                NaN   \n",
       "3                   0                  NaN                NaN   \n",
       "4                   0               1197.0                NaN   \n",
       "\n",
       "   CNT_CREDIT_PROLONG  AMT_CREDIT_SUM  AMT_CREDIT_SUM_DEBT  \\\n",
       "0                   0         91323.0                  0.0   \n",
       "1                   0        225000.0             171342.0   \n",
       "2                   0        464323.5                  NaN   \n",
       "3                   0         90000.0                  NaN   \n",
       "4                   0       2700000.0                  NaN   \n",
       "\n",
       "   AMT_CREDIT_SUM_LIMIT  AMT_CREDIT_SUM_OVERDUE      CREDIT_TYPE  \\\n",
       "0                   NaN                     0.0  Consumer credit   \n",
       "1                   NaN                     0.0      Credit card   \n",
       "2                   NaN                     0.0  Consumer credit   \n",
       "3                   NaN                     0.0      Credit card   \n",
       "4                   NaN                     0.0  Consumer credit   \n",
       "\n",
       "   DAYS_CREDIT_UPDATE  \n",
       "0                -131  \n",
       "1                 -20  \n",
       "2                 -16  \n",
       "3                 -16  \n",
       "4                 -21  "
      ]
     },
     "execution_count": 94,
     "metadata": {},
     "output_type": "execute_result"
    }
   ],
   "source": [
    "bureau.head()"
   ]
  },
  {
   "cell_type": "code",
   "execution_count": 98,
   "metadata": {},
   "outputs": [
    {
     "data": {
      "text/plain": [
       "count        1716428\n",
       "unique             4\n",
       "top       currency 1\n",
       "freq         1715020\n",
       "Name: CREDIT_CURRENCY, dtype: object"
      ]
     },
     "execution_count": 98,
     "metadata": {},
     "output_type": "execute_result"
    }
   ],
   "source": [
    "bureau['CREDIT_CURRENCY'].describe()"
   ]
  },
  {
   "cell_type": "code",
   "execution_count": 99,
   "metadata": {},
   "outputs": [
    {
     "data": {
      "image/png": "[encoded data removed]",
      "text/plain": [
       "<Figure size 360x360 with 1 Axes>"
      ]
     },
     "metadata": {
      "needs_background": "light"
     },
     "output_type": "display_data"
    }
   ],
   "source": [
    "sns.catplot(y='CREDIT_CURRENCY', kind='count', data=bureau)\n",
    "plt.show()"
   ]
  },
  {
   "cell_type": "code",
   "execution_count": 100,
   "metadata": {},
   "outputs": [
    {
     "data": {
      "text/plain": [
       "count    1.716428e+06\n",
       "mean     6.410406e-03\n",
       "std      9.622391e-02\n",
       "min      0.000000e+00\n",
       "25%      0.000000e+00\n",
       "50%      0.000000e+00\n",
       "75%      0.000000e+00\n",
       "max      9.000000e+00\n",
       "Name: CNT_CREDIT_PROLONG, dtype: float64"
      ]
     },
     "execution_count": 100,
     "metadata": {},
     "output_type": "execute_result"
    }
   ],
   "source": [
    "bureau['CNT_CREDIT_PROLONG'].describe()"
   ]
  },
  {
   "cell_type": "code",
   "execution_count": 101,
   "metadata": {},
   "outputs": [
    {
     "data": {
      "image/png": "[encoded data removed]",
      "text/plain": [
       "<Figure size 432x288 with 1 Axes>"
      ]
     },
     "metadata": {
      "needs_background": "light"
     },
     "output_type": "display_data"
    }
   ],
   "source": [
    "plt.hist(data=bureau,x='CNT_CREDIT_PROLONG')\n",
    "plt.show()"
   ]
  },
  {
   "cell_type": "code",
   "execution_count": 102,
   "metadata": {},
   "outputs": [
    {
     "data": {
      "text/plain": [
       "count             1716428\n",
       "unique                 15\n",
       "top       Consumer credit\n",
       "freq              1251615\n",
       "Name: CREDIT_TYPE, dtype: object"
      ]
     },
     "execution_count": 102,
     "metadata": {},
     "output_type": "execute_result"
    }
   ],
   "source": [
    "bureau['CREDIT_TYPE'].describe()"
   ]
  },
  {
   "cell_type": "code",
   "execution_count": 103,
   "metadata": {},
   "outputs": [
    {
     "data": {
      "image/png": "[encoded data removed]",
      "text/plain": [
       "<Figure size 360x360 with 1 Axes>"
      ]
     },
     "metadata": {
      "needs_background": "light"
     },
     "output_type": "display_data"
    }
   ],
   "source": [
    "sns.catplot(y='CREDIT_TYPE', kind='count', data=bureau)\n",
    "plt.show()"
   ]
  },
  {
   "cell_type": "markdown",
   "metadata": {},
   "source": [
    "### Analyzing previous_application dataset"
   ]
  },
  {
   "cell_type": "code",
   "execution_count": 104,
   "metadata": {},
   "outputs": [
    {
     "data": {
      "text/html": [
       "<div>\n",
       "<style scoped>\n",
       "    .dataframe tbody tr th:only-of-type {\n",
       "        vertical-align: middle;\n",
       "    }\n",
       "\n",
       "    .dataframe tbody tr th {\n",
       "        vertical-align: top;\n",
       "    }\n",
       "\n",
       "    .dataframe thead th {\n",
       "        text-align: right;\n",
       "    }\n",
       "</style>\n",
       "<table border=\"1\" class=\"dataframe\">\n",
       "  <thead>\n",
       "    <tr style=\"text-align: right;\">\n",
       "      <th></th>\n",
       "      <th>SK_ID_PREV</th>\n",
       "      <th>SK_ID_CURR</th>\n",
       "      <th>NAME_CONTRACT_TYPE</th>\n",
       "      <th>AMT_ANNUITY</th>\n",
       "      <th>AMT_APPLICATION</th>\n",
       "      <th>AMT_CREDIT</th>\n",
       "      <th>AMT_DOWN_PAYMENT</th>\n",
       "      <th>AMT_GOODS_PRICE</th>\n",
       "      <th>WEEKDAY_APPR_PROCESS_START</th>\n",
       "      <th>HOUR_APPR_PROCESS_START</th>\n",
       "      <th>...</th>\n",
       "      <th>NAME_SELLER_INDUSTRY</th>\n",
       "      <th>CNT_PAYMENT</th>\n",
       "      <th>NAME_YIELD_GROUP</th>\n",
       "      <th>PRODUCT_COMBINATION</th>\n",
       "      <th>DAYS_FIRST_DRAWING</th>\n",
       "      <th>DAYS_FIRST_DUE</th>\n",
       "      <th>DAYS_LAST_DUE_1ST_VERSION</th>\n",
       "      <th>DAYS_LAST_DUE</th>\n",
       "      <th>DAYS_TERMINATION</th>\n",
       "      <th>NFLAG_INSURED_ON_APPROVAL</th>\n",
       "    </tr>\n",
       "  </thead>\n",
       "  <tbody>\n",
       "    <tr>\n",
       "      <th>0</th>\n",
       "      <td>2030495</td>\n",
       "      <td>271877</td>\n",
       "      <td>Consumer loans</td>\n",
       "      <td>1730.430</td>\n",
       "      <td>17145.0</td>\n",
       "      <td>17145.0</td>\n",
       "      <td>0.0</td>\n",
       "      <td>17145.0</td>\n",
       "      <td>SATURDAY</td>\n",
       "      <td>15</td>\n",
       "      <td>...</td>\n",
       "      <td>Connectivity</td>\n",
       "      <td>12.0</td>\n",
       "      <td>middle</td>\n",
       "      <td>POS mobile with interest</td>\n",
       "      <td>365243.0</td>\n",
       "      <td>-42.0</td>\n",
       "      <td>300.0</td>\n",
       "      <td>-42.0</td>\n",
       "      <td>-37.0</td>\n",
       "      <td>0.0</td>\n",
       "    </tr>\n",
       "    <tr>\n",
       "      <th>1</th>\n",
       "      <td>2802425</td>\n",
       "      <td>108129</td>\n",
       "      <td>Cash loans</td>\n",
       "      <td>25188.615</td>\n",
       "      <td>607500.0</td>\n",
       "      <td>679671.0</td>\n",
       "      <td>NaN</td>\n",
       "      <td>607500.0</td>\n",
       "      <td>THURSDAY</td>\n",
       "      <td>11</td>\n",
       "      <td>...</td>\n",
       "      <td>XNA</td>\n",
       "      <td>36.0</td>\n",
       "      <td>low_action</td>\n",
       "      <td>Cash X-Sell: low</td>\n",
       "      <td>365243.0</td>\n",
       "      <td>-134.0</td>\n",
       "      <td>916.0</td>\n",
       "      <td>365243.0</td>\n",
       "      <td>365243.0</td>\n",
       "      <td>1.0</td>\n",
       "    </tr>\n",
       "    <tr>\n",
       "      <th>2</th>\n",
       "      <td>2523466</td>\n",
       "      <td>122040</td>\n",
       "      <td>Cash loans</td>\n",
       "      <td>15060.735</td>\n",
       "      <td>112500.0</td>\n",
       "      <td>136444.5</td>\n",
       "      <td>NaN</td>\n",
       "      <td>112500.0</td>\n",
       "      <td>TUESDAY</td>\n",
       "      <td>11</td>\n",
       "      <td>...</td>\n",
       "      <td>XNA</td>\n",
       "      <td>12.0</td>\n",
       "      <td>high</td>\n",
       "      <td>Cash X-Sell: high</td>\n",
       "      <td>365243.0</td>\n",
       "      <td>-271.0</td>\n",
       "      <td>59.0</td>\n",
       "      <td>365243.0</td>\n",
       "      <td>365243.0</td>\n",
       "      <td>1.0</td>\n",
       "    </tr>\n",
       "    <tr>\n",
       "      <th>3</th>\n",
       "      <td>2819243</td>\n",
       "      <td>176158</td>\n",
       "      <td>Cash loans</td>\n",
       "      <td>47041.335</td>\n",
       "      <td>450000.0</td>\n",
       "      <td>470790.0</td>\n",
       "      <td>NaN</td>\n",
       "      <td>450000.0</td>\n",
       "      <td>MONDAY</td>\n",
       "      <td>7</td>\n",
       "      <td>...</td>\n",
       "      <td>XNA</td>\n",
       "      <td>12.0</td>\n",
       "      <td>middle</td>\n",
       "      <td>Cash X-Sell: middle</td>\n",
       "      <td>365243.0</td>\n",
       "      <td>-482.0</td>\n",
       "      <td>-152.0</td>\n",
       "      <td>-182.0</td>\n",
       "      <td>-177.0</td>\n",
       "      <td>1.0</td>\n",
       "    </tr>\n",
       "    <tr>\n",
       "      <th>4</th>\n",
       "      <td>1784265</td>\n",
       "      <td>202054</td>\n",
       "      <td>Cash loans</td>\n",
       "      <td>31924.395</td>\n",
       "      <td>337500.0</td>\n",
       "      <td>404055.0</td>\n",
       "      <td>NaN</td>\n",
       "      <td>337500.0</td>\n",
       "      <td>THURSDAY</td>\n",
       "      <td>9</td>\n",
       "      <td>...</td>\n",
       "      <td>XNA</td>\n",
       "      <td>24.0</td>\n",
       "      <td>high</td>\n",
       "      <td>Cash Street: high</td>\n",
       "      <td>NaN</td>\n",
       "      <td>NaN</td>\n",
       "      <td>NaN</td>\n",
       "      <td>NaN</td>\n",
       "      <td>NaN</td>\n",
       "      <td>NaN</td>\n",
       "    </tr>\n",
       "  </tbody>\n",
       "</table>\n",
       "<p>5 rows × 35 columns</p>\n",
       "</div>"
      ],
      "text/plain": [
       "   SK_ID_PREV  SK_ID_CURR NAME_CONTRACT_TYPE  AMT_ANNUITY  AMT_APPLICATION  \\\n",
       "0     2030495      271877     Consumer loans     1730.430          17145.0   \n",
       "1     2802425      108129         Cash loans    25188.615         607500.0   \n",
       "2     2523466      122040         Cash loans    15060.735         112500.0   \n",
       "3     2819243      176158         Cash loans    47041.335         450000.0   \n",
       "4     1784265      202054         Cash loans    31924.395         337500.0   \n",
       "\n",
       "   AMT_CREDIT  AMT_DOWN_PAYMENT  AMT_GOODS_PRICE WEEKDAY_APPR_PROCESS_START  \\\n",
       "0     17145.0               0.0          17145.0                   SATURDAY   \n",
       "1    679671.0               NaN         607500.0                   THURSDAY   \n",
       "2    136444.5               NaN         112500.0                    TUESDAY   \n",
       "3    470790.0               NaN         450000.0                     MONDAY   \n",
       "4    404055.0               NaN         337500.0                   THURSDAY   \n",
       "\n",
       "   HOUR_APPR_PROCESS_START  ... NAME_SELLER_INDUSTRY  CNT_PAYMENT  \\\n",
       "0                       15  ...         Connectivity         12.0   \n",
       "1                       11  ...                  XNA         36.0   \n",
       "2                       11  ...                  XNA         12.0   \n",
       "3                        7  ...                  XNA         12.0   \n",
       "4                        9  ...                  XNA         24.0   \n",
       "\n",
       "   NAME_YIELD_GROUP       PRODUCT_COMBINATION DAYS_FIRST_DRAWING  \\\n",
       "0            middle  POS mobile with interest           365243.0   \n",
       "1        low_action          Cash X-Sell: low           365243.0   \n",
       "2              high         Cash X-Sell: high           365243.0   \n",
       "3            middle       Cash X-Sell: middle           365243.0   \n",
       "4              high         Cash Street: high                NaN   \n",
       "\n",
       "   DAYS_FIRST_DUE DAYS_LAST_DUE_1ST_VERSION DAYS_LAST_DUE DAYS_TERMINATION  \\\n",
       "0           -42.0                     300.0         -42.0            -37.0   \n",
       "1          -134.0                     916.0      365243.0         365243.0   \n",
       "2          -271.0                      59.0      365243.0         365243.0   \n",
       "3          -482.0                    -152.0        -182.0           -177.0   \n",
       "4             NaN                       NaN           NaN              NaN   \n",
       "\n",
       "  NFLAG_INSURED_ON_APPROVAL  \n",
       "0                       0.0  \n",
       "1                       1.0  \n",
       "2                       1.0  \n",
       "3                       1.0  \n",
       "4                       NaN  \n",
       "\n",
       "[5 rows x 35 columns]"
      ]
     },
     "execution_count": 104,
     "metadata": {},
     "output_type": "execute_result"
    }
   ],
   "source": [
    "prev_app.head()"
   ]
  },
  {
   "cell_type": "code",
   "execution_count": 105,
   "metadata": {
    "scrolled": true
   },
   "outputs": [
    {
     "name": "stdout",
     "output_type": "stream",
     "text": [
      "1670214\n"
     ]
    }
   ],
   "source": [
    "print(prev_app.shape[0])"
   ]
  },
  {
   "cell_type": "code",
   "execution_count": 106,
   "metadata": {},
   "outputs": [
    {
     "data": {
      "text/plain": [
       "338857"
      ]
     },
     "execution_count": 106,
     "metadata": {},
     "output_type": "execute_result"
    }
   ],
   "source": [
    "len(prev_app['SK_ID_CURR'].unique())"
   ]
  },
  {
   "cell_type": "code",
   "execution_count": 107,
   "metadata": {},
   "outputs": [
    {
     "data": {
      "text/plain": [
       "Index(['SK_ID_PREV', 'SK_ID_CURR', 'NAME_CONTRACT_TYPE', 'AMT_ANNUITY',\n",
       "       'AMT_APPLICATION', 'AMT_CREDIT', 'AMT_DOWN_PAYMENT', 'AMT_GOODS_PRICE',\n",
       "       'WEEKDAY_APPR_PROCESS_START', 'HOUR_APPR_PROCESS_START',\n",
       "       'FLAG_LAST_APPL_PER_CONTRACT', 'NFLAG_LAST_APPL_IN_DAY',\n",
       "       'RATE_DOWN_PAYMENT', 'NAME_CASH_LOAN_PURPOSE', 'NAME_CONTRACT_STATUS',\n",
       "       'DAYS_DECISION', 'NAME_PAYMENT_TYPE', 'CODE_REJECT_REASON',\n",
       "       'NAME_TYPE_SUITE', 'NAME_CLIENT_TYPE', 'NAME_GOODS_CATEGORY',\n",
       "       'NAME_PORTFOLIO', 'NAME_PRODUCT_TYPE', 'CHANNEL_TYPE',\n",
       "       'SELLERPLACE_AREA', 'NAME_SELLER_INDUSTRY', 'CNT_PAYMENT',\n",
       "       'NAME_YIELD_GROUP', 'PRODUCT_COMBINATION', 'DAYS_FIRST_DRAWING',\n",
       "       'DAYS_FIRST_DUE', 'DAYS_LAST_DUE_1ST_VERSION', 'DAYS_LAST_DUE',\n",
       "       'DAYS_TERMINATION', 'NFLAG_INSURED_ON_APPROVAL'],\n",
       "      dtype='object')"
      ]
     },
     "execution_count": 107,
     "metadata": {},
     "output_type": "execute_result"
    }
   ],
   "source": [
    "prev_app.columns"
   ]
  },
  {
   "cell_type": "markdown",
   "metadata": {},
   "source": [
    "#### FLAG_LAST_APPL_PER_CONTRACT"
   ]
  },
  {
   "cell_type": "code",
   "execution_count": 108,
   "metadata": {},
   "outputs": [
    {
     "data": {
      "text/plain": [
       "array(['Y', 'N'], dtype=object)"
      ]
     },
     "execution_count": 108,
     "metadata": {},
     "output_type": "execute_result"
    }
   ],
   "source": [
    "prev_app['FLAG_LAST_APPL_PER_CONTRACT'].unique()"
   ]
  },
  {
   "cell_type": "code",
   "execution_count": 109,
   "metadata": {},
   "outputs": [
    {
     "data": {
      "text/plain": [
       "<seaborn.axisgrid.FacetGrid at 0x1be18296d08>"
      ]
     },
     "execution_count": 109,
     "metadata": {},
     "output_type": "execute_result"
    },
    {
     "data": {
      "image/png": "[encoded data removed]",
      "text/plain": [
       "<Figure size 360x360 with 1 Axes>"
      ]
     },
     "metadata": {
      "needs_background": "light"
     },
     "output_type": "display_data"
    }
   ],
   "source": [
    "sns.catplot(y='FLAG_LAST_APPL_PER_CONTRACT', kind='count', data=prev_app)"
   ]
  },
  {
   "cell_type": "code",
   "execution_count": 110,
   "metadata": {},
   "outputs": [
    {
     "data": {
      "text/plain": [
       "0.9949257999274345"
      ]
     },
     "execution_count": 110,
     "metadata": {},
     "output_type": "execute_result"
    }
   ],
   "source": [
    "prev_app[prev_app['FLAG_LAST_APPL_PER_CONTRACT']=='Y'].shape[0]/prev_app.shape[0]"
   ]
  },
  {
   "cell_type": "code",
   "execution_count": 111,
   "metadata": {},
   "outputs": [],
   "source": [
    "prev_app.drop(columns='FLAG_LAST_APPL_PER_CONTRACT', inplace=True)"
   ]
  },
  {
   "cell_type": "markdown",
   "metadata": {},
   "source": [
    "#### NFLAG_LAST_APPL_IN_DAY"
   ]
  },
  {
   "cell_type": "code",
   "execution_count": 112,
   "metadata": {},
   "outputs": [
    {
     "data": {
      "text/plain": [
       "array([1, 0], dtype=int64)"
      ]
     },
     "execution_count": 112,
     "metadata": {},
     "output_type": "execute_result"
    }
   ],
   "source": [
    "prev_app['NFLAG_LAST_APPL_IN_DAY'].unique()"
   ]
  },
  {
   "cell_type": "code",
   "execution_count": 113,
   "metadata": {},
   "outputs": [
    {
     "data": {
      "text/plain": [
       "0.0035324814664468144"
      ]
     },
     "execution_count": 113,
     "metadata": {},
     "output_type": "execute_result"
    }
   ],
   "source": [
    "prev_app[prev_app['NFLAG_LAST_APPL_IN_DAY']==0].shape[0]/prev_app.shape[0]"
   ]
  },
  {
   "cell_type": "code",
   "execution_count": 114,
   "metadata": {},
   "outputs": [],
   "source": [
    "prev_app.drop(columns='NFLAG_LAST_APPL_IN_DAY', inplace=True)"
   ]
  },
  {
   "cell_type": "markdown",
   "metadata": {},
   "source": [
    "#### NAME_CASH_LOAN_PURPOSE"
   ]
  },
  {
   "cell_type": "code",
   "execution_count": 115,
   "metadata": {},
   "outputs": [
    {
     "data": {
      "text/plain": [
       "count     1670214\n",
       "unique         25\n",
       "top           XAP\n",
       "freq       922661\n",
       "Name: NAME_CASH_LOAN_PURPOSE, dtype: object"
      ]
     },
     "execution_count": 115,
     "metadata": {},
     "output_type": "execute_result"
    }
   ],
   "source": [
    "prev_app['NAME_CASH_LOAN_PURPOSE'].describe()"
   ]
  },
  {
   "cell_type": "code",
   "execution_count": 116,
   "metadata": {},
   "outputs": [
    {
     "data": {
      "text/plain": [
       "<seaborn.axisgrid.FacetGrid at 0x1bf5499c848>"
      ]
     },
     "execution_count": 116,
     "metadata": {},
     "output_type": "execute_result"
    },
    {
     "data": {
      "image/png": "[encoded data removed]",
      "text/plain": [
       "<Figure size 360x360 with 1 Axes>"
      ]
     },
     "metadata": {
      "needs_background": "light"
     },
     "output_type": "display_data"
    }
   ],
   "source": [
    "sns.catplot(y='NAME_CASH_LOAN_PURPOSE', kind='count', data=prev_app)"
   ]
  },
  {
   "cell_type": "code",
   "execution_count": 117,
   "metadata": {},
   "outputs": [],
   "source": [
    "cat = prev_app['NAME_CASH_LOAN_PURPOSE'].value_counts()\n",
    "cat = cat[cat > 1000].index.tolist()\n",
    "prev_app.loc[~prev_app['NAME_CASH_LOAN_PURPOSE'].isin(cat), 'NAME_CASH_LOAN_PURPOSE'] = 'Other'"
   ]
  },
  {
   "cell_type": "code",
   "execution_count": 118,
   "metadata": {},
   "outputs": [
    {
     "data": {
      "text/plain": [
       "<seaborn.axisgrid.FacetGrid at 0x1bf549bb348>"
      ]
     },
     "execution_count": 118,
     "metadata": {},
     "output_type": "execute_result"
    },
    {
     "data": {
      "image/png": "[encoded data removed]",
      "text/plain": [
       "<Figure size 360x360 with 1 Axes>"
      ]
     },
     "metadata": {
      "needs_background": "light"
     },
     "output_type": "display_data"
    }
   ],
   "source": [
    "sns.catplot(y='NAME_CASH_LOAN_PURPOSE', kind='count', data=prev_app)"
   ]
  },
  {
   "cell_type": "markdown",
   "metadata": {},
   "source": [
    "#### NAME_CONTRACT_STATUS"
   ]
  },
  {
   "cell_type": "code",
   "execution_count": 119,
   "metadata": {},
   "outputs": [
    {
     "data": {
      "text/plain": [
       "count      1670214\n",
       "unique           4\n",
       "top       Approved\n",
       "freq       1036781\n",
       "Name: NAME_CONTRACT_STATUS, dtype: object"
      ]
     },
     "execution_count": 119,
     "metadata": {},
     "output_type": "execute_result"
    }
   ],
   "source": [
    "prev_app['NAME_CONTRACT_STATUS'].describe()"
   ]
  },
  {
   "cell_type": "code",
   "execution_count": 120,
   "metadata": {},
   "outputs": [
    {
     "data": {
      "text/plain": [
       "<seaborn.axisgrid.FacetGrid at 0x1be928a5f48>"
      ]
     },
     "execution_count": 120,
     "metadata": {},
     "output_type": "execute_result"
    },
    {
     "data": {
      "image/png": "[encoded data removed]",
      "text/plain": [
       "<Figure size 360x360 with 1 Axes>"
      ]
     },
     "metadata": {
      "needs_background": "light"
     },
     "output_type": "display_data"
    }
   ],
   "source": [
    "sns.catplot(y='NAME_CONTRACT_STATUS', kind='count', data=prev_app)"
   ]
  },
  {
   "cell_type": "markdown",
   "metadata": {},
   "source": [
    "#### DAYS_DECISION"
   ]
  },
  {
   "cell_type": "code",
   "execution_count": 121,
   "metadata": {},
   "outputs": [
    {
     "data": {
      "text/plain": [
       "count    1.670214e+06\n",
       "mean    -8.806797e+02\n",
       "std      7.790997e+02\n",
       "min     -2.922000e+03\n",
       "25%     -1.300000e+03\n",
       "50%     -5.810000e+02\n",
       "75%     -2.800000e+02\n",
       "max     -1.000000e+00\n",
       "Name: DAYS_DECISION, dtype: float64"
      ]
     },
     "execution_count": 121,
     "metadata": {},
     "output_type": "execute_result"
    }
   ],
   "source": [
    "prev_app['DAYS_DECISION'].describe()"
   ]
  },
  {
   "cell_type": "code",
   "execution_count": 122,
   "metadata": {},
   "outputs": [
    {
     "data": {
      "text/plain": [
       "<matplotlib.axes._subplots.AxesSubplot at 0x1c03392a188>"
      ]
     },
     "execution_count": 122,
     "metadata": {},
     "output_type": "execute_result"
    },
    {
     "data": {
      "image/png": "[encoded data removed]",
      "text/plain": [
       "<Figure size 432x288 with 1 Axes>"
      ]
     },
     "metadata": {
      "needs_background": "light"
     },
     "output_type": "display_data"
    }
   ],
   "source": [
    "sns.distplot(prev_app['DAYS_DECISION'], rug=True)"
   ]
  },
  {
   "cell_type": "markdown",
   "metadata": {},
   "source": [
    "#### NAME_TYPE_SUITE "
   ]
  },
  {
   "cell_type": "code",
   "execution_count": 123,
   "metadata": {},
   "outputs": [
    {
     "data": {
      "text/plain": [
       "<seaborn.axisgrid.FacetGrid at 0x1bf3fdc5f08>"
      ]
     },
     "execution_count": 123,
     "metadata": {},
     "output_type": "execute_result"
    },
    {
     "data": {
      "image/png": "[encoded data removed]",
      "text/plain": [
       "<Figure size 360x360 with 1 Axes>"
      ]
     },
     "metadata": {
      "needs_background": "light"
     },
     "output_type": "display_data"
    }
   ],
   "source": [
    "sns.catplot(y='NAME_TYPE_SUITE', kind='count', data=prev_app)"
   ]
  },
  {
   "cell_type": "code",
   "execution_count": 124,
   "metadata": {},
   "outputs": [
    {
     "data": {
      "text/plain": [
       "Unaccompanied      508970\n",
       "Family             213263\n",
       "Spouse, partner     67069\n",
       "Children            31566\n",
       "Other_B             17624\n",
       "Other_A              9077\n",
       "Group of people      2240\n",
       "Name: NAME_TYPE_SUITE, dtype: int64"
      ]
     },
     "execution_count": 124,
     "metadata": {},
     "output_type": "execute_result"
    }
   ],
   "source": [
    "cat = prev_app['NAME_TYPE_SUITE'].value_counts()\n",
    "cat"
   ]
  },
  {
   "cell_type": "code",
   "execution_count": 125,
   "metadata": {},
   "outputs": [],
   "source": [
    "prev_app.loc[prev_app['NAME_TYPE_SUITE']=='Other_B', 'NAME_TYPE_SUITE'] = 'Other'\n",
    "prev_app.loc[prev_app['NAME_TYPE_SUITE']=='Other_A', 'NAME_TYPE_SUITE'] = 'Other'\n",
    "prev_app.loc[prev_app['NAME_TYPE_SUITE']=='Group of people', 'NAME_TYPE_SUITE'] = 'Other'"
   ]
  },
  {
   "cell_type": "markdown",
   "metadata": {},
   "source": [
    "#### NAME_GOODS_CATEGORY"
   ]
  },
  {
   "cell_type": "code",
   "execution_count": 126,
   "metadata": {},
   "outputs": [
    {
     "data": {
      "text/plain": [
       "<seaborn.axisgrid.FacetGrid at 0x1c033b46bc8>"
      ]
     },
     "execution_count": 126,
     "metadata": {},
     "output_type": "execute_result"
    },
    {
     "data": {
      "image/png": "[encoded data removed]",
      "text/plain": [
       "<Figure size 360x360 with 1 Axes>"
      ]
     },
     "metadata": {
      "needs_background": "light"
     },
     "output_type": "display_data"
    }
   ],
   "source": [
    "sns.catplot(y='NAME_GOODS_CATEGORY', kind='count', data=prev_app)"
   ]
  },
  {
   "cell_type": "code",
   "execution_count": 127,
   "metadata": {},
   "outputs": [],
   "source": [
    "cat = prev_app['NAME_GOODS_CATEGORY'].value_counts()\n",
    "cat = cat[cat > 1000].index.tolist()\n",
    "prev_app.loc[~prev_app['NAME_GOODS_CATEGORY'].isin(cat), 'NAME_GOODS_CATEGORY'] = 'Other'"
   ]
  },
  {
   "cell_type": "code",
   "execution_count": 128,
   "metadata": {},
   "outputs": [
    {
     "data": {
      "text/plain": [
       "<seaborn.axisgrid.FacetGrid at 0x1c022e389c8>"
      ]
     },
     "execution_count": 128,
     "metadata": {},
     "output_type": "execute_result"
    },
    {
     "data": {
      "image/png": "[encoded data removed]",
      "text/plain": [
       "<Figure size 360x360 with 1 Axes>"
      ]
     },
     "metadata": {
      "needs_background": "light"
     },
     "output_type": "display_data"
    }
   ],
   "source": [
    "sns.catplot(y='NAME_GOODS_CATEGORY', kind='count', data=prev_app)"
   ]
  },
  {
   "cell_type": "markdown",
   "metadata": {},
   "source": [
    "#### SELLERPLACE_AREA"
   ]
  },
  {
   "cell_type": "code",
   "execution_count": 129,
   "metadata": {},
   "outputs": [
    {
     "data": {
      "text/plain": [
       "0    35\n",
       "1    -1\n",
       "2    -1\n",
       "3    -1\n",
       "4    -1\n",
       "Name: SELLERPLACE_AREA, dtype: int64"
      ]
     },
     "execution_count": 129,
     "metadata": {},
     "output_type": "execute_result"
    }
   ],
   "source": [
    "prev_app['SELLERPLACE_AREA'].head()"
   ]
  },
  {
   "cell_type": "code",
   "execution_count": 130,
   "metadata": {},
   "outputs": [
    {
     "data": {
      "text/plain": [
       "762675"
      ]
     },
     "execution_count": 130,
     "metadata": {},
     "output_type": "execute_result"
    }
   ],
   "source": [
    "prev_app[prev_app['SELLERPLACE_AREA']==-1].shape[0]"
   ]
  },
  {
   "cell_type": "code",
   "execution_count": 131,
   "metadata": {},
   "outputs": [
    {
     "data": {
      "text/plain": [
       "907539"
      ]
     },
     "execution_count": 131,
     "metadata": {},
     "output_type": "execute_result"
    }
   ],
   "source": [
    "prev_app[prev_app['SELLERPLACE_AREA']!=-1].shape[0]"
   ]
  },
  {
   "cell_type": "code",
   "execution_count": 132,
   "metadata": {},
   "outputs": [],
   "source": [
    "prev_app.drop(columns='SELLERPLACE_AREA', inplace=True)"
   ]
  },
  {
   "cell_type": "markdown",
   "metadata": {},
   "source": [
    "### Analyzing POS_CASH_balance dataset"
   ]
  },
  {
   "cell_type": "code",
   "execution_count": 133,
   "metadata": {},
   "outputs": [
    {
     "data": {
      "text/html": [
       "<div>\n",
       "<style scoped>\n",
       "    .dataframe tbody tr th:only-of-type {\n",
       "        vertical-align: middle;\n",
       "    }\n",
       "\n",
       "    .dataframe tbody tr th {\n",
       "        vertical-align: top;\n",
       "    }\n",
       "\n",
       "    .dataframe thead th {\n",
       "        text-align: right;\n",
       "    }\n",
       "</style>\n",
       "<table border=\"1\" class=\"dataframe\">\n",
       "  <thead>\n",
       "    <tr style=\"text-align: right;\">\n",
       "      <th></th>\n",
       "      <th>SK_ID_PREV</th>\n",
       "      <th>SK_ID_CURR</th>\n",
       "      <th>MONTHS_BALANCE</th>\n",
       "      <th>CNT_INSTALMENT</th>\n",
       "      <th>CNT_INSTALMENT_FUTURE</th>\n",
       "      <th>NAME_CONTRACT_STATUS</th>\n",
       "      <th>SK_DPD</th>\n",
       "      <th>SK_DPD_DEF</th>\n",
       "    </tr>\n",
       "  </thead>\n",
       "  <tbody>\n",
       "    <tr>\n",
       "      <th>0</th>\n",
       "      <td>1803195</td>\n",
       "      <td>182943</td>\n",
       "      <td>-31</td>\n",
       "      <td>48.0</td>\n",
       "      <td>45.0</td>\n",
       "      <td>Active</td>\n",
       "      <td>0</td>\n",
       "      <td>0</td>\n",
       "    </tr>\n",
       "    <tr>\n",
       "      <th>1</th>\n",
       "      <td>1715348</td>\n",
       "      <td>367990</td>\n",
       "      <td>-33</td>\n",
       "      <td>36.0</td>\n",
       "      <td>35.0</td>\n",
       "      <td>Active</td>\n",
       "      <td>0</td>\n",
       "      <td>0</td>\n",
       "    </tr>\n",
       "    <tr>\n",
       "      <th>2</th>\n",
       "      <td>1784872</td>\n",
       "      <td>397406</td>\n",
       "      <td>-32</td>\n",
       "      <td>12.0</td>\n",
       "      <td>9.0</td>\n",
       "      <td>Active</td>\n",
       "      <td>0</td>\n",
       "      <td>0</td>\n",
       "    </tr>\n",
       "    <tr>\n",
       "      <th>3</th>\n",
       "      <td>1903291</td>\n",
       "      <td>269225</td>\n",
       "      <td>-35</td>\n",
       "      <td>48.0</td>\n",
       "      <td>42.0</td>\n",
       "      <td>Active</td>\n",
       "      <td>0</td>\n",
       "      <td>0</td>\n",
       "    </tr>\n",
       "    <tr>\n",
       "      <th>4</th>\n",
       "      <td>2341044</td>\n",
       "      <td>334279</td>\n",
       "      <td>-35</td>\n",
       "      <td>36.0</td>\n",
       "      <td>35.0</td>\n",
       "      <td>Active</td>\n",
       "      <td>0</td>\n",
       "      <td>0</td>\n",
       "    </tr>\n",
       "  </tbody>\n",
       "</table>\n",
       "</div>"
      ],
      "text/plain": [
       "   SK_ID_PREV  SK_ID_CURR  MONTHS_BALANCE  CNT_INSTALMENT  \\\n",
       "0     1803195      182943             -31            48.0   \n",
       "1     1715348      367990             -33            36.0   \n",
       "2     1784872      397406             -32            12.0   \n",
       "3     1903291      269225             -35            48.0   \n",
       "4     2341044      334279             -35            36.0   \n",
       "\n",
       "   CNT_INSTALMENT_FUTURE NAME_CONTRACT_STATUS  SK_DPD  SK_DPD_DEF  \n",
       "0                   45.0               Active       0           0  \n",
       "1                   35.0               Active       0           0  \n",
       "2                    9.0               Active       0           0  \n",
       "3                   42.0               Active       0           0  \n",
       "4                   35.0               Active       0           0  "
      ]
     },
     "execution_count": 133,
     "metadata": {},
     "output_type": "execute_result"
    }
   ],
   "source": [
    "psb.head()"
   ]
  },
  {
   "cell_type": "markdown",
   "metadata": {},
   "source": [
    "## Merging all datasets with *featuretools*"
   ]
  },
  {
   "cell_type": "code",
   "execution_count": 134,
   "metadata": {},
   "outputs": [],
   "source": [
    "import featuretools as ft\n",
    "import featuretools.variable_types as vtypes\n",
    "\n",
    "# creating a new entityset\n",
    "es = ft.EntitySet(id = 'clients')"
   ]
  },
  {
   "cell_type": "code",
   "execution_count": 135,
   "metadata": {},
   "outputs": [],
   "source": [
    "col_bureau_1 = set(bureau.columns)\n",
    "col_bb_1 = set(bureau_balance.columns)\n",
    "col_cc_1 = set(credit_card_balance.columns)\n",
    "col_prev_1 = set(prev_app.columns)\n",
    "col_psb_1 = set(psb.columns)\n",
    "col_pay_1 = set(payments.columns)"
   ]
  },
  {
   "cell_type": "code",
   "execution_count": 136,
   "metadata": {},
   "outputs": [],
   "source": [
    "bureau = pd.get_dummies(bureau, drop_first=True, dummy_na=True)\n",
    "credit_card_balance = pd.get_dummies(credit_card_balance, drop_first=True, dummy_na=True)\n",
    "bureau_balance = pd.get_dummies(bureau_balance, drop_first=True, dummy_na=True)\n",
    "prev_app = pd.get_dummies(prev_app, drop_first=True, dummy_na=True)\n",
    "psb = pd.get_dummies(psb, drop_first=True, dummy_na=True)\n",
    "payments = pd.get_dummies(payments, drop_first=True, dummy_na=True)"
   ]
  },
  {
   "cell_type": "code",
   "execution_count": 142,
   "metadata": {},
   "outputs": [],
   "source": [
    "col_bureau_2 = set(bureau.columns)\n",
    "col_bb_2 = set(bureau_balance.columns)\n",
    "col_cc_2 = set(credit_card_balance.columns)\n",
    "col_prev_2 = set(prev_app.columns)\n",
    "col_psb_2 = set(psb.columns)\n",
    "col_pay_2 = set(payments.columns)"
   ]
  },
  {
   "cell_type": "code",
   "execution_count": 143,
   "metadata": {},
   "outputs": [],
   "source": [
    "col_b_diff = col_bureau_2.difference(col_bureau_1)\n",
    "col_bb_diff = col_bb_2.difference(col_bb_1)\n",
    "col_cc_diff = col_cc_2.difference(col_cc_1)\n",
    "col_prev_diff = col_prev_2.difference(col_prev_1)\n",
    "col_psb_diff = col_psb_2.difference(col_psb_1)\n",
    "col_pay_diff = col_pay_2.difference(col_pay_1)"
   ]
  },
  {
   "cell_type": "code",
   "execution_count": 144,
   "metadata": {},
   "outputs": [],
   "source": [
    "vt_b = {}\n",
    "vt_bb = {}\n",
    "vt_cc = {}\n",
    "vt_prev = {}\n",
    "vt_psb = {}\n",
    "vt_pay = {}\n",
    "for var in col_b_diff:\n",
    "    vt_b[var] = vtypes.Categorical\n",
    "for var in col_bb_diff:\n",
    "    vt_bb[var] = vtypes.Categorical\n",
    "for var in col_cc_diff:\n",
    "    vt_cc[var] = vtypes.Categorical\n",
    "for var in col_prev_diff:\n",
    "    vt_prev[var] = vtypes.Categorical\n",
    "for var in col_psb_diff:\n",
    "    vt_psb[var] = vtypes.Categorical\n",
    "for var in col_pay_diff:\n",
    "    vt_pay[var] = vtypes.Categorical"
   ]
  },
  {
   "cell_type": "markdown",
   "metadata": {},
   "source": [
    "#### Creating entities"
   ]
  },
  {
   "cell_type": "code",
   "execution_count": 145,
   "metadata": {},
   "outputs": [],
   "source": [
    "es = es.entity_from_dataframe(entity_id='clients', dataframe=app, index='SK_ID_CURR')"
   ]
  },
  {
   "cell_type": "code",
   "execution_count": 146,
   "metadata": {},
   "outputs": [],
   "source": [
    "es = es.entity_from_dataframe(entity_id='bureau', dataframe=bureau, index='SK_ID_BUREAU', variable_types=vt_b)"
   ]
  },
  {
   "cell_type": "code",
   "execution_count": 147,
   "metadata": {
    "scrolled": false
   },
   "outputs": [],
   "source": [
    "es = es.entity_from_dataframe(entity_id='bureau_balance', dataframe=bureau_balance,\n",
    "                             make_index=True, index='BB_ID', variable_types=vt_bb)"
   ]
  },
  {
   "cell_type": "code",
   "execution_count": 148,
   "metadata": {},
   "outputs": [],
   "source": [
    "es = es.entity_from_dataframe(entity_id='cc_balance', dataframe=credit_card_balance, \n",
    "                              make_index=True, index='CC_BALANCE_ID', variable_types=vt_cc)"
   ]
  },
  {
   "cell_type": "code",
   "execution_count": 149,
   "metadata": {},
   "outputs": [],
   "source": [
    "es = es.entity_from_dataframe(entity_id='prev_app', dataframe=prev_app, index='SK_ID_PREV', variable_types=vt_prev)"
   ]
  },
  {
   "cell_type": "code",
   "execution_count": 150,
   "metadata": {},
   "outputs": [],
   "source": [
    "es = es.entity_from_dataframe(entity_id='pos_cash_balance', dataframe=psb, \n",
    "                              make_index=True, index='BALANCE_ID', variable_types=vt_psb)"
   ]
  },
  {
   "cell_type": "code",
   "execution_count": 151,
   "metadata": {},
   "outputs": [],
   "source": [
    "es = es.entity_from_dataframe(entity_id='payments', dataframe=payments, \n",
    "                              make_index=True, index='PAYMENT_ID', variable_types=vt_pay)"
   ]
  },
  {
   "cell_type": "markdown",
   "metadata": {},
   "source": [
    "#### Creating relationships between entities"
   ]
  },
  {
   "cell_type": "code",
   "execution_count": 152,
   "metadata": {},
   "outputs": [],
   "source": [
    "bureau_r = ft.Relationship(es['clients']['SK_ID_CURR'],\n",
    "                          es['bureau']['SK_ID_CURR'])\n",
    "cc_balance_r = ft.Relationship(es['clients']['SK_ID_CURR'],\n",
    "                          es['cc_balance']['SK_ID_CURR'])\n",
    "bureau_balance_r = ft.Relationship(es['bureau']['SK_ID_BUREAU'],\n",
    "                          es['bureau_balance']['SK_ID_BUREAU'])\n",
    "prev_app_r = ft.Relationship(es['clients']['SK_ID_CURR'],\n",
    "                          es['prev_app']['SK_ID_CURR'])\n",
    "pos_cash_r = ft.Relationship(es['clients']['SK_ID_CURR'],\n",
    "                          es['pos_cash_balance']['SK_ID_CURR'])\n",
    "payments_r = ft.Relationship(es['clients']['SK_ID_CURR'],\n",
    "                          es['payments']['SK_ID_CURR'])"
   ]
  },
  {
   "cell_type": "code",
   "execution_count": 153,
   "metadata": {},
   "outputs": [],
   "source": [
    "es = es.add_relationships([bureau_r, bureau_balance_r, cc_balance_r, prev_app_r, pos_cash_r, payments_r])"
   ]
  },
  {
   "cell_type": "code",
   "execution_count": 154,
   "metadata": {},
   "outputs": [
    {
     "data": {
      "text/plain": [
       "Entityset: clients\n",
       "  Entities:\n",
       "    clients [Rows: 356255, Columns: 188]\n",
       "    bureau [Rows: 1716428, Columns: 35]\n",
       "    bureau_balance [Rows: 27299925, Columns: 11]\n",
       "    cc_balance [Rows: 3840312, Columns: 30]\n",
       "    prev_app [Rows: 1670214, Columns: 137]\n",
       "    pos_cash_balance [Rows: 10001358, Columns: 17]\n",
       "    payments [Rows: 13605401, Columns: 9]\n",
       "  Relationships:\n",
       "    bureau.SK_ID_CURR -> clients.SK_ID_CURR\n",
       "    bureau_balance.SK_ID_BUREAU -> bureau.SK_ID_BUREAU\n",
       "    cc_balance.SK_ID_CURR -> clients.SK_ID_CURR\n",
       "    prev_app.SK_ID_CURR -> clients.SK_ID_CURR\n",
       "    pos_cash_balance.SK_ID_CURR -> clients.SK_ID_CURR\n",
       "    payments.SK_ID_CURR -> clients.SK_ID_CURR"
      ]
     },
     "execution_count": 154,
     "metadata": {},
     "output_type": "execute_result"
    }
   ],
   "source": [
    "es"
   ]
  },
  {
   "cell_type": "markdown",
   "metadata": {},
   "source": [
    "#### Choosing feature primitives"
   ]
  },
  {
   "cell_type": "markdown",
   "metadata": {},
   "source": [
    "Before perfoming the deep feature synthesis (**dfs**) we need to evaluate and choose the feature primitives to utilize both for single tables (**transformations**) and for merging (**aggregations**).  \n",
    "Specifically, in our case we are going to use just some trasformations, because we want to keep the feature engineering process manual. So, let's take a look at the options that *feature tools* offers."
   ]
  },
  {
   "cell_type": "code",
   "execution_count": 155,
   "metadata": {},
   "outputs": [
    {
     "data": {
      "text/html": [
       "<div>\n",
       "<style scoped>\n",
       "    .dataframe tbody tr th:only-of-type {\n",
       "        vertical-align: middle;\n",
       "    }\n",
       "\n",
       "    .dataframe tbody tr th {\n",
       "        vertical-align: top;\n",
       "    }\n",
       "\n",
       "    .dataframe thead th {\n",
       "        text-align: right;\n",
       "    }\n",
       "</style>\n",
       "<table border=\"1\" class=\"dataframe\">\n",
       "  <thead>\n",
       "    <tr style=\"text-align: right;\">\n",
       "      <th></th>\n",
       "      <th>name</th>\n",
       "      <th>type</th>\n",
       "      <th>description</th>\n",
       "    </tr>\n",
       "  </thead>\n",
       "  <tbody>\n",
       "    <tr>\n",
       "      <th>0</th>\n",
       "      <td>max</td>\n",
       "      <td>aggregation</td>\n",
       "      <td>Calculates the highest value, ignoring `NaN` v...</td>\n",
       "    </tr>\n",
       "    <tr>\n",
       "      <th>1</th>\n",
       "      <td>last</td>\n",
       "      <td>aggregation</td>\n",
       "      <td>Determines the last value in a list.</td>\n",
       "    </tr>\n",
       "    <tr>\n",
       "      <th>2</th>\n",
       "      <td>mean</td>\n",
       "      <td>aggregation</td>\n",
       "      <td>Computes the average for a list of values.</td>\n",
       "    </tr>\n",
       "    <tr>\n",
       "      <th>3</th>\n",
       "      <td>min</td>\n",
       "      <td>aggregation</td>\n",
       "      <td>Calculates the smallest value, ignoring `NaN` ...</td>\n",
       "    </tr>\n",
       "    <tr>\n",
       "      <th>4</th>\n",
       "      <td>time_since_first</td>\n",
       "      <td>aggregation</td>\n",
       "      <td>Calculates the time elapsed since the first da...</td>\n",
       "    </tr>\n",
       "    <tr>\n",
       "      <th>5</th>\n",
       "      <td>median</td>\n",
       "      <td>aggregation</td>\n",
       "      <td>Determines the middlemost number in a list of ...</td>\n",
       "    </tr>\n",
       "    <tr>\n",
       "      <th>6</th>\n",
       "      <td>sum</td>\n",
       "      <td>aggregation</td>\n",
       "      <td>Calculates the total addition, ignoring `NaN`.</td>\n",
       "    </tr>\n",
       "    <tr>\n",
       "      <th>7</th>\n",
       "      <td>mode</td>\n",
       "      <td>aggregation</td>\n",
       "      <td>Determines the most commonly repeated value.</td>\n",
       "    </tr>\n",
       "    <tr>\n",
       "      <th>8</th>\n",
       "      <td>percent_true</td>\n",
       "      <td>aggregation</td>\n",
       "      <td>Determines the percent of `True` values.</td>\n",
       "    </tr>\n",
       "    <tr>\n",
       "      <th>9</th>\n",
       "      <td>trend</td>\n",
       "      <td>aggregation</td>\n",
       "      <td>Calculates the trend of a variable over time.</td>\n",
       "    </tr>\n",
       "    <tr>\n",
       "      <th>10</th>\n",
       "      <td>n_most_common</td>\n",
       "      <td>aggregation</td>\n",
       "      <td>Determines the `n` most common elements.</td>\n",
       "    </tr>\n",
       "    <tr>\n",
       "      <th>11</th>\n",
       "      <td>first</td>\n",
       "      <td>aggregation</td>\n",
       "      <td>Determines the first value in a list.</td>\n",
       "    </tr>\n",
       "    <tr>\n",
       "      <th>12</th>\n",
       "      <td>all</td>\n",
       "      <td>aggregation</td>\n",
       "      <td>Calculates if all values are 'True' in a list.</td>\n",
       "    </tr>\n",
       "    <tr>\n",
       "      <th>13</th>\n",
       "      <td>std</td>\n",
       "      <td>aggregation</td>\n",
       "      <td>Computes the dispersion relative to the mean v...</td>\n",
       "    </tr>\n",
       "    <tr>\n",
       "      <th>14</th>\n",
       "      <td>any</td>\n",
       "      <td>aggregation</td>\n",
       "      <td>Determines if any value is 'True' in a list.</td>\n",
       "    </tr>\n",
       "    <tr>\n",
       "      <th>15</th>\n",
       "      <td>skew</td>\n",
       "      <td>aggregation</td>\n",
       "      <td>Computes the extent to which a distribution di...</td>\n",
       "    </tr>\n",
       "    <tr>\n",
       "      <th>16</th>\n",
       "      <td>num_true</td>\n",
       "      <td>aggregation</td>\n",
       "      <td>Counts the number of `True` values.</td>\n",
       "    </tr>\n",
       "    <tr>\n",
       "      <th>17</th>\n",
       "      <td>num_unique</td>\n",
       "      <td>aggregation</td>\n",
       "      <td>Determines the number of distinct values, igno...</td>\n",
       "    </tr>\n",
       "    <tr>\n",
       "      <th>18</th>\n",
       "      <td>avg_time_between</td>\n",
       "      <td>aggregation</td>\n",
       "      <td>Computes the average number of seconds between...</td>\n",
       "    </tr>\n",
       "    <tr>\n",
       "      <th>19</th>\n",
       "      <td>count</td>\n",
       "      <td>aggregation</td>\n",
       "      <td>Determines the total number of values, excludi...</td>\n",
       "    </tr>\n",
       "    <tr>\n",
       "      <th>20</th>\n",
       "      <td>entropy</td>\n",
       "      <td>aggregation</td>\n",
       "      <td>Calculates the entropy for a categorical variable</td>\n",
       "    </tr>\n",
       "    <tr>\n",
       "      <th>21</th>\n",
       "      <td>time_since_last</td>\n",
       "      <td>aggregation</td>\n",
       "      <td>Calculates the time elapsed since the last dat...</td>\n",
       "    </tr>\n",
       "  </tbody>\n",
       "</table>\n",
       "</div>"
      ],
      "text/plain": [
       "                name         type  \\\n",
       "0                max  aggregation   \n",
       "1               last  aggregation   \n",
       "2               mean  aggregation   \n",
       "3                min  aggregation   \n",
       "4   time_since_first  aggregation   \n",
       "5             median  aggregation   \n",
       "6                sum  aggregation   \n",
       "7               mode  aggregation   \n",
       "8       percent_true  aggregation   \n",
       "9              trend  aggregation   \n",
       "10     n_most_common  aggregation   \n",
       "11             first  aggregation   \n",
       "12               all  aggregation   \n",
       "13               std  aggregation   \n",
       "14               any  aggregation   \n",
       "15              skew  aggregation   \n",
       "16          num_true  aggregation   \n",
       "17        num_unique  aggregation   \n",
       "18  avg_time_between  aggregation   \n",
       "19             count  aggregation   \n",
       "20           entropy  aggregation   \n",
       "21   time_since_last  aggregation   \n",
       "\n",
       "                                          description  \n",
       "0   Calculates the highest value, ignoring `NaN` v...  \n",
       "1                Determines the last value in a list.  \n",
       "2          Computes the average for a list of values.  \n",
       "3   Calculates the smallest value, ignoring `NaN` ...  \n",
       "4   Calculates the time elapsed since the first da...  \n",
       "5   Determines the middlemost number in a list of ...  \n",
       "6      Calculates the total addition, ignoring `NaN`.  \n",
       "7        Determines the most commonly repeated value.  \n",
       "8            Determines the percent of `True` values.  \n",
       "9       Calculates the trend of a variable over time.  \n",
       "10           Determines the `n` most common elements.  \n",
       "11              Determines the first value in a list.  \n",
       "12     Calculates if all values are 'True' in a list.  \n",
       "13  Computes the dispersion relative to the mean v...  \n",
       "14       Determines if any value is 'True' in a list.  \n",
       "15  Computes the extent to which a distribution di...  \n",
       "16                Counts the number of `True` values.  \n",
       "17  Determines the number of distinct values, igno...  \n",
       "18  Computes the average number of seconds between...  \n",
       "19  Determines the total number of values, excludi...  \n",
       "20  Calculates the entropy for a categorical variable  \n",
       "21  Calculates the time elapsed since the last dat...  "
      ]
     },
     "execution_count": 155,
     "metadata": {},
     "output_type": "execute_result"
    }
   ],
   "source": [
    "primitives = ft.list_primitives()\n",
    "primitives[primitives['type']=='aggregation']"
   ]
  },
  {
   "cell_type": "markdown",
   "metadata": {},
   "source": [
    "In our case we want to keep the number of features as low as possible, due to low computing power, but at the same time we want those features to have the highest possible statistical meaning. Thus, we are going to aggregate the tables using:\n",
    "- **median**: for numerical features\n",
    "- **mode**: for ex-categorical features"
   ]
  },
  {
   "cell_type": "markdown",
   "metadata": {},
   "source": [
    "### Initial merging of the datasets"
   ]
  },
  {
   "cell_type": "code",
   "execution_count": 156,
   "metadata": {},
   "outputs": [
    {
     "name": "stdout",
     "output_type": "stream",
     "text": [
      "Built 457 features\n",
      "Elapsed: 3:28:57 | Progress: 100%|█████████████████████████████████████████████████████████████████████████████████████\n"
     ]
    }
   ],
   "source": [
    "merged_df, feature_names = ft.dfs(entityset = es, target_entity = 'clients', \n",
    "                                 agg_primitives = ['median', 'mode'],\n",
    "                                 verbose=True)"
   ]
  },
  {
   "cell_type": "code",
   "execution_count": 157,
   "metadata": {},
   "outputs": [],
   "source": [
    "merged_df.to_csv(datapath + r'/merged.csv')"
   ]
  },
  {
   "cell_type": "code",
   "execution_count": 158,
   "metadata": {},
   "outputs": [
    {
     "data": {
      "text/plain": [
       "[<Feature: AMT_ANNUITY>,\n",
       " <Feature: AMT_CREDIT>,\n",
       " <Feature: AMT_GOODS_PRICE>,\n",
       " <Feature: AMT_INCOME_TOTAL>,\n",
       " <Feature: AMT_REQ_CREDIT_BUREAU_DAY>,\n",
       " <Feature: AMT_REQ_CREDIT_BUREAU_HOUR>,\n",
       " <Feature: AMT_REQ_CREDIT_BUREAU_MON>,\n",
       " <Feature: AMT_REQ_CREDIT_BUREAU_QRT>,\n",
       " <Feature: AMT_REQ_CREDIT_BUREAU_WEEK>,\n",
       " <Feature: AMT_REQ_CREDIT_BUREAU_YEAR>,\n",
       " <Feature: APARTMENTS_AVG>,\n",
       " <Feature: APARTMENTS_MEDI>,\n",
       " <Feature: APARTMENTS_MODE>,\n",
       " <Feature: BASEMENTAREA_AVG>,\n",
       " <Feature: BASEMENTAREA_MEDI>,\n",
       " <Feature: BASEMENTAREA_MODE>,\n",
       " <Feature: CNT_CHILDREN>,\n",
       " <Feature: CNT_FAM_MEMBERS>,\n",
       " <Feature: CODE_GENDER>,\n",
       " <Feature: DAYS_BIRTH>,\n",
       " <Feature: DAYS_EMPLOYED>,\n",
       " <Feature: DAYS_EMPLOYED_ANOM>,\n",
       " <Feature: DAYS_ID_PUBLISH>,\n",
       " <Feature: DAYS_LAST_PHONE_CHANGE>,\n",
       " <Feature: DAYS_REGISTRATION>,\n",
       " <Feature: DEF_30_CNT_SOCIAL_CIRCLE>,\n",
       " <Feature: DEF_60_CNT_SOCIAL_CIRCLE>,\n",
       " <Feature: ELEVATORS_AVG>,\n",
       " <Feature: ELEVATORS_MEDI>,\n",
       " <Feature: ELEVATORS_MODE>,\n",
       " <Feature: EMERGENCYSTATE_MODE>,\n",
       " <Feature: ENTRANCES_AVG>,\n",
       " <Feature: ENTRANCES_MEDI>,\n",
       " <Feature: ENTRANCES_MODE>,\n",
       " <Feature: EXT_SOURCE_1>,\n",
       " <Feature: EXT_SOURCE_2>,\n",
       " <Feature: EXT_SOURCE_3>,\n",
       " <Feature: FLAG_DOCUMENT_10>,\n",
       " <Feature: FLAG_DOCUMENT_11>,\n",
       " <Feature: FLAG_DOCUMENT_12>,\n",
       " <Feature: FLAG_DOCUMENT_13>,\n",
       " <Feature: FLAG_DOCUMENT_14>,\n",
       " <Feature: FLAG_DOCUMENT_15>,\n",
       " <Feature: FLAG_DOCUMENT_16>,\n",
       " <Feature: FLAG_DOCUMENT_17>,\n",
       " <Feature: FLAG_DOCUMENT_18>,\n",
       " <Feature: FLAG_DOCUMENT_19>,\n",
       " <Feature: FLAG_DOCUMENT_20>,\n",
       " <Feature: FLAG_DOCUMENT_21>,\n",
       " <Feature: FLAG_DOCUMENT_3>,\n",
       " <Feature: FLAG_DOCUMENT_6>,\n",
       " <Feature: FLAG_DOCUMENT_7>,\n",
       " <Feature: FLAG_DOCUMENT_8>,\n",
       " <Feature: FLAG_DOCUMENT_9>,\n",
       " <Feature: FLAG_EMAIL>,\n",
       " <Feature: FLAG_EMP_PHONE>,\n",
       " <Feature: FLAG_OWN_CAR>,\n",
       " <Feature: FLAG_OWN_REALTY>,\n",
       " <Feature: FLAG_PHONE>,\n",
       " <Feature: FLAG_WORK_PHONE>,\n",
       " <Feature: FLOORSMAX_AVG>,\n",
       " <Feature: FLOORSMAX_MEDI>,\n",
       " <Feature: FLOORSMAX_MODE>,\n",
       " <Feature: HOUR_APPR_PROCESS_START>,\n",
       " <Feature: HOUSETYPE_MODE_nan>,\n",
       " <Feature: HOUSETYPE_MODE_specific housing>,\n",
       " <Feature: HOUSETYPE_MODE_terraced house>,\n",
       " <Feature: LANDAREA_AVG>,\n",
       " <Feature: LANDAREA_MEDI>,\n",
       " <Feature: LANDAREA_MODE>,\n",
       " <Feature: LIVE_CITY_NOT_WORK_CITY>,\n",
       " <Feature: LIVE_REGION_NOT_WORK_REGION>,\n",
       " <Feature: LIVINGAREA_AVG>,\n",
       " <Feature: LIVINGAREA_MEDI>,\n",
       " <Feature: LIVINGAREA_MODE>,\n",
       " <Feature: NAME_CONTRACT_TYPE>,\n",
       " <Feature: NAME_EDUCATION_TYPE_Higher education>,\n",
       " <Feature: NAME_EDUCATION_TYPE_Incomplete higher>,\n",
       " <Feature: NAME_EDUCATION_TYPE_Lower secondary>,\n",
       " <Feature: NAME_EDUCATION_TYPE_Secondary / secondary special>,\n",
       " <Feature: NAME_EDUCATION_TYPE_nan>,\n",
       " <Feature: NAME_FAMILY_STATUS_Married>,\n",
       " <Feature: NAME_FAMILY_STATUS_Separated>,\n",
       " <Feature: NAME_FAMILY_STATUS_Single / not married>,\n",
       " <Feature: NAME_FAMILY_STATUS_Widow>,\n",
       " <Feature: NAME_FAMILY_STATUS_nan>,\n",
       " <Feature: NAME_HOUSING_TYPE_House / apartment>,\n",
       " <Feature: NAME_HOUSING_TYPE_Municipal apartment>,\n",
       " <Feature: NAME_HOUSING_TYPE_Office apartment>,\n",
       " <Feature: NAME_HOUSING_TYPE_Rented apartment>,\n",
       " <Feature: NAME_HOUSING_TYPE_With parents>,\n",
       " <Feature: NAME_HOUSING_TYPE_nan>,\n",
       " <Feature: NAME_INCOME_TYPE_Commercial associate>,\n",
       " <Feature: NAME_INCOME_TYPE_Pensioner>,\n",
       " <Feature: NAME_INCOME_TYPE_State servant>,\n",
       " <Feature: NAME_INCOME_TYPE_Student>,\n",
       " <Feature: NAME_INCOME_TYPE_Unemployed>,\n",
       " <Feature: NAME_INCOME_TYPE_Working>,\n",
       " <Feature: NAME_INCOME_TYPE_nan>,\n",
       " <Feature: NAME_TYPE_SUITE_Other>,\n",
       " <Feature: NAME_TYPE_SUITE_Spouse, partner>,\n",
       " <Feature: NAME_TYPE_SUITE_Unaccompanied>,\n",
       " <Feature: NAME_TYPE_SUITE_nan>,\n",
       " <Feature: NONLIVINGAREA_AVG>,\n",
       " <Feature: NONLIVINGAREA_MEDI>,\n",
       " <Feature: NONLIVINGAREA_MODE>,\n",
       " <Feature: OBS_30_CNT_SOCIAL_CIRCLE>,\n",
       " <Feature: OBS_60_CNT_SOCIAL_CIRCLE>,\n",
       " <Feature: OCCUPATION_TYPE_Cleaning staff>,\n",
       " <Feature: OCCUPATION_TYPE_Cooking staff>,\n",
       " <Feature: OCCUPATION_TYPE_Core staff>,\n",
       " <Feature: OCCUPATION_TYPE_Drivers>,\n",
       " <Feature: OCCUPATION_TYPE_HR staff>,\n",
       " <Feature: OCCUPATION_TYPE_High skill tech staff>,\n",
       " <Feature: OCCUPATION_TYPE_IT staff>,\n",
       " <Feature: OCCUPATION_TYPE_Laborers>,\n",
       " <Feature: OCCUPATION_TYPE_Low-skill Laborers>,\n",
       " <Feature: OCCUPATION_TYPE_Managers>,\n",
       " <Feature: OCCUPATION_TYPE_Medicine staff>,\n",
       " <Feature: OCCUPATION_TYPE_Other>,\n",
       " <Feature: OCCUPATION_TYPE_Private service staff>,\n",
       " <Feature: OCCUPATION_TYPE_Realty agents>,\n",
       " <Feature: OCCUPATION_TYPE_Sales staff>,\n",
       " <Feature: OCCUPATION_TYPE_Secretaries>,\n",
       " <Feature: OCCUPATION_TYPE_Security staff>,\n",
       " <Feature: OCCUPATION_TYPE_Waiters/barmen staff>,\n",
       " <Feature: OCCUPATION_TYPE_nan>,\n",
       " <Feature: ORGANIZATION_TYPE_Bank>,\n",
       " <Feature: ORGANIZATION_TYPE_Business Entity Type 1>,\n",
       " <Feature: ORGANIZATION_TYPE_Business Entity Type 2>,\n",
       " <Feature: ORGANIZATION_TYPE_Business Entity Type 3>,\n",
       " <Feature: ORGANIZATION_TYPE_Construction>,\n",
       " <Feature: ORGANIZATION_TYPE_Government>,\n",
       " <Feature: ORGANIZATION_TYPE_Housing>,\n",
       " <Feature: ORGANIZATION_TYPE_Industry: type 1>,\n",
       " <Feature: ORGANIZATION_TYPE_Industry: type 11>,\n",
       " <Feature: ORGANIZATION_TYPE_Industry: type 3>,\n",
       " <Feature: ORGANIZATION_TYPE_Industry: type 7>,\n",
       " <Feature: ORGANIZATION_TYPE_Industry: type 9>,\n",
       " <Feature: ORGANIZATION_TYPE_Kindergarten>,\n",
       " <Feature: ORGANIZATION_TYPE_Medicine>,\n",
       " <Feature: ORGANIZATION_TYPE_Military>,\n",
       " <Feature: ORGANIZATION_TYPE_Other>,\n",
       " <Feature: ORGANIZATION_TYPE_Police>,\n",
       " <Feature: ORGANIZATION_TYPE_Postal>,\n",
       " <Feature: ORGANIZATION_TYPE_Restaurant>,\n",
       " <Feature: ORGANIZATION_TYPE_School>,\n",
       " <Feature: ORGANIZATION_TYPE_Security>,\n",
       " <Feature: ORGANIZATION_TYPE_Security Ministries>,\n",
       " <Feature: ORGANIZATION_TYPE_Self-employed>,\n",
       " <Feature: ORGANIZATION_TYPE_Services>,\n",
       " <Feature: ORGANIZATION_TYPE_Trade: type 2>,\n",
       " <Feature: ORGANIZATION_TYPE_Trade: type 3>,\n",
       " <Feature: ORGANIZATION_TYPE_Trade: type 7>,\n",
       " <Feature: ORGANIZATION_TYPE_Transport: type 2>,\n",
       " <Feature: ORGANIZATION_TYPE_Transport: type 3>,\n",
       " <Feature: ORGANIZATION_TYPE_Transport: type 4>,\n",
       " <Feature: ORGANIZATION_TYPE_University>,\n",
       " <Feature: ORGANIZATION_TYPE_XNA>,\n",
       " <Feature: ORGANIZATION_TYPE_nan>,\n",
       " <Feature: REGION_POPULATION_RELATIVE>,\n",
       " <Feature: REGION_RATING_CLIENT>,\n",
       " <Feature: REGION_RATING_CLIENT_W_CITY>,\n",
       " <Feature: REG_CITY_NOT_LIVE_CITY>,\n",
       " <Feature: REG_CITY_NOT_WORK_CITY>,\n",
       " <Feature: REG_REGION_NOT_WORK_REGION>,\n",
       " <Feature: TARGET>,\n",
       " <Feature: TOTALAREA_MODE>,\n",
       " <Feature: WALLSMATERIAL_MODE_Mixed>,\n",
       " <Feature: WALLSMATERIAL_MODE_Monolithic>,\n",
       " <Feature: WALLSMATERIAL_MODE_Others>,\n",
       " <Feature: WALLSMATERIAL_MODE_Panel>,\n",
       " <Feature: WALLSMATERIAL_MODE_Stone, brick>,\n",
       " <Feature: WALLSMATERIAL_MODE_Wooden>,\n",
       " <Feature: WALLSMATERIAL_MODE_nan>,\n",
       " <Feature: WEEKDAY_APPR_PROCESS_START_MONDAY>,\n",
       " <Feature: WEEKDAY_APPR_PROCESS_START_SATURDAY>,\n",
       " <Feature: WEEKDAY_APPR_PROCESS_START_SUNDAY>,\n",
       " <Feature: WEEKDAY_APPR_PROCESS_START_THURSDAY>,\n",
       " <Feature: WEEKDAY_APPR_PROCESS_START_TUESDAY>,\n",
       " <Feature: WEEKDAY_APPR_PROCESS_START_WEDNESDAY>,\n",
       " <Feature: WEEKDAY_APPR_PROCESS_START_nan>,\n",
       " <Feature: YEARS_BEGINEXPLUATATION_AVG>,\n",
       " <Feature: YEARS_BEGINEXPLUATATION_MEDI>,\n",
       " <Feature: YEARS_BEGINEXPLUATATION_MODE>,\n",
       " <Feature: train>,\n",
       " <Feature: CREDIT_TO_INCOME>,\n",
       " <Feature: MEDIAN(bureau.CNT_CREDIT_PROLONG)>,\n",
       " <Feature: MEDIAN(bureau.DAYS_CREDIT_ENDDATE)>,\n",
       " <Feature: MEDIAN(bureau.DAYS_ENDDATE_FACT)>,\n",
       " <Feature: MEDIAN(bureau.CREDIT_DAY_OVERDUE)>,\n",
       " <Feature: MEDIAN(bureau.AMT_CREDIT_SUM)>,\n",
       " <Feature: MEDIAN(bureau.AMT_CREDIT_SUM_DEBT)>,\n",
       " <Feature: MEDIAN(bureau.DAYS_CREDIT_UPDATE)>,\n",
       " <Feature: MEDIAN(bureau.AMT_CREDIT_SUM_OVERDUE)>,\n",
       " <Feature: MEDIAN(bureau.AMT_CREDIT_SUM_LIMIT)>,\n",
       " <Feature: MEDIAN(bureau.DAYS_CREDIT)>,\n",
       " <Feature: MODE(bureau.CREDIT_CURRENCY_nan)>,\n",
       " <Feature: MODE(bureau.CREDIT_TYPE_nan)>,\n",
       " <Feature: MODE(bureau.CREDIT_TYPE_Microloan)>,\n",
       " <Feature: MODE(bureau.CREDIT_CURRENCY_currency 2)>,\n",
       " <Feature: MODE(bureau.CREDIT_ACTIVE_Closed)>,\n",
       " <Feature: MODE(bureau.CREDIT_TYPE_Mortgage)>,\n",
       " <Feature: MODE(bureau.CREDIT_TYPE_Loan for purchase of shares (margin lending))>,\n",
       " <Feature: MODE(bureau.CREDIT_CURRENCY_currency 3)>,\n",
       " <Feature: MODE(bureau.CREDIT_TYPE_Mobile operator loan)>,\n",
       " <Feature: MODE(bureau.CREDIT_TYPE_Car loan)>,\n",
       " <Feature: MODE(bureau.CREDIT_TYPE_Credit card)>,\n",
       " <Feature: MODE(bureau.CREDIT_TYPE_Unknown type of loan)>,\n",
       " <Feature: MODE(bureau.CREDIT_TYPE_Loan for business development)>,\n",
       " <Feature: MODE(bureau.CREDIT_ACTIVE_Sold)>,\n",
       " <Feature: MODE(bureau.CREDIT_TYPE_Cash loan (non-earmarked))>,\n",
       " <Feature: MODE(bureau.CREDIT_TYPE_Consumer credit)>,\n",
       " <Feature: MODE(bureau.CREDIT_CURRENCY_currency 4)>,\n",
       " <Feature: MODE(bureau.CREDIT_TYPE_Real estate loan)>,\n",
       " <Feature: MODE(bureau.CREDIT_TYPE_Loan for the purchase of equipment)>,\n",
       " <Feature: MODE(bureau.CREDIT_ACTIVE_Bad debt)>,\n",
       " <Feature: MODE(bureau.CREDIT_ACTIVE_nan)>,\n",
       " <Feature: MODE(bureau.CREDIT_TYPE_Loan for working capital replenishment)>,\n",
       " <Feature: MODE(bureau.CREDIT_TYPE_Interbank credit)>,\n",
       " <Feature: MEDIAN(bureau_balance.MONTHS_BALANCE)>,\n",
       " <Feature: MODE(bureau_balance.STATUS_5)>,\n",
       " <Feature: MODE(bureau_balance.STATUS_1)>,\n",
       " <Feature: MODE(bureau_balance.STATUS_C)>,\n",
       " <Feature: MODE(bureau_balance.STATUS_4)>,\n",
       " <Feature: MODE(bureau_balance.STATUS_3)>,\n",
       " <Feature: MODE(bureau_balance.STATUS_2)>,\n",
       " <Feature: MODE(bureau_balance.STATUS_nan)>,\n",
       " <Feature: MODE(bureau_balance.STATUS_X)>,\n",
       " <Feature: MEDIAN(cc_balance.SK_ID_PREV)>,\n",
       " <Feature: MEDIAN(cc_balance.CNT_DRAWINGS_CURRENT)>,\n",
       " <Feature: MEDIAN(cc_balance.AMT_PAYMENT_CURRENT)>,\n",
       " <Feature: MEDIAN(cc_balance.AMT_DRAWINGS_OTHER_CURRENT)>,\n",
       " <Feature: MEDIAN(cc_balance.SK_DPD_DEF)>,\n",
       " <Feature: MEDIAN(cc_balance.CNT_DRAWINGS_ATM_CURRENT)>,\n",
       " <Feature: MEDIAN(cc_balance.CNT_INSTALMENT_MATURE_CUM)>,\n",
       " <Feature: MEDIAN(cc_balance.AMT_DRAWINGS_CURRENT)>,\n",
       " <Feature: MEDIAN(cc_balance.AMT_RECEIVABLE_PRINCIPAL)>,\n",
       " <Feature: MEDIAN(cc_balance.MONTHS_BALANCE)>,\n",
       " <Feature: MEDIAN(cc_balance.AMT_INST_MIN_REGULARITY)>,\n",
       " <Feature: MEDIAN(cc_balance.AMT_TOTAL_RECEIVABLE)>,\n",
       " <Feature: MEDIAN(cc_balance.AMT_PAYMENT_TOTAL_CURRENT)>,\n",
       " <Feature: MEDIAN(cc_balance.AMT_CREDIT_LIMIT_ACTUAL)>,\n",
       " <Feature: MEDIAN(cc_balance.AMT_DRAWINGS_POS_CURRENT)>,\n",
       " <Feature: MEDIAN(cc_balance.CNT_DRAWINGS_OTHER_CURRENT)>,\n",
       " <Feature: MEDIAN(cc_balance.AMT_DRAWINGS_ATM_CURRENT)>,\n",
       " <Feature: MEDIAN(cc_balance.AMT_BALANCE)>,\n",
       " <Feature: MEDIAN(cc_balance.SK_DPD)>,\n",
       " <Feature: MEDIAN(cc_balance.CNT_DRAWINGS_POS_CURRENT)>,\n",
       " <Feature: MEDIAN(cc_balance.AMT_RECIVABLE)>,\n",
       " <Feature: MODE(cc_balance.NAME_CONTRACT_STATUS_Completed)>,\n",
       " <Feature: MODE(cc_balance.NAME_CONTRACT_STATUS_nan)>,\n",
       " <Feature: MODE(cc_balance.NAME_CONTRACT_STATUS_Refused)>,\n",
       " <Feature: MODE(cc_balance.NAME_CONTRACT_STATUS_Sent proposal)>,\n",
       " <Feature: MODE(cc_balance.NAME_CONTRACT_STATUS_Signed)>,\n",
       " <Feature: MODE(cc_balance.NAME_CONTRACT_STATUS_Demand)>,\n",
       " <Feature: MODE(cc_balance.NAME_CONTRACT_STATUS_Approved)>,\n",
       " <Feature: MEDIAN(prev_app.CNT_PAYMENT)>,\n",
       " <Feature: MEDIAN(prev_app.AMT_CREDIT)>,\n",
       " <Feature: MEDIAN(prev_app.DAYS_FIRST_DRAWING)>,\n",
       " <Feature: MEDIAN(prev_app.DAYS_LAST_DUE)>,\n",
       " <Feature: MEDIAN(prev_app.RATE_DOWN_PAYMENT)>,\n",
       " <Feature: MEDIAN(prev_app.AMT_APPLICATION)>,\n",
       " <Feature: MEDIAN(prev_app.DAYS_DECISION)>,\n",
       " <Feature: MEDIAN(prev_app.NFLAG_INSURED_ON_APPROVAL)>,\n",
       " <Feature: MEDIAN(prev_app.AMT_ANNUITY)>,\n",
       " <Feature: MEDIAN(prev_app.DAYS_FIRST_DUE)>,\n",
       " <Feature: MEDIAN(prev_app.HOUR_APPR_PROCESS_START)>,\n",
       " <Feature: MEDIAN(prev_app.AMT_DOWN_PAYMENT)>,\n",
       " <Feature: MEDIAN(prev_app.AMT_GOODS_PRICE)>,\n",
       " <Feature: MEDIAN(prev_app.DAYS_LAST_DUE_1ST_VERSION)>,\n",
       " <Feature: MEDIAN(prev_app.DAYS_TERMINATION)>,\n",
       " <Feature: MODE(prev_app.NAME_GOODS_CATEGORY_Sport and Leisure)>,\n",
       " <Feature: MODE(prev_app.CODE_REJECT_REASON_VERIF)>,\n",
       " <Feature: MODE(prev_app.PRODUCT_COMBINATION_Cash X-Sell: low)>,\n",
       " <Feature: MODE(prev_app.CODE_REJECT_REASON_SCOFR)>,\n",
       " <Feature: MODE(prev_app.NAME_PAYMENT_TYPE_Cashless from the account of the employer)>,\n",
       " <Feature: MODE(prev_app.CODE_REJECT_REASON_HC)>,\n",
       " <Feature: MODE(prev_app.NAME_CASH_LOAN_PURPOSE_Repairs)>,\n",
       " <Feature: MODE(prev_app.CODE_REJECT_REASON_XNA)>,\n",
       " <Feature: MODE(prev_app.NAME_PAYMENT_TYPE_Non-cash from your account)>,\n",
       " <Feature: MODE(prev_app.WEEKDAY_APPR_PROCESS_START_TUESDAY)>,\n",
       " <Feature: MODE(prev_app.NAME_CASH_LOAN_PURPOSE_Other)>,\n",
       " <Feature: MODE(prev_app.NAME_SELLER_INDUSTRY_nan)>,\n",
       " <Feature: MODE(prev_app.NAME_GOODS_CATEGORY_Furniture)>,\n",
       " <Feature: MODE(prev_app.NAME_SELLER_INDUSTRY_Construction)>,\n",
       " <Feature: MODE(prev_app.CHANNEL_TYPE_Regional / Local)>,\n",
       " <Feature: MODE(prev_app.NAME_GOODS_CATEGORY_Mobile)>,\n",
       " <Feature: MODE(prev_app.NAME_GOODS_CATEGORY_nan)>,\n",
       " <Feature: MODE(prev_app.NAME_YIELD_GROUP_high)>,\n",
       " <Feature: MODE(prev_app.NAME_CASH_LOAN_PURPOSE_Payments on other loans)>,\n",
       " <Feature: MODE(prev_app.NAME_CASH_LOAN_PURPOSE_Urgent needs)>,\n",
       " <Feature: MODE(prev_app.PRODUCT_COMBINATION_POS others without interest)>,\n",
       " <Feature: MODE(prev_app.CHANNEL_TYPE_nan)>,\n",
       " <Feature: MODE(prev_app.PRODUCT_COMBINATION_Card X-Sell)>,\n",
       " <Feature: MODE(prev_app.NAME_PAYMENT_TYPE_nan)>,\n",
       " <Feature: MODE(prev_app.NAME_CASH_LOAN_PURPOSE_Education)>,\n",
       " <Feature: MODE(prev_app.PRODUCT_COMBINATION_POS household without interest)>,\n",
       " <Feature: MODE(prev_app.NAME_GOODS_CATEGORY_Auto Accessories)>,\n",
       " <Feature: MODE(prev_app.NAME_PRODUCT_TYPE_walk-in)>,\n",
       " <Feature: MODE(prev_app.NAME_CONTRACT_TYPE_Consumer loans)>,\n",
       " <Feature: MODE(prev_app.PRODUCT_COMBINATION_Cash X-Sell: high)>,\n",
       " <Feature: MODE(prev_app.NAME_CASH_LOAN_PURPOSE_nan)>,\n",
       " <Feature: MODE(prev_app.PRODUCT_COMBINATION_POS mobile with interest)>,\n",
       " <Feature: MODE(prev_app.NAME_TYPE_SUITE_Unaccompanied)>,\n",
       " <Feature: MODE(prev_app.NAME_YIELD_GROUP_nan)>,\n",
       " <Feature: MODE(prev_app.NAME_PORTFOLIO_Cash)>,\n",
       " <Feature: MODE(prev_app.NAME_PORTFOLIO_Cars)>,\n",
       " <Feature: MODE(prev_app.NAME_TYPE_SUITE_Family)>,\n",
       " <Feature: MODE(prev_app.NAME_CASH_LOAN_PURPOSE_Purchase of electronic equipment)>,\n",
       " <Feature: MODE(prev_app.CODE_REJECT_REASON_XAP)>,\n",
       " <Feature: MODE(prev_app.NAME_CASH_LOAN_PURPOSE_Buying a new car)>,\n",
       " <Feature: MODE(prev_app.NAME_GOODS_CATEGORY_Tourism)>,\n",
       " <Feature: MODE(prev_app.PRODUCT_COMBINATION_Cash Street: middle)>,\n",
       " <Feature: MODE(prev_app.NAME_YIELD_GROUP_middle)>,\n",
       " <Feature: MODE(prev_app.NAME_CONTRACT_TYPE_XNA)>,\n",
       " <Feature: MODE(prev_app.NAME_GOODS_CATEGORY_Office Appliances)>,\n",
       " <Feature: MODE(prev_app.NAME_SELLER_INDUSTRY_Consumer electronics)>,\n",
       " <Feature: MODE(prev_app.NAME_GOODS_CATEGORY_Homewares)>,\n",
       " <Feature: MODE(prev_app.NAME_CLIENT_TYPE_nan)>,\n",
       " <Feature: MODE(prev_app.CHANNEL_TYPE_Credit and cash offices)>,\n",
       " <Feature: MODE(prev_app.WEEKDAY_APPR_PROCESS_START_SUNDAY)>,\n",
       " <Feature: MODE(prev_app.PRODUCT_COMBINATION_Cash Street: high)>,\n",
       " <Feature: MODE(prev_app.NAME_TYPE_SUITE_Spouse, partner)>,\n",
       " <Feature: MODE(prev_app.NAME_GOODS_CATEGORY_Medicine)>,\n",
       " <Feature: MODE(prev_app.NAME_CONTRACT_TYPE_nan)>,\n",
       " <Feature: MODE(prev_app.NAME_GOODS_CATEGORY_Medical Supplies)>,\n",
       " <Feature: MODE(prev_app.PRODUCT_COMBINATION_nan)>,\n",
       " <Feature: MODE(prev_app.NAME_CONTRACT_STATUS_Refused)>,\n",
       " <Feature: MODE(prev_app.WEEKDAY_APPR_PROCESS_START_THURSDAY)>,\n",
       " <Feature: MODE(prev_app.NAME_SELLER_INDUSTRY_Furniture)>,\n",
       " <Feature: MODE(prev_app.CODE_REJECT_REASON_SYSTEM)>,\n",
       " <Feature: MODE(prev_app.NAME_TYPE_SUITE_Other)>,\n",
       " <Feature: MODE(prev_app.NAME_GOODS_CATEGORY_Vehicles)>,\n",
       " <Feature: MODE(prev_app.CHANNEL_TYPE_Country-wide)>,\n",
       " <Feature: MODE(prev_app.NAME_SELLER_INDUSTRY_Industry)>,\n",
       " <Feature: MODE(prev_app.NAME_CASH_LOAN_PURPOSE_Journey)>,\n",
       " <Feature: MODE(prev_app.PRODUCT_COMBINATION_Cash X-Sell: middle)>,\n",
       " <Feature: MODE(prev_app.WEEKDAY_APPR_PROCESS_START_WEDNESDAY)>,\n",
       " <Feature: MODE(prev_app.NAME_CASH_LOAN_PURPOSE_XAP)>,\n",
       " <Feature: MODE(prev_app.NAME_GOODS_CATEGORY_Computers)>,\n",
       " <Feature: MODE(prev_app.WEEKDAY_APPR_PROCESS_START_nan)>,\n",
       " <Feature: MODE(prev_app.WEEKDAY_APPR_PROCESS_START_SATURDAY)>,\n",
       " <Feature: MODE(prev_app.NAME_GOODS_CATEGORY_Photo / Cinema Equipment)>,\n",
       " <Feature: MODE(prev_app.NAME_CLIENT_TYPE_XNA)>,\n",
       " <Feature: MODE(prev_app.PRODUCT_COMBINATION_POS industry with interest)>,\n",
       " <Feature: MODE(prev_app.NAME_CONTRACT_STATUS_nan)>,\n",
       " <Feature: MODE(prev_app.NAME_PAYMENT_TYPE_XNA)>,\n",
       " <Feature: MODE(prev_app.NAME_CONTRACT_STATUS_Unused offer)>,\n",
       " <Feature: MODE(prev_app.CHANNEL_TYPE_Contact center)>,\n",
       " <Feature: MODE(prev_app.CHANNEL_TYPE_Car dealer)>,\n",
       " <Feature: MODE(prev_app.NAME_GOODS_CATEGORY_Jewelry)>,\n",
       " <Feature: MODE(prev_app.NAME_YIELD_GROUP_low_normal)>,\n",
       " <Feature: MODE(prev_app.NAME_CASH_LOAN_PURPOSE_XNA)>,\n",
       " <Feature: MODE(prev_app.NAME_SELLER_INDUSTRY_XNA)>,\n",
       " <Feature: MODE(prev_app.NAME_TYPE_SUITE_nan)>,\n",
       " <Feature: MODE(prev_app.NAME_PORTFOLIO_nan)>,\n",
       " <Feature: MODE(prev_app.NAME_CASH_LOAN_PURPOSE_Buying a used car)>,\n",
       " <Feature: MODE(prev_app.NAME_PORTFOLIO_XNA)>,\n",
       " <Feature: MODE(prev_app.CHANNEL_TYPE_Channel of corporate sales)>,\n",
       " <Feature: MODE(prev_app.CHANNEL_TYPE_Stone)>,\n",
       " <Feature: MODE(prev_app.NAME_PRODUCT_TYPE_nan)>,\n",
       " <Feature: MODE(prev_app.PRODUCT_COMBINATION_POS industry without interest)>,\n",
       " <Feature: MODE(prev_app.PRODUCT_COMBINATION_POS mobile without interest)>,\n",
       " <Feature: MODE(prev_app.NAME_SELLER_INDUSTRY_Connectivity)>,\n",
       " <Feature: MODE(prev_app.NAME_GOODS_CATEGORY_XNA)>,\n",
       " <Feature: MODE(prev_app.CODE_REJECT_REASON_LIMIT)>,\n",
       " <Feature: MODE(prev_app.NAME_SELLER_INDUSTRY_MLM partners)>,\n",
       " <Feature: MODE(prev_app.NAME_GOODS_CATEGORY_Other)>,\n",
       " <Feature: MODE(prev_app.PRODUCT_COMBINATION_POS household with interest)>,\n",
       " <Feature: MODE(prev_app.CODE_REJECT_REASON_nan)>,\n",
       " <Feature: MODE(prev_app.NAME_GOODS_CATEGORY_Consumer Electronics)>,\n",
       " <Feature: MODE(prev_app.NAME_CLIENT_TYPE_Repeater)>,\n",
       " <Feature: MODE(prev_app.CODE_REJECT_REASON_SCO)>,\n",
       " <Feature: MODE(prev_app.NAME_CONTRACT_STATUS_Canceled)>,\n",
       " <Feature: MODE(prev_app.NAME_SELLER_INDUSTRY_Jewelry)>,\n",
       " <Feature: MODE(prev_app.NAME_GOODS_CATEGORY_Construction Materials)>,\n",
       " <Feature: MODE(prev_app.PRODUCT_COMBINATION_Cash Street: low)>,\n",
       " <Feature: MODE(prev_app.NAME_CONTRACT_TYPE_Revolving loans)>,\n",
       " <Feature: MODE(prev_app.NAME_GOODS_CATEGORY_Gardening)>,\n",
       " <Feature: MODE(prev_app.NAME_CLIENT_TYPE_Refreshed)>,\n",
       " <Feature: MODE(prev_app.NAME_PORTFOLIO_POS)>,\n",
       " <Feature: MODE(prev_app.NAME_CASH_LOAN_PURPOSE_Medicine)>,\n",
       " <Feature: MODE(prev_app.WEEKDAY_APPR_PROCESS_START_MONDAY)>,\n",
       " <Feature: MODE(prev_app.PRODUCT_COMBINATION_Cash)>,\n",
       " <Feature: MODE(prev_app.NAME_YIELD_GROUP_low_action)>,\n",
       " <Feature: MODE(prev_app.NAME_GOODS_CATEGORY_Clothing and Accessories)>,\n",
       " <Feature: MODE(prev_app.PRODUCT_COMBINATION_POS other with interest)>,\n",
       " <Feature: MODE(prev_app.NAME_PRODUCT_TYPE_x-sell)>,\n",
       " <Feature: MODE(prev_app.NAME_SELLER_INDUSTRY_Tourism)>,\n",
       " <Feature: MODE(prev_app.NAME_SELLER_INDUSTRY_Clothing)>,\n",
       " <Feature: MODE(prev_app.NAME_CASH_LOAN_PURPOSE_Everyday expenses)>,\n",
       " <Feature: MEDIAN(pos_cash_balance.MONTHS_BALANCE)>,\n",
       " <Feature: MEDIAN(pos_cash_balance.SK_DPD)>,\n",
       " <Feature: MEDIAN(pos_cash_balance.SK_DPD_DEF)>,\n",
       " <Feature: MEDIAN(pos_cash_balance.CNT_INSTALMENT_FUTURE)>,\n",
       " <Feature: MEDIAN(pos_cash_balance.CNT_INSTALMENT)>,\n",
       " <Feature: MEDIAN(pos_cash_balance.SK_ID_PREV)>,\n",
       " <Feature: MODE(pos_cash_balance.NAME_CONTRACT_STATUS_Approved)>,\n",
       " <Feature: MODE(pos_cash_balance.NAME_CONTRACT_STATUS_Signed)>,\n",
       " <Feature: MODE(pos_cash_balance.NAME_CONTRACT_STATUS_Amortized debt)>,\n",
       " <Feature: MODE(pos_cash_balance.NAME_CONTRACT_STATUS_Canceled)>,\n",
       " <Feature: MODE(pos_cash_balance.NAME_CONTRACT_STATUS_XNA)>,\n",
       " <Feature: MODE(pos_cash_balance.NAME_CONTRACT_STATUS_Returned to the store)>,\n",
       " <Feature: MODE(pos_cash_balance.NAME_CONTRACT_STATUS_nan)>,\n",
       " <Feature: MODE(pos_cash_balance.NAME_CONTRACT_STATUS_Demand)>,\n",
       " <Feature: MODE(pos_cash_balance.NAME_CONTRACT_STATUS_Completed)>,\n",
       " <Feature: MEDIAN(payments.NUM_INSTALMENT_NUMBER)>,\n",
       " <Feature: MEDIAN(payments.DAYS_INSTALMENT)>,\n",
       " <Feature: MEDIAN(payments.AMT_INSTALMENT)>,\n",
       " <Feature: MEDIAN(payments.DAYS_ENTRY_PAYMENT)>,\n",
       " <Feature: MEDIAN(payments.NUM_INSTALMENT_VERSION)>,\n",
       " <Feature: MEDIAN(payments.SK_ID_PREV)>,\n",
       " <Feature: MEDIAN(payments.AMT_PAYMENT)>,\n",
       " <Feature: MEDIAN(bureau.MEDIAN(bureau_balance.MONTHS_BALANCE))>,\n",
       " <Feature: MODE(bureau.MODE(bureau_balance.STATUS_nan))>,\n",
       " <Feature: MODE(bureau.MODE(bureau_balance.STATUS_C))>,\n",
       " <Feature: MODE(bureau.MODE(bureau_balance.STATUS_X))>,\n",
       " <Feature: MODE(bureau.MODE(bureau_balance.STATUS_2))>,\n",
       " <Feature: MODE(bureau.MODE(bureau_balance.STATUS_1))>,\n",
       " <Feature: MODE(bureau.MODE(bureau_balance.STATUS_4))>,\n",
       " <Feature: MODE(bureau.MODE(bureau_balance.STATUS_3))>,\n",
       " <Feature: MODE(bureau.MODE(bureau_balance.STATUS_5))>,\n",
       " <Feature: MEDIAN(bureau_balance.bureau.AMT_CREDIT_SUM_LIMIT)>,\n",
       " <Feature: MEDIAN(bureau_balance.bureau.DAYS_CREDIT)>,\n",
       " <Feature: MEDIAN(bureau_balance.bureau.CREDIT_DAY_OVERDUE)>,\n",
       " <Feature: MEDIAN(bureau_balance.bureau.DAYS_CREDIT_ENDDATE)>,\n",
       " <Feature: MEDIAN(bureau_balance.bureau.DAYS_ENDDATE_FACT)>,\n",
       " <Feature: MEDIAN(bureau_balance.bureau.CNT_CREDIT_PROLONG)>,\n",
       " <Feature: MEDIAN(bureau_balance.bureau.AMT_CREDIT_SUM)>,\n",
       " <Feature: MEDIAN(bureau_balance.bureau.AMT_CREDIT_SUM_OVERDUE)>,\n",
       " <Feature: MEDIAN(bureau_balance.bureau.DAYS_CREDIT_UPDATE)>,\n",
       " <Feature: MEDIAN(bureau_balance.bureau.AMT_CREDIT_SUM_DEBT)>,\n",
       " <Feature: MODE(bureau_balance.bureau.SK_ID_CURR)>,\n",
       " <Feature: MODE(bureau_balance.bureau.CREDIT_TYPE_Mobile operator loan)>,\n",
       " <Feature: MODE(bureau_balance.bureau.CREDIT_ACTIVE_Bad debt)>,\n",
       " <Feature: MODE(bureau_balance.bureau.CREDIT_TYPE_Loan for working capital replenishment)>,\n",
       " <Feature: MODE(bureau_balance.bureau.CREDIT_TYPE_Loan for purchase of shares (margin lending))>,\n",
       " <Feature: MODE(bureau_balance.bureau.CREDIT_ACTIVE_Sold)>,\n",
       " <Feature: MODE(bureau_balance.bureau.CREDIT_TYPE_Consumer credit)>,\n",
       " <Feature: MODE(bureau_balance.bureau.CREDIT_TYPE_Real estate loan)>,\n",
       " <Feature: MODE(bureau_balance.bureau.CREDIT_CURRENCY_currency 3)>,\n",
       " <Feature: MODE(bureau_balance.bureau.CREDIT_ACTIVE_Closed)>,\n",
       " <Feature: MODE(bureau_balance.bureau.CREDIT_CURRENCY_currency 4)>,\n",
       " <Feature: MODE(bureau_balance.bureau.CREDIT_TYPE_Mortgage)>,\n",
       " <Feature: MODE(bureau_balance.bureau.CREDIT_CURRENCY_nan)>,\n",
       " <Feature: MODE(bureau_balance.bureau.CREDIT_TYPE_Loan for the purchase of equipment)>,\n",
       " <Feature: MODE(bureau_balance.bureau.CREDIT_TYPE_Microloan)>,\n",
       " <Feature: MODE(bureau_balance.bureau.CREDIT_TYPE_Car loan)>,\n",
       " <Feature: MODE(bureau_balance.bureau.CREDIT_TYPE_Cash loan (non-earmarked))>,\n",
       " <Feature: MODE(bureau_balance.bureau.CREDIT_ACTIVE_nan)>,\n",
       " <Feature: MODE(bureau_balance.bureau.CREDIT_TYPE_Interbank credit)>,\n",
       " <Feature: MODE(bureau_balance.bureau.CREDIT_TYPE_nan)>,\n",
       " <Feature: MODE(bureau_balance.bureau.CREDIT_TYPE_Loan for business development)>,\n",
       " <Feature: MODE(bureau_balance.bureau.CREDIT_TYPE_Unknown type of loan)>,\n",
       " <Feature: MODE(bureau_balance.bureau.CREDIT_TYPE_Credit card)>,\n",
       " <Feature: MODE(bureau_balance.bureau.CREDIT_CURRENCY_currency 2)>]"
      ]
     },
     "execution_count": 158,
     "metadata": {},
     "output_type": "execute_result"
    }
   ],
   "source": [
    "feature_names"
   ]
  },
  {
   "cell_type": "code",
   "execution_count": 159,
   "metadata": {},
   "outputs": [
    {
     "data": {
      "text/html": [
       "<div>\n",
       "<style scoped>\n",
       "    .dataframe tbody tr th:only-of-type {\n",
       "        vertical-align: middle;\n",
       "    }\n",
       "\n",
       "    .dataframe tbody tr th {\n",
       "        vertical-align: top;\n",
       "    }\n",
       "\n",
       "    .dataframe thead th {\n",
       "        text-align: right;\n",
       "    }\n",
       "</style>\n",
       "<table border=\"1\" class=\"dataframe\">\n",
       "  <thead>\n",
       "    <tr style=\"text-align: right;\">\n",
       "      <th></th>\n",
       "      <th>AMT_ANNUITY</th>\n",
       "      <th>AMT_CREDIT</th>\n",
       "      <th>AMT_GOODS_PRICE</th>\n",
       "      <th>AMT_INCOME_TOTAL</th>\n",
       "      <th>AMT_REQ_CREDIT_BUREAU_DAY</th>\n",
       "      <th>AMT_REQ_CREDIT_BUREAU_HOUR</th>\n",
       "      <th>AMT_REQ_CREDIT_BUREAU_MON</th>\n",
       "      <th>AMT_REQ_CREDIT_BUREAU_QRT</th>\n",
       "      <th>AMT_REQ_CREDIT_BUREAU_WEEK</th>\n",
       "      <th>AMT_REQ_CREDIT_BUREAU_YEAR</th>\n",
       "      <th>...</th>\n",
       "      <th>MODE(bureau_balance.bureau.CREDIT_TYPE_Microloan)</th>\n",
       "      <th>MODE(bureau_balance.bureau.CREDIT_TYPE_Car loan)</th>\n",
       "      <th>MODE(bureau_balance.bureau.CREDIT_TYPE_Cash loan (non-earmarked))</th>\n",
       "      <th>MODE(bureau_balance.bureau.CREDIT_ACTIVE_nan)</th>\n",
       "      <th>MODE(bureau_balance.bureau.CREDIT_TYPE_Interbank credit)</th>\n",
       "      <th>MODE(bureau_balance.bureau.CREDIT_TYPE_nan)</th>\n",
       "      <th>MODE(bureau_balance.bureau.CREDIT_TYPE_Loan for business development)</th>\n",
       "      <th>MODE(bureau_balance.bureau.CREDIT_TYPE_Unknown type of loan)</th>\n",
       "      <th>MODE(bureau_balance.bureau.CREDIT_TYPE_Credit card)</th>\n",
       "      <th>MODE(bureau_balance.bureau.CREDIT_CURRENCY_currency 2)</th>\n",
       "    </tr>\n",
       "    <tr>\n",
       "      <th>SK_ID_CURR</th>\n",
       "      <th></th>\n",
       "      <th></th>\n",
       "      <th></th>\n",
       "      <th></th>\n",
       "      <th></th>\n",
       "      <th></th>\n",
       "      <th></th>\n",
       "      <th></th>\n",
       "      <th></th>\n",
       "      <th></th>\n",
       "      <th></th>\n",
       "      <th></th>\n",
       "      <th></th>\n",
       "      <th></th>\n",
       "      <th></th>\n",
       "      <th></th>\n",
       "      <th></th>\n",
       "      <th></th>\n",
       "      <th></th>\n",
       "      <th></th>\n",
       "      <th></th>\n",
       "    </tr>\n",
       "  </thead>\n",
       "  <tbody>\n",
       "    <tr>\n",
       "      <th>100002</th>\n",
       "      <td>24700.5</td>\n",
       "      <td>406597.5</td>\n",
       "      <td>351000.0</td>\n",
       "      <td>202500.0</td>\n",
       "      <td>0.0</td>\n",
       "      <td>0.0</td>\n",
       "      <td>0.0</td>\n",
       "      <td>0.0</td>\n",
       "      <td>0.0</td>\n",
       "      <td>1.0</td>\n",
       "      <td>...</td>\n",
       "      <td>0.0</td>\n",
       "      <td>0.0</td>\n",
       "      <td>0.0</td>\n",
       "      <td>0.0</td>\n",
       "      <td>0.0</td>\n",
       "      <td>0.0</td>\n",
       "      <td>0.0</td>\n",
       "      <td>0.0</td>\n",
       "      <td>1.0</td>\n",
       "      <td>0.0</td>\n",
       "    </tr>\n",
       "    <tr>\n",
       "      <th>100003</th>\n",
       "      <td>35698.5</td>\n",
       "      <td>1293502.5</td>\n",
       "      <td>1129500.0</td>\n",
       "      <td>270000.0</td>\n",
       "      <td>0.0</td>\n",
       "      <td>0.0</td>\n",
       "      <td>0.0</td>\n",
       "      <td>0.0</td>\n",
       "      <td>0.0</td>\n",
       "      <td>0.0</td>\n",
       "      <td>...</td>\n",
       "      <td>NaN</td>\n",
       "      <td>NaN</td>\n",
       "      <td>NaN</td>\n",
       "      <td>NaN</td>\n",
       "      <td>NaN</td>\n",
       "      <td>NaN</td>\n",
       "      <td>NaN</td>\n",
       "      <td>NaN</td>\n",
       "      <td>NaN</td>\n",
       "      <td>NaN</td>\n",
       "    </tr>\n",
       "    <tr>\n",
       "      <th>100004</th>\n",
       "      <td>6750.0</td>\n",
       "      <td>135000.0</td>\n",
       "      <td>135000.0</td>\n",
       "      <td>67500.0</td>\n",
       "      <td>0.0</td>\n",
       "      <td>0.0</td>\n",
       "      <td>0.0</td>\n",
       "      <td>0.0</td>\n",
       "      <td>0.0</td>\n",
       "      <td>0.0</td>\n",
       "      <td>...</td>\n",
       "      <td>NaN</td>\n",
       "      <td>NaN</td>\n",
       "      <td>NaN</td>\n",
       "      <td>NaN</td>\n",
       "      <td>NaN</td>\n",
       "      <td>NaN</td>\n",
       "      <td>NaN</td>\n",
       "      <td>NaN</td>\n",
       "      <td>NaN</td>\n",
       "      <td>NaN</td>\n",
       "    </tr>\n",
       "    <tr>\n",
       "      <th>100006</th>\n",
       "      <td>29686.5</td>\n",
       "      <td>312682.5</td>\n",
       "      <td>297000.0</td>\n",
       "      <td>135000.0</td>\n",
       "      <td>NaN</td>\n",
       "      <td>NaN</td>\n",
       "      <td>NaN</td>\n",
       "      <td>NaN</td>\n",
       "      <td>NaN</td>\n",
       "      <td>NaN</td>\n",
       "      <td>...</td>\n",
       "      <td>NaN</td>\n",
       "      <td>NaN</td>\n",
       "      <td>NaN</td>\n",
       "      <td>NaN</td>\n",
       "      <td>NaN</td>\n",
       "      <td>NaN</td>\n",
       "      <td>NaN</td>\n",
       "      <td>NaN</td>\n",
       "      <td>NaN</td>\n",
       "      <td>NaN</td>\n",
       "    </tr>\n",
       "    <tr>\n",
       "      <th>100007</th>\n",
       "      <td>21865.5</td>\n",
       "      <td>513000.0</td>\n",
       "      <td>513000.0</td>\n",
       "      <td>121500.0</td>\n",
       "      <td>0.0</td>\n",
       "      <td>0.0</td>\n",
       "      <td>0.0</td>\n",
       "      <td>0.0</td>\n",
       "      <td>0.0</td>\n",
       "      <td>0.0</td>\n",
       "      <td>...</td>\n",
       "      <td>NaN</td>\n",
       "      <td>NaN</td>\n",
       "      <td>NaN</td>\n",
       "      <td>NaN</td>\n",
       "      <td>NaN</td>\n",
       "      <td>NaN</td>\n",
       "      <td>NaN</td>\n",
       "      <td>NaN</td>\n",
       "      <td>NaN</td>\n",
       "      <td>NaN</td>\n",
       "    </tr>\n",
       "  </tbody>\n",
       "</table>\n",
       "<p>5 rows × 457 columns</p>\n",
       "</div>"
      ],
      "text/plain": [
       "            AMT_ANNUITY  AMT_CREDIT  AMT_GOODS_PRICE  AMT_INCOME_TOTAL  \\\n",
       "SK_ID_CURR                                                               \n",
       "100002          24700.5    406597.5         351000.0          202500.0   \n",
       "100003          35698.5   1293502.5        1129500.0          270000.0   \n",
       "100004           6750.0    135000.0         135000.0           67500.0   \n",
       "100006          29686.5    312682.5         297000.0          135000.0   \n",
       "100007          21865.5    513000.0         513000.0          121500.0   \n",
       "\n",
       "            AMT_REQ_CREDIT_BUREAU_DAY  AMT_REQ_CREDIT_BUREAU_HOUR  \\\n",
       "SK_ID_CURR                                                          \n",
       "100002                            0.0                         0.0   \n",
       "100003                            0.0                         0.0   \n",
       "100004                            0.0                         0.0   \n",
       "100006                            NaN                         NaN   \n",
       "100007                            0.0                         0.0   \n",
       "\n",
       "            AMT_REQ_CREDIT_BUREAU_MON  AMT_REQ_CREDIT_BUREAU_QRT  \\\n",
       "SK_ID_CURR                                                         \n",
       "100002                            0.0                        0.0   \n",
       "100003                            0.0                        0.0   \n",
       "100004                            0.0                        0.0   \n",
       "100006                            NaN                        NaN   \n",
       "100007                            0.0                        0.0   \n",
       "\n",
       "            AMT_REQ_CREDIT_BUREAU_WEEK  AMT_REQ_CREDIT_BUREAU_YEAR  ...  \\\n",
       "SK_ID_CURR                                                          ...   \n",
       "100002                             0.0                         1.0  ...   \n",
       "100003                             0.0                         0.0  ...   \n",
       "100004                             0.0                         0.0  ...   \n",
       "100006                             NaN                         NaN  ...   \n",
       "100007                             0.0                         0.0  ...   \n",
       "\n",
       "            MODE(bureau_balance.bureau.CREDIT_TYPE_Microloan)  \\\n",
       "SK_ID_CURR                                                      \n",
       "100002                                                    0.0   \n",
       "100003                                                    NaN   \n",
       "100004                                                    NaN   \n",
       "100006                                                    NaN   \n",
       "100007                                                    NaN   \n",
       "\n",
       "            MODE(bureau_balance.bureau.CREDIT_TYPE_Car loan)  \\\n",
       "SK_ID_CURR                                                     \n",
       "100002                                                   0.0   \n",
       "100003                                                   NaN   \n",
       "100004                                                   NaN   \n",
       "100006                                                   NaN   \n",
       "100007                                                   NaN   \n",
       "\n",
       "            MODE(bureau_balance.bureau.CREDIT_TYPE_Cash loan (non-earmarked))  \\\n",
       "SK_ID_CURR                                                                      \n",
       "100002                                                    0.0                   \n",
       "100003                                                    NaN                   \n",
       "100004                                                    NaN                   \n",
       "100006                                                    NaN                   \n",
       "100007                                                    NaN                   \n",
       "\n",
       "            MODE(bureau_balance.bureau.CREDIT_ACTIVE_nan)  \\\n",
       "SK_ID_CURR                                                  \n",
       "100002                                                0.0   \n",
       "100003                                                NaN   \n",
       "100004                                                NaN   \n",
       "100006                                                NaN   \n",
       "100007                                                NaN   \n",
       "\n",
       "            MODE(bureau_balance.bureau.CREDIT_TYPE_Interbank credit)  \\\n",
       "SK_ID_CURR                                                             \n",
       "100002                                                    0.0          \n",
       "100003                                                    NaN          \n",
       "100004                                                    NaN          \n",
       "100006                                                    NaN          \n",
       "100007                                                    NaN          \n",
       "\n",
       "            MODE(bureau_balance.bureau.CREDIT_TYPE_nan)  \\\n",
       "SK_ID_CURR                                                \n",
       "100002                                              0.0   \n",
       "100003                                              NaN   \n",
       "100004                                              NaN   \n",
       "100006                                              NaN   \n",
       "100007                                              NaN   \n",
       "\n",
       "            MODE(bureau_balance.bureau.CREDIT_TYPE_Loan for business development)  \\\n",
       "SK_ID_CURR                                                                          \n",
       "100002                                                    0.0                       \n",
       "100003                                                    NaN                       \n",
       "100004                                                    NaN                       \n",
       "100006                                                    NaN                       \n",
       "100007                                                    NaN                       \n",
       "\n",
       "            MODE(bureau_balance.bureau.CREDIT_TYPE_Unknown type of loan)  \\\n",
       "SK_ID_CURR                                                                 \n",
       "100002                                                    0.0              \n",
       "100003                                                    NaN              \n",
       "100004                                                    NaN              \n",
       "100006                                                    NaN              \n",
       "100007                                                    NaN              \n",
       "\n",
       "            MODE(bureau_balance.bureau.CREDIT_TYPE_Credit card)  \\\n",
       "SK_ID_CURR                                                        \n",
       "100002                                                    1.0     \n",
       "100003                                                    NaN     \n",
       "100004                                                    NaN     \n",
       "100006                                                    NaN     \n",
       "100007                                                    NaN     \n",
       "\n",
       "            MODE(bureau_balance.bureau.CREDIT_CURRENCY_currency 2)  \n",
       "SK_ID_CURR                                                          \n",
       "100002                                                    0.0       \n",
       "100003                                                    NaN       \n",
       "100004                                                    NaN       \n",
       "100006                                                    NaN       \n",
       "100007                                                    NaN       \n",
       "\n",
       "[5 rows x 457 columns]"
      ]
     },
     "execution_count": 159,
     "metadata": {},
     "output_type": "execute_result"
    }
   ],
   "source": [
    "merged_df.head()"
   ]
  },
  {
   "cell_type": "code",
   "execution_count": 178,
   "metadata": {},
   "outputs": [],
   "source": [
    "new_cols = {}\n",
    "for col in merged_df.columns:\n",
    "    if ':' in col:\n",
    "        new_cols[col] = col.replace(':','_')\n",
    "\n",
    "merged_df.rename(columns=new_cols, inplace=True)"
   ]
  },
  {
   "cell_type": "code",
   "execution_count": 191,
   "metadata": {},
   "outputs": [],
   "source": [
    "merged_df.columns = [\"\".join (c if c.isalnum() else \"_\" for c in str(x)) for x in merged_df.columns]"
   ]
  },
  {
   "cell_type": "markdown",
   "metadata": {},
   "source": [
    "### Cross-correlation"
   ]
  },
  {
   "cell_type": "code",
   "execution_count": 193,
   "metadata": {},
   "outputs": [
    {
     "data": {
      "text/plain": [
       "['DAYS_ID_PUBLISH',\n",
       " 'MEDIAN_cc_balance_SK_ID_PREV_',\n",
       " 'MEDIAN_pos_cash_balance_SK_ID_PREV_',\n",
       " 'MEDIAN_payments_SK_ID_PREV_',\n",
       " 'MODE_bureau_balance_bureau_SK_ID_CURR_']"
      ]
     },
     "execution_count": 193,
     "metadata": {},
     "output_type": "execute_result"
    }
   ],
   "source": [
    "[col for col in merged_df.columns if 'ID' in col]"
   ]
  },
  {
   "cell_type": "code",
   "execution_count": 194,
   "metadata": {},
   "outputs": [],
   "source": [
    "ignore_variables = [ 'MEDIAN(cc_balance.SK_ID_PREV)', 'MEDIAN(pos_cash_balance.SK_ID_PREV)',\n",
    "                    'MEDIAN(payments.SK_ID_PREV)', 'MODE(bureau_balance.bureau.SK_ID_CURR)']\n",
    "useful_variables = [var for var in merged_df.columns if var not in ignore_variables]"
   ]
  },
  {
   "cell_type": "code",
   "execution_count": 195,
   "metadata": {},
   "outputs": [],
   "source": [
    "from sklearn.model_selection import train_test_split"
   ]
  },
  {
   "cell_type": "code",
   "execution_count": 196,
   "metadata": {},
   "outputs": [],
   "source": [
    "# extracting train and test samples from the merged dataset\n",
    "data_train = merged_df.loc[merged_df['train']==1, useful_variables]\n",
    "data_train.drop(columns=['train'], inplace=True)\n",
    "data_test = merged_df.loc[merged_df['train']==0, useful_variables]\n",
    "data_test.drop(columns=['train'], inplace=True)\n",
    "data_test.drop(columns=['TARGET'], inplace=True)"
   ]
  },
  {
   "cell_type": "code",
   "execution_count": 197,
   "metadata": {},
   "outputs": [],
   "source": [
    "y = data_train['TARGET']"
   ]
  },
  {
   "cell_type": "code",
   "execution_count": 198,
   "metadata": {},
   "outputs": [],
   "source": [
    "X = data_train.drop(columns=['TARGET'])"
   ]
  },
  {
   "cell_type": "code",
   "execution_count": 199,
   "metadata": {},
   "outputs": [],
   "source": [
    "X_train, X_test, y_train, y_test = train_test_split(X, y, test_size=0.2, random_state=0)"
   ]
  },
  {
   "cell_type": "markdown",
   "metadata": {},
   "source": [
    "## Model fitting"
   ]
  },
  {
   "cell_type": "code",
   "execution_count": 200,
   "metadata": {},
   "outputs": [],
   "source": [
    "import lightgbm as lgb"
   ]
  },
  {
   "cell_type": "code",
   "execution_count": 201,
   "metadata": {},
   "outputs": [],
   "source": [
    "train_data = lgb.Dataset(X_train, label=y_train)\n",
    "val_data = lgb.Dataset(X_test, label=y_test)"
   ]
  },
  {
   "cell_type": "code",
   "execution_count": 202,
   "metadata": {},
   "outputs": [],
   "source": [
    "param = {'task': 'train', 'boosting_type': 'gbdt', 'objective': 'binary', 'metric': 'auc', \n",
    "          'learning_rate': 0.01, 'num_leaves': 60, 'num_iteration': 4000, 'verbose': 0 ,\n",
    "          'colsample_bytree':.8, 'subsample':0.8, 'max_depth': 10, 'reg_alpha':.1, 'reg_lambda':.1, \n",
    "          'min_split_gain':.01, 'min_child_weight':1}"
   ]
  },
  {
   "cell_type": "code",
   "execution_count": 203,
   "metadata": {},
   "outputs": [
    {
     "name": "stderr",
     "output_type": "stream",
     "text": [
      "C:\\Users\\paolo\\Anaconda3\\envs\\data_science\\lib\\site-packages\\lightgbm\\engine.py:148: UserWarning: Found `num_iteration` in params. Will use it instead of argument\n",
      "  warnings.warn(\"Found `{}` in params. Will use it instead of argument\".format(alias))\n"
     ]
    },
    {
     "name": "stdout",
     "output_type": "stream",
     "text": [
      "Training until validation scores don't improve for 300 rounds\n",
      "[200]\tvalid_0's auc: 0.755361\n",
      "[400]\tvalid_0's auc: 0.766266\n",
      "[600]\tvalid_0's auc: 0.771522\n",
      "[800]\tvalid_0's auc: 0.773783\n",
      "[1000]\tvalid_0's auc: 0.774886\n",
      "[1200]\tvalid_0's auc: 0.775486\n",
      "[1400]\tvalid_0's auc: 0.775782\n",
      "[1600]\tvalid_0's auc: 0.776001\n",
      "[1800]\tvalid_0's auc: 0.776229\n",
      "[2000]\tvalid_0's auc: 0.77621\n",
      "Early stopping, best iteration is:\n",
      "[1840]\tvalid_0's auc: 0.776251\n"
     ]
    }
   ],
   "source": [
    "bst = lgb.train(param, train_data, valid_sets=[val_data], early_stopping_rounds=300, verbose_eval=200)"
   ]
  },
  {
   "cell_type": "code",
   "execution_count": 204,
   "metadata": {},
   "outputs": [
    {
     "data": {
      "text/plain": [
       "<lightgbm.basic.Booster at 0x1be9c108bc8>"
      ]
     },
     "execution_count": 204,
     "metadata": {},
     "output_type": "execute_result"
    }
   ],
   "source": [
    "bst.save_model('model.txt')"
   ]
  },
  {
   "cell_type": "code",
   "execution_count": 234,
   "metadata": {},
   "outputs": [
    {
     "data": {
      "text/plain": [
       "<matplotlib.axes._subplots.AxesSubplot at 0x1bea276aa48>"
      ]
     },
     "execution_count": 234,
     "metadata": {},
     "output_type": "execute_result"
    },
    {
     "data": {
      "image/png": "[encoded data removed]",
      "text/plain": [
       "<Figure size 432x288 with 1 Axes>"
      ]
     },
     "metadata": {
      "needs_background": "light"
     },
     "output_type": "display_data"
    }
   ],
   "source": [
    "lgb.plot_importance(bst, max_num_features=15)"
   ]
  },
  {
   "cell_type": "markdown",
   "metadata": {},
   "source": [
    "## Predict"
   ]
  },
  {
   "cell_type": "code",
   "execution_count": 227,
   "metadata": {},
   "outputs": [],
   "source": [
    "preds = bst.predict(data_test, num_iteration=bst.best_iteration)"
   ]
  },
  {
   "cell_type": "code",
   "execution_count": 228,
   "metadata": {},
   "outputs": [
    {
     "data": {
      "text/plain": [
       "array([0.02949935, 0.11465106, 0.01648524, ..., 0.02563865, 0.0409653 ,\n",
       "       0.20498673])"
      ]
     },
     "execution_count": 228,
     "metadata": {},
     "output_type": "execute_result"
    }
   ],
   "source": [
    "preds"
   ]
  },
  {
   "cell_type": "code",
   "execution_count": 223,
   "metadata": {},
   "outputs": [],
   "source": [
    "res = preds >= 0.776251"
   ]
  },
  {
   "cell_type": "code",
   "execution_count": 224,
   "metadata": {
    "scrolled": true
   },
   "outputs": [],
   "source": [
    "res = res.astype(int)"
   ]
  },
  {
   "cell_type": "code",
   "execution_count": 225,
   "metadata": {},
   "outputs": [
    {
     "data": {
      "text/plain": [
       "array([], dtype=int32)"
      ]
     },
     "execution_count": 225,
     "metadata": {},
     "output_type": "execute_result"
    }
   ],
   "source": [
    "res[res==1]"
   ]
  },
  {
   "cell_type": "code",
   "execution_count": 229,
   "metadata": {},
   "outputs": [],
   "source": [
    "results = pd.DataFrame()\n",
    "results['SK_ID_CURR'] = data_test.index\n",
    "results['TARGET'] = preds\n",
    "results.to_csv(r'C:\\Users\\paolo\\Documents\\Data Science\\FDS\\home-credit-default-risk-FDS\\home-credit-default-risk\\preds\\results.csv', index=False)"
   ]
  },
  {
   "cell_type": "code",
   "execution_count": null,
   "metadata": {},
   "outputs": [],
   "source": []
  }
 ],
 "metadata": {
  "kernelspec": {
   "display_name": "Python 3",
   "language": "python",
   "name": "python3"
  },
  "language_info": {
   "codemirror_mode": {
    "name": "ipython",
    "version": 3
   },
   "file_extension": ".py",
   "mimetype": "text/x-python",
   "name": "python",
   "nbconvert_exporter": "python",
   "pygments_lexer": "ipython3",
   "version": "3.7.5"
  }
 },
 "nbformat": 4,
 "nbformat_minor": 2
}
